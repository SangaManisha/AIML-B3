{
  "nbformat": 4,
  "nbformat_minor": 0,
  "metadata": {
    "colab": {
      "provenance": [],
      "authorship_tag": "ABX9TyOmqOUnT/RbWKiULiSx80d4",
      "include_colab_link": true
    },
    "kernelspec": {
      "name": "python3",
      "display_name": "Python 3"
    },
    "language_info": {
      "name": "python"
    }
  },
  "cells": [
    {
      "cell_type": "markdown",
      "metadata": {
        "id": "view-in-github",
        "colab_type": "text"
      },
      "source": [
        "<a href=\"https://colab.research.google.com/github/SangaManisha/AIML-B3/blob/main/Aiml_project.ipynb\" target=\"_parent\"><img src=\"https://colab.research.google.com/assets/colab-badge.svg\" alt=\"Open In Colab\"/></a>"
      ]
    },
    {
      "cell_type": "code",
      "execution_count": 1,
      "metadata": {
        "colab": {
          "base_uri": "https://localhost:8080/"
        },
        "id": "l8sSmvFXpdTS",
        "outputId": "ab191bac-ee04-43af-dfea-cfbbea8c31db"
      },
      "outputs": [
        {
          "output_type": "stream",
          "name": "stdout",
          "text": [
            "                   STATE_UT_NAME        DISTRICT    JAN   FEB    MAR    APR  \\\n",
            "0    ANDAMAN And NICOBAR ISLANDS         NICOBAR  107.3  57.9   65.2  117.0   \n",
            "1    ANDAMAN And NICOBAR ISLANDS   SOUTH ANDAMAN   43.7  26.0   18.6   90.5   \n",
            "2    ANDAMAN And NICOBAR ISLANDS   N & M ANDAMAN   32.7  15.9    8.6   53.4   \n",
            "3              ARUNACHAL PRADESH           LOHIT   42.2  80.8  176.4  358.5   \n",
            "4              ARUNACHAL PRADESH      EAST SIANG   33.3  79.5  105.9  216.5   \n",
            "..                           ...             ...    ...   ...    ...    ...   \n",
            "636                       KERALA          IDUKKI   13.4  22.1   43.6  150.4   \n",
            "637                       KERALA        KASARGOD    2.3   1.0    8.4   46.9   \n",
            "638                       KERALA  PATHANAMTHITTA   19.8  45.2   73.9  184.9   \n",
            "639                       KERALA         WAYANAD    4.8   8.3   17.5   83.3   \n",
            "640                  LAKSHADWEEP     LAKSHADWEEP   20.8  14.7   11.8   48.9   \n",
            "\n",
            "       MAY    JUN     JUL    AUG    SEP    OCT    NOV    DEC  ANNUAL  Jan-Feb  \\\n",
            "0    358.5  295.5   285.0  271.9  354.8  326.0  315.2  250.9  2805.2    165.2   \n",
            "1    374.4  457.2   421.3  423.1  455.6  301.2  275.8  128.3  3015.7     69.7   \n",
            "2    343.6  503.3   465.4  460.9  454.8  276.1  198.6  100.0  2913.3     48.6   \n",
            "3    306.4  447.0   660.1  427.8  313.6  167.1   34.1   29.8  3043.8    123.0   \n",
            "4    323.0  738.3   990.9  711.2  568.0  206.9   29.5   31.7  4034.7    112.8   \n",
            "..     ...    ...     ...    ...    ...    ...    ...    ...     ...      ...   \n",
            "636  232.6  651.6   788.9  527.3  308.4  343.2  172.9   48.1  3302.5     35.5   \n",
            "637  217.6  999.6  1108.5  636.3  263.1  234.9   84.6   18.4  3621.6      3.3   \n",
            "638  294.7  556.9   539.9  352.7  266.2  359.4  213.5   51.3  2958.4     65.0   \n",
            "639  174.6  698.1  1110.4  592.9  230.7  213.1   93.6   25.8  3253.1     13.1   \n",
            "640  171.7  330.2   287.7  217.5  163.1  157.1  117.7   58.8  1600.0     35.5   \n",
            "\n",
            "     Mar-May  Jun-Sep  Oct-Dec  \n",
            "0      540.7   1207.2    892.1  \n",
            "1      483.5   1757.2    705.3  \n",
            "2      405.6   1884.4    574.7  \n",
            "3      841.3   1848.5    231.0  \n",
            "4      645.4   3008.4    268.1  \n",
            "..       ...      ...      ...  \n",
            "636    426.6   2276.2    564.2  \n",
            "637    272.9   3007.5    337.9  \n",
            "638    553.5   1715.7    624.2  \n",
            "639    275.4   2632.1    332.5  \n",
            "640    232.4    998.5    333.6  \n",
            "\n",
            "[641 rows x 19 columns]\n"
          ]
        }
      ],
      "source": [
        "import pandas as pd\n",
        "d=pd.read_csv('/content/district.csv')\n",
        "print(d)"
      ]
    },
    {
      "cell_type": "code",
      "source": [
        "y=d['ANNUAL']\n",
        "print(y)"
      ],
      "metadata": {
        "colab": {
          "base_uri": "https://localhost:8080/"
        },
        "id": "8Uxv9k0VqHqu",
        "outputId": "05079e2e-d250-4c14-ea5c-b3ac6e68e36c"
      },
      "execution_count": 2,
      "outputs": [
        {
          "output_type": "stream",
          "name": "stdout",
          "text": [
            "0      2805.2\n",
            "1      3015.7\n",
            "2      2913.3\n",
            "3      3043.8\n",
            "4      4034.7\n",
            "        ...  \n",
            "636    3302.5\n",
            "637    3621.6\n",
            "638    2958.4\n",
            "639    3253.1\n",
            "640    1600.0\n",
            "Name: ANNUAL, Length: 641, dtype: float64\n"
          ]
        }
      ]
    },
    {
      "cell_type": "code",
      "source": [
        "x=d.drop(columns=['ANNUAL'])\n",
        "print(x)\n",
        "x=x.drop(columns=['STATE_UT_NAME'])"
      ],
      "metadata": {
        "colab": {
          "base_uri": "https://localhost:8080/"
        },
        "id": "nAXmEtDwqMLP",
        "outputId": "87acb627-ece1-48e5-c474-3ddb0c269741"
      },
      "execution_count": 3,
      "outputs": [
        {
          "output_type": "stream",
          "name": "stdout",
          "text": [
            "                   STATE_UT_NAME        DISTRICT    JAN   FEB    MAR    APR  \\\n",
            "0    ANDAMAN And NICOBAR ISLANDS         NICOBAR  107.3  57.9   65.2  117.0   \n",
            "1    ANDAMAN And NICOBAR ISLANDS   SOUTH ANDAMAN   43.7  26.0   18.6   90.5   \n",
            "2    ANDAMAN And NICOBAR ISLANDS   N & M ANDAMAN   32.7  15.9    8.6   53.4   \n",
            "3              ARUNACHAL PRADESH           LOHIT   42.2  80.8  176.4  358.5   \n",
            "4              ARUNACHAL PRADESH      EAST SIANG   33.3  79.5  105.9  216.5   \n",
            "..                           ...             ...    ...   ...    ...    ...   \n",
            "636                       KERALA          IDUKKI   13.4  22.1   43.6  150.4   \n",
            "637                       KERALA        KASARGOD    2.3   1.0    8.4   46.9   \n",
            "638                       KERALA  PATHANAMTHITTA   19.8  45.2   73.9  184.9   \n",
            "639                       KERALA         WAYANAD    4.8   8.3   17.5   83.3   \n",
            "640                  LAKSHADWEEP     LAKSHADWEEP   20.8  14.7   11.8   48.9   \n",
            "\n",
            "       MAY    JUN     JUL    AUG    SEP    OCT    NOV    DEC  Jan-Feb  \\\n",
            "0    358.5  295.5   285.0  271.9  354.8  326.0  315.2  250.9    165.2   \n",
            "1    374.4  457.2   421.3  423.1  455.6  301.2  275.8  128.3     69.7   \n",
            "2    343.6  503.3   465.4  460.9  454.8  276.1  198.6  100.0     48.6   \n",
            "3    306.4  447.0   660.1  427.8  313.6  167.1   34.1   29.8    123.0   \n",
            "4    323.0  738.3   990.9  711.2  568.0  206.9   29.5   31.7    112.8   \n",
            "..     ...    ...     ...    ...    ...    ...    ...    ...      ...   \n",
            "636  232.6  651.6   788.9  527.3  308.4  343.2  172.9   48.1     35.5   \n",
            "637  217.6  999.6  1108.5  636.3  263.1  234.9   84.6   18.4      3.3   \n",
            "638  294.7  556.9   539.9  352.7  266.2  359.4  213.5   51.3     65.0   \n",
            "639  174.6  698.1  1110.4  592.9  230.7  213.1   93.6   25.8     13.1   \n",
            "640  171.7  330.2   287.7  217.5  163.1  157.1  117.7   58.8     35.5   \n",
            "\n",
            "     Mar-May  Jun-Sep  Oct-Dec  \n",
            "0      540.7   1207.2    892.1  \n",
            "1      483.5   1757.2    705.3  \n",
            "2      405.6   1884.4    574.7  \n",
            "3      841.3   1848.5    231.0  \n",
            "4      645.4   3008.4    268.1  \n",
            "..       ...      ...      ...  \n",
            "636    426.6   2276.2    564.2  \n",
            "637    272.9   3007.5    337.9  \n",
            "638    553.5   1715.7    624.2  \n",
            "639    275.4   2632.1    332.5  \n",
            "640    232.4    998.5    333.6  \n",
            "\n",
            "[641 rows x 18 columns]\n"
          ]
        }
      ]
    },
    {
      "cell_type": "code",
      "source": [
        "x=x.drop(columns=['DISTRICT'])\n",
        "print(x)"
      ],
      "metadata": {
        "colab": {
          "base_uri": "https://localhost:8080/"
        },
        "id": "6BB2-xOMqQsC",
        "outputId": "d91df529-0748-497e-ae83-c2a267c460cd"
      },
      "execution_count": 4,
      "outputs": [
        {
          "output_type": "stream",
          "name": "stdout",
          "text": [
            "       JAN   FEB    MAR    APR    MAY    JUN     JUL    AUG    SEP    OCT  \\\n",
            "0    107.3  57.9   65.2  117.0  358.5  295.5   285.0  271.9  354.8  326.0   \n",
            "1     43.7  26.0   18.6   90.5  374.4  457.2   421.3  423.1  455.6  301.2   \n",
            "2     32.7  15.9    8.6   53.4  343.6  503.3   465.4  460.9  454.8  276.1   \n",
            "3     42.2  80.8  176.4  358.5  306.4  447.0   660.1  427.8  313.6  167.1   \n",
            "4     33.3  79.5  105.9  216.5  323.0  738.3   990.9  711.2  568.0  206.9   \n",
            "..     ...   ...    ...    ...    ...    ...     ...    ...    ...    ...   \n",
            "636   13.4  22.1   43.6  150.4  232.6  651.6   788.9  527.3  308.4  343.2   \n",
            "637    2.3   1.0    8.4   46.9  217.6  999.6  1108.5  636.3  263.1  234.9   \n",
            "638   19.8  45.2   73.9  184.9  294.7  556.9   539.9  352.7  266.2  359.4   \n",
            "639    4.8   8.3   17.5   83.3  174.6  698.1  1110.4  592.9  230.7  213.1   \n",
            "640   20.8  14.7   11.8   48.9  171.7  330.2   287.7  217.5  163.1  157.1   \n",
            "\n",
            "       NOV    DEC  Jan-Feb  Mar-May  Jun-Sep  Oct-Dec  \n",
            "0    315.2  250.9    165.2    540.7   1207.2    892.1  \n",
            "1    275.8  128.3     69.7    483.5   1757.2    705.3  \n",
            "2    198.6  100.0     48.6    405.6   1884.4    574.7  \n",
            "3     34.1   29.8    123.0    841.3   1848.5    231.0  \n",
            "4     29.5   31.7    112.8    645.4   3008.4    268.1  \n",
            "..     ...    ...      ...      ...      ...      ...  \n",
            "636  172.9   48.1     35.5    426.6   2276.2    564.2  \n",
            "637   84.6   18.4      3.3    272.9   3007.5    337.9  \n",
            "638  213.5   51.3     65.0    553.5   1715.7    624.2  \n",
            "639   93.6   25.8     13.1    275.4   2632.1    332.5  \n",
            "640  117.7   58.8     35.5    232.4    998.5    333.6  \n",
            "\n",
            "[641 rows x 16 columns]\n"
          ]
        }
      ]
    },
    {
      "cell_type": "code",
      "source": [
        "print(x)\n",
        "print(y)"
      ],
      "metadata": {
        "colab": {
          "base_uri": "https://localhost:8080/"
        },
        "id": "CFE9w_GeqWY4",
        "outputId": "29f390b2-addb-4373-949a-fe9e775fa1a9"
      },
      "execution_count": 5,
      "outputs": [
        {
          "output_type": "stream",
          "name": "stdout",
          "text": [
            "       JAN   FEB    MAR    APR    MAY    JUN     JUL    AUG    SEP    OCT  \\\n",
            "0    107.3  57.9   65.2  117.0  358.5  295.5   285.0  271.9  354.8  326.0   \n",
            "1     43.7  26.0   18.6   90.5  374.4  457.2   421.3  423.1  455.6  301.2   \n",
            "2     32.7  15.9    8.6   53.4  343.6  503.3   465.4  460.9  454.8  276.1   \n",
            "3     42.2  80.8  176.4  358.5  306.4  447.0   660.1  427.8  313.6  167.1   \n",
            "4     33.3  79.5  105.9  216.5  323.0  738.3   990.9  711.2  568.0  206.9   \n",
            "..     ...   ...    ...    ...    ...    ...     ...    ...    ...    ...   \n",
            "636   13.4  22.1   43.6  150.4  232.6  651.6   788.9  527.3  308.4  343.2   \n",
            "637    2.3   1.0    8.4   46.9  217.6  999.6  1108.5  636.3  263.1  234.9   \n",
            "638   19.8  45.2   73.9  184.9  294.7  556.9   539.9  352.7  266.2  359.4   \n",
            "639    4.8   8.3   17.5   83.3  174.6  698.1  1110.4  592.9  230.7  213.1   \n",
            "640   20.8  14.7   11.8   48.9  171.7  330.2   287.7  217.5  163.1  157.1   \n",
            "\n",
            "       NOV    DEC  Jan-Feb  Mar-May  Jun-Sep  Oct-Dec  \n",
            "0    315.2  250.9    165.2    540.7   1207.2    892.1  \n",
            "1    275.8  128.3     69.7    483.5   1757.2    705.3  \n",
            "2    198.6  100.0     48.6    405.6   1884.4    574.7  \n",
            "3     34.1   29.8    123.0    841.3   1848.5    231.0  \n",
            "4     29.5   31.7    112.8    645.4   3008.4    268.1  \n",
            "..     ...    ...      ...      ...      ...      ...  \n",
            "636  172.9   48.1     35.5    426.6   2276.2    564.2  \n",
            "637   84.6   18.4      3.3    272.9   3007.5    337.9  \n",
            "638  213.5   51.3     65.0    553.5   1715.7    624.2  \n",
            "639   93.6   25.8     13.1    275.4   2632.1    332.5  \n",
            "640  117.7   58.8     35.5    232.4    998.5    333.6  \n",
            "\n",
            "[641 rows x 16 columns]\n",
            "0      2805.2\n",
            "1      3015.7\n",
            "2      2913.3\n",
            "3      3043.8\n",
            "4      4034.7\n",
            "        ...  \n",
            "636    3302.5\n",
            "637    3621.6\n",
            "638    2958.4\n",
            "639    3253.1\n",
            "640    1600.0\n",
            "Name: ANNUAL, Length: 641, dtype: float64\n"
          ]
        }
      ]
    },
    {
      "cell_type": "code",
      "source": [
        "from sklearn.model_selection import train_test_split"
      ],
      "metadata": {
        "id": "OqQ3gKVAqesP"
      },
      "execution_count": 6,
      "outputs": []
    },
    {
      "cell_type": "code",
      "source": [
        "print(x.shape)\n",
        "x_train,x_test,y_train,y_test=train_test_split(x,y,random_state=True,test_size=0.20)"
      ],
      "metadata": {
        "colab": {
          "base_uri": "https://localhost:8080/"
        },
        "id": "JFOtatbLqkYS",
        "outputId": "24d9207e-bd7a-4039-c3db-ceb573aa4fd1"
      },
      "execution_count": 7,
      "outputs": [
        {
          "output_type": "stream",
          "name": "stdout",
          "text": [
            "(641, 16)\n"
          ]
        }
      ]
    },
    {
      "cell_type": "code",
      "source": [
        "from sklearn.linear_model import LinearRegression"
      ],
      "metadata": {
        "id": "5wvgEICaqqIx"
      },
      "execution_count": 8,
      "outputs": []
    },
    {
      "cell_type": "code",
      "source": [
        "lr=LinearRegression()"
      ],
      "metadata": {
        "id": "d0I-yRcFquvt"
      },
      "execution_count": 9,
      "outputs": []
    },
    {
      "cell_type": "code",
      "source": [
        "mm=lr.fit(x_train,y_train)"
      ],
      "metadata": {
        "id": "bRS7Ia8tqy1j"
      },
      "execution_count": 10,
      "outputs": []
    },
    {
      "cell_type": "code",
      "source": [
        "yp=mm.predict(x_test)"
      ],
      "metadata": {
        "id": "0oQKtWdeq5VR"
      },
      "execution_count": 11,
      "outputs": []
    },
    {
      "cell_type": "code",
      "source": [
        "print(yp)"
      ],
      "metadata": {
        "colab": {
          "base_uri": "https://localhost:8080/"
        },
        "id": "ToZUsEN9q5N8",
        "outputId": "2fb84b30-fbc7-4be9-87e0-6e54d020785b"
      },
      "execution_count": 12,
      "outputs": [
        {
          "output_type": "stream",
          "name": "stdout",
          "text": [
            "[1233.9 1223.4 1327.9 1057.6 2641.8  646.5  961.1 1070.6  485.7 1122.9\n",
            " 1029.6 3470.6 1209.3  308.1 2958.4  498.  2814.4 1796.5 1068.5  646.1\n",
            " 2440.7 1973.9 1081.4 2859.3 1293.1 3468.3  898.2  992.9 1235.7 1535.5\n",
            " 3094.5  966.7  793.4  449.2  747.1  544.  1803.2  818.   508.1 3218.7\n",
            "  746.9 2480.6  839.2 1336.5  460.6 1533.5 6379.9 1003.3  837.  1087.7\n",
            " 2127.5  622.8 1123.6  685.6 1366.2 1680.7 1481.6  788.4  777.  2512.6\n",
            "  992.2  747.1 1336.5  388.8  863.6 2805.2 1416.2  708.4 1293.3  902.6\n",
            "  974.9  747.1 1474.3  613.9  449.4  700.4 2731.1 1921.1  807.8 2123.9\n",
            " 1528.2  655.  1091.6 1618.3 3302.5  572.  1146.8 1385.5 1148.6 1109.9\n",
            " 2374.1  886.1 2116.9  818.7  897.4 2098.  1005.6  419.5  714.4 1363.3\n",
            " 1448.3  936.2 1155.4 1062.7  871.5  720.  1008.4  455.6 1192.2 1191.5\n",
            " 2814.4  986.3  963.9  252.9  850.1 1229.  1104.7  301.6 1474.1 3399.4\n",
            " 1010.8 1504.4 1530.9 1392.7 1584.9 1462.1  692.7 2556.6 1206.7]\n"
          ]
        }
      ]
    },
    {
      "cell_type": "code",
      "source": [
        "from sklearn.metrics import mean_squared_error\n",
        "print(mean_squared_error(yp,y_test))"
      ],
      "metadata": {
        "colab": {
          "base_uri": "https://localhost:8080/"
        },
        "id": "0NxcOQOkq_Ya",
        "outputId": "504ccf44-d02e-435a-a996-27a9d37d7c12"
      },
      "execution_count": 13,
      "outputs": [
        {
          "output_type": "stream",
          "name": "stdout",
          "text": [
            "2.862281872213113e-25\n"
          ]
        }
      ]
    },
    {
      "cell_type": "code",
      "source": [
        "from sklearn.metrics import mean_absolute_error\n",
        "print(mean_absolute_error(yp,y_test))"
      ],
      "metadata": {
        "colab": {
          "base_uri": "https://localhost:8080/"
        },
        "id": "ZuXOAMkGrDVY",
        "outputId": "0af4bdd8-78ac-4c7e-8b12-0d81f7dfe6b2"
      },
      "execution_count": 14,
      "outputs": [
        {
          "output_type": "stream",
          "name": "stdout",
          "text": [
            "3.615505827542091e-13\n"
          ]
        }
      ]
    },
    {
      "cell_type": "code",
      "source": [
        "mse = mean_squared_error(y_test, yp)\n",
        "print(\"Mean Squared Error:\", mse)"
      ],
      "metadata": {
        "colab": {
          "base_uri": "https://localhost:8080/"
        },
        "id": "mrUqGFibrHv9",
        "outputId": "a0cbd9d6-6663-4e24-8890-4653b66ff135"
      },
      "execution_count": 15,
      "outputs": [
        {
          "output_type": "stream",
          "name": "stdout",
          "text": [
            "Mean Squared Error: 2.862281872213113e-25\n"
          ]
        }
      ]
    },
    {
      "cell_type": "code",
      "source": [
        "mae = mean_absolute_error(y_test, yp)\n",
        "print(\"Mean Absolute Error:\", mae)"
      ],
      "metadata": {
        "colab": {
          "base_uri": "https://localhost:8080/"
        },
        "id": "HVOcr8zxrOq2",
        "outputId": "f9c7e374-bd8e-47d4-e784-dfa17ea3bf38"
      },
      "execution_count": 16,
      "outputs": [
        {
          "output_type": "stream",
          "name": "stdout",
          "text": [
            "Mean Absolute Error: 3.615505827542091e-13\n"
          ]
        }
      ]
    },
    {
      "cell_type": "code",
      "source": [
        "from sklearn.tree import DecisionTreeRegressor"
      ],
      "metadata": {
        "id": "EpC5CGs_rQb5"
      },
      "execution_count": 17,
      "outputs": []
    },
    {
      "cell_type": "code",
      "source": [
        "dt = DecisionTreeRegressor()"
      ],
      "metadata": {
        "id": "bYTMvYHlrUbQ"
      },
      "execution_count": 18,
      "outputs": []
    },
    {
      "cell_type": "code",
      "source": [
        "dt.fit(x_train,y_train)"
      ],
      "metadata": {
        "colab": {
          "base_uri": "https://localhost:8080/",
          "height": 74
        },
        "id": "iQJ3CfnIrX0l",
        "outputId": "787a2ea4-5faf-4361-8bf7-389c8bdda5bc"
      },
      "execution_count": 19,
      "outputs": [
        {
          "output_type": "execute_result",
          "data": {
            "text/plain": [
              "DecisionTreeRegressor()"
            ],
            "text/html": [
              "<style>#sk-container-id-1 {color: black;background-color: white;}#sk-container-id-1 pre{padding: 0;}#sk-container-id-1 div.sk-toggleable {background-color: white;}#sk-container-id-1 label.sk-toggleable__label {cursor: pointer;display: block;width: 100%;margin-bottom: 0;padding: 0.3em;box-sizing: border-box;text-align: center;}#sk-container-id-1 label.sk-toggleable__label-arrow:before {content: \"▸\";float: left;margin-right: 0.25em;color: #696969;}#sk-container-id-1 label.sk-toggleable__label-arrow:hover:before {color: black;}#sk-container-id-1 div.sk-estimator:hover label.sk-toggleable__label-arrow:before {color: black;}#sk-container-id-1 div.sk-toggleable__content {max-height: 0;max-width: 0;overflow: hidden;text-align: left;background-color: #f0f8ff;}#sk-container-id-1 div.sk-toggleable__content pre {margin: 0.2em;color: black;border-radius: 0.25em;background-color: #f0f8ff;}#sk-container-id-1 input.sk-toggleable__control:checked~div.sk-toggleable__content {max-height: 200px;max-width: 100%;overflow: auto;}#sk-container-id-1 input.sk-toggleable__control:checked~label.sk-toggleable__label-arrow:before {content: \"▾\";}#sk-container-id-1 div.sk-estimator input.sk-toggleable__control:checked~label.sk-toggleable__label {background-color: #d4ebff;}#sk-container-id-1 div.sk-label input.sk-toggleable__control:checked~label.sk-toggleable__label {background-color: #d4ebff;}#sk-container-id-1 input.sk-hidden--visually {border: 0;clip: rect(1px 1px 1px 1px);clip: rect(1px, 1px, 1px, 1px);height: 1px;margin: -1px;overflow: hidden;padding: 0;position: absolute;width: 1px;}#sk-container-id-1 div.sk-estimator {font-family: monospace;background-color: #f0f8ff;border: 1px dotted black;border-radius: 0.25em;box-sizing: border-box;margin-bottom: 0.5em;}#sk-container-id-1 div.sk-estimator:hover {background-color: #d4ebff;}#sk-container-id-1 div.sk-parallel-item::after {content: \"\";width: 100%;border-bottom: 1px solid gray;flex-grow: 1;}#sk-container-id-1 div.sk-label:hover label.sk-toggleable__label {background-color: #d4ebff;}#sk-container-id-1 div.sk-serial::before {content: \"\";position: absolute;border-left: 1px solid gray;box-sizing: border-box;top: 0;bottom: 0;left: 50%;z-index: 0;}#sk-container-id-1 div.sk-serial {display: flex;flex-direction: column;align-items: center;background-color: white;padding-right: 0.2em;padding-left: 0.2em;position: relative;}#sk-container-id-1 div.sk-item {position: relative;z-index: 1;}#sk-container-id-1 div.sk-parallel {display: flex;align-items: stretch;justify-content: center;background-color: white;position: relative;}#sk-container-id-1 div.sk-item::before, #sk-container-id-1 div.sk-parallel-item::before {content: \"\";position: absolute;border-left: 1px solid gray;box-sizing: border-box;top: 0;bottom: 0;left: 50%;z-index: -1;}#sk-container-id-1 div.sk-parallel-item {display: flex;flex-direction: column;z-index: 1;position: relative;background-color: white;}#sk-container-id-1 div.sk-parallel-item:first-child::after {align-self: flex-end;width: 50%;}#sk-container-id-1 div.sk-parallel-item:last-child::after {align-self: flex-start;width: 50%;}#sk-container-id-1 div.sk-parallel-item:only-child::after {width: 0;}#sk-container-id-1 div.sk-dashed-wrapped {border: 1px dashed gray;margin: 0 0.4em 0.5em 0.4em;box-sizing: border-box;padding-bottom: 0.4em;background-color: white;}#sk-container-id-1 div.sk-label label {font-family: monospace;font-weight: bold;display: inline-block;line-height: 1.2em;}#sk-container-id-1 div.sk-label-container {text-align: center;}#sk-container-id-1 div.sk-container {/* jupyter's `normalize.less` sets `[hidden] { display: none; }` but bootstrap.min.css set `[hidden] { display: none !important; }` so we also need the `!important` here to be able to override the default hidden behavior on the sphinx rendered scikit-learn.org. See: https://github.com/scikit-learn/scikit-learn/issues/21755 */display: inline-block !important;position: relative;}#sk-container-id-1 div.sk-text-repr-fallback {display: none;}</style><div id=\"sk-container-id-1\" class=\"sk-top-container\"><div class=\"sk-text-repr-fallback\"><pre>DecisionTreeRegressor()</pre><b>In a Jupyter environment, please rerun this cell to show the HTML representation or trust the notebook. <br />On GitHub, the HTML representation is unable to render, please try loading this page with nbviewer.org.</b></div><div class=\"sk-container\" hidden><div class=\"sk-item\"><div class=\"sk-estimator sk-toggleable\"><input class=\"sk-toggleable__control sk-hidden--visually\" id=\"sk-estimator-id-1\" type=\"checkbox\" checked><label for=\"sk-estimator-id-1\" class=\"sk-toggleable__label sk-toggleable__label-arrow\">DecisionTreeRegressor</label><div class=\"sk-toggleable__content\"><pre>DecisionTreeRegressor()</pre></div></div></div></div></div>"
            ]
          },
          "metadata": {},
          "execution_count": 19
        }
      ]
    },
    {
      "cell_type": "code",
      "source": [
        "yp = dt.predict(x_test)"
      ],
      "metadata": {
        "id": "0rm8OPDmrcio"
      },
      "execution_count": 20,
      "outputs": []
    },
    {
      "cell_type": "code",
      "source": [
        "mae = mean_absolute_error(y_test, yp)\n",
        "print(\"Mean Absolute Error:\", mae)"
      ],
      "metadata": {
        "colab": {
          "base_uri": "https://localhost:8080/"
        },
        "id": "emGTNDWXrhHb",
        "outputId": "60eb1c49-f364-4cf8-9cf3-4ce6cdabc077"
      },
      "execution_count": 21,
      "outputs": [
        {
          "output_type": "stream",
          "name": "stdout",
          "text": [
            "Mean Absolute Error: 80.28062015503876\n"
          ]
        }
      ]
    },
    {
      "cell_type": "code",
      "source": [
        "mse = mean_squared_error(y_test, yp)\n",
        "print(\"Mean Squared Error:\", mse)"
      ],
      "metadata": {
        "colab": {
          "base_uri": "https://localhost:8080/"
        },
        "id": "2WV5HGzhrndY",
        "outputId": "0feaf330-730b-4a3b-9e24-1bda0bafd27e"
      },
      "execution_count": 22,
      "outputs": [
        {
          "output_type": "stream",
          "name": "stdout",
          "text": [
            "Mean Squared Error: 21320.349612403097\n"
          ]
        }
      ]
    },
    {
      "cell_type": "code",
      "source": [
        "from sklearn.metrics import mean_absolute_error\n",
        "print(mean_absolute_error(yp,y_test))"
      ],
      "metadata": {
        "colab": {
          "base_uri": "https://localhost:8080/"
        },
        "id": "4W8DPrq6rsxW",
        "outputId": "789e0152-7e29-4052-961f-ef86c8c9b5cf"
      },
      "execution_count": 23,
      "outputs": [
        {
          "output_type": "stream",
          "name": "stdout",
          "text": [
            "80.28062015503876\n"
          ]
        }
      ]
    },
    {
      "cell_type": "code",
      "source": [
        "from sklearn.metrics import mean_squared_error\n",
        "print(mean_squared_error(yp,y_test))"
      ],
      "metadata": {
        "colab": {
          "base_uri": "https://localhost:8080/"
        },
        "id": "bUOsYrUArxKe",
        "outputId": "41ff6423-24eb-4984-e9ec-13393ae0cc5e"
      },
      "execution_count": 24,
      "outputs": [
        {
          "output_type": "stream",
          "name": "stdout",
          "text": [
            "21320.349612403097\n"
          ]
        }
      ]
    },
    {
      "cell_type": "code",
      "source": [
        "from sklearn.tree import DecisionTreeRegressor\n",
        "model=DecisionTreeRegressor()\n",
        "model.fit(x_train,y_train)\n",
        "yp=model.predict(x_test)\n",
        "print(yp)\n",
        "from sklearn.metrics import mean_squared_error\n",
        "print(mean_squared_error(y_test,yp))\n",
        "from sklearn import tree\n",
        "tree.plot_tree(model,filled=True)"
      ],
      "metadata": {
        "colab": {
          "base_uri": "https://localhost:8080/"
        },
        "id": "1mzhcxEqr1qG",
        "outputId": "88d18b9e-2d9d-46d1-8ea8-d77083c879b4"
      },
      "execution_count": null,
      "outputs": [
        {
          "output_type": "stream",
          "name": "stdout",
          "text": [
            "[1154.5 1143.7 1304.7 1083.1 2575.3  716.9  979.4 1112.5  534.6 1120.\n",
            "  959.3 3915.8 1160.1  268.6 2660.   401.4 2814.4 2150.9 1095.9  624.1\n",
            " 2485.3 1997.1 1084.8 2859.3 1293.1 3443.7  890.7  949.6 1313.9 1600.\n",
            " 3094.5 1003.9  850.7  415.6  747.1  534.6 1341.   861.9  554.5 3218.7\n",
            "  811.9 2557.6  820.6 1336.5  489.  1533.5 3772.2  975.4  883.7 1084.8\n",
            " 2553.3  572.7 1090.7  721.7 1385.  1977.5 1544.4  731.1  765.5 1957.8\n",
            "  959.3  747.1 1336.5  401.4  890.7 2168.6 1197.1  716.2 1269.9  921.2\n",
            "  968.1  747.1 1472.   639.7  419.8  671.7 2814.4 2030.9  656.3 1743.7\n",
            " 1533.5  820.1 1336.5 2019.8 3063.1  554.5 1146.8 1404.5 1148.6 1143.9\n",
            " 2374.1  883.  1660.1  969.6  885.9 2168.6  933.1  401.4  721.7 1392.8\n",
            " 1448.3  890.7 1196.  1051.5  834.5  820.1  975.4  419.8 1152.6 1196.\n",
            " 2814.4 1003.9  949.6  274.   816.3 1313.9 1107.   274.  1088.1 3399.4\n",
            "  975.4 1336.5 2030.9 1269.9 1660.7 1286.3  752.7 2582.2 1336.5]\n",
            "76197.65255813953\n"
          ]
        },
        {
          "output_type": "execute_result",
          "data": {
            "text/plain": [
              "[Text(0.7193511172567157, 0.9772727272727273, 'x[5] <= 372.45\\nsquared_error = 686458.553\\nsamples = 512\\nvalue = 1344.987'),\n",
              " Text(0.4867769732685427, 0.9318181818181818, 'x[14] <= 954.1\\nsquared_error = 154738.636\\nsamples = 441\\nvalue = 1073.055'),\n",
              " Text(0.18970569574199228, 0.8863636363636364, 'x[9] <= 24.0\\nsquared_error = 55951.954\\nsamples = 283\\nvalue = 851.129'),\n",
              " Text(0.05971717401181281, 0.8409090909090909, 'x[14] <= 507.0\\nsquared_error = 36249.362\\nsamples = 66\\nvalue = 588.702'),\n",
              " Text(0.017378464334393457, 0.7954545454545454, 'x[5] <= 21.2\\nsquared_error = 12837.215\\nsamples = 27\\nvalue = 405.404'),\n",
              " Text(0.003634711494775102, 0.75, 'x[7] <= 19.05\\nsquared_error = 2870.629\\nsamples = 3\\nvalue = 166.367'),\n",
              " Text(0.001817355747387551, 0.7045454545454546, 'squared_error = 0.0\\nsamples = 1\\nvalue = 94.6'),\n",
              " Text(0.005452067242162653, 0.7045454545454546, 'x[10] <= 11.05\\nsquared_error = 443.102\\nsamples = 2\\nvalue = 202.25'),\n",
              " Text(0.003634711494775102, 0.6590909090909091, 'squared_error = 0.0\\nsamples = 1\\nvalue = 181.2'),\n",
              " Text(0.007269422989550204, 0.6590909090909091, 'squared_error = 0.0\\nsamples = 1\\nvalue = 223.3'),\n",
              " Text(0.031122217174011813, 0.75, 'x[7] <= 133.1\\nsquared_error = 6047.908\\nsamples = 24\\nvalue = 435.283'),\n",
              " Text(0.014538845979100408, 0.7045454545454546, 'x[15] <= 11.3\\nsquared_error = 3907.095\\nsamples = 13\\nvalue = 381.562'),\n",
              " Text(0.010904134484325307, 0.6590909090909091, 'x[2] <= 4.0\\nsquared_error = 7.29\\nsamples = 2\\nvalue = 271.3'),\n",
              " Text(0.009086778736937756, 0.6136363636363636, 'squared_error = 0.0\\nsamples = 1\\nvalue = 268.6'),\n",
              " Text(0.012721490231712857, 0.6136363636363636, 'squared_error = 0.0\\nsamples = 1\\nvalue = 274.0'),\n",
              " Text(0.01817355747387551, 0.6590909090909091, 'x[14] <= 196.75\\nsquared_error = 2003.772\\nsamples = 11\\nvalue = 401.609'),\n",
              " Text(0.01635620172648796, 0.6136363636363636, 'squared_error = 0.0\\nsamples = 1\\nvalue = 504.6'),\n",
              " Text(0.019990913221263062, 0.6136363636363636, 'x[7] <= 102.75\\nsquared_error = 1037.365\\nsamples = 10\\nvalue = 391.31'),\n",
              " Text(0.013630168105406633, 0.5681818181818182, 'x[14] <= 262.55\\nsquared_error = 642.602\\nsamples = 3\\nvalue = 349.233'),\n",
              " Text(0.011812812358019082, 0.5227272727272727, 'squared_error = 0.0\\nsamples = 1\\nvalue = 313.5'),\n",
              " Text(0.015447523852794184, 0.5227272727272727, 'x[4] <= 15.65\\nsquared_error = 6.25\\nsamples = 2\\nvalue = 367.1'),\n",
              " Text(0.013630168105406633, 0.4772727272727273, 'squared_error = 0.0\\nsamples = 1\\nvalue = 364.6'),\n",
              " Text(0.017264879600181735, 0.4772727272727273, 'squared_error = 0.0\\nsamples = 1\\nvalue = 369.6'),\n",
              " Text(0.026351658337119492, 0.5681818181818182, 'x[8] <= 63.9\\nsquared_error = 122.602\\nsamples = 7\\nvalue = 409.343'),\n",
              " Text(0.02271694684234439, 0.5227272727272727, 'x[3] <= 7.7\\nsquared_error = 24.332\\nsamples = 4\\nvalue = 400.725'),\n",
              " Text(0.020899591094956836, 0.4772727272727273, 'x[15] <= 17.4\\nsquared_error = 9.562\\nsamples = 3\\nvalue = 398.333'),\n",
              " Text(0.019082235347569285, 0.4318181818181818, 'squared_error = 0.0\\nsamples = 1\\nvalue = 394.1'),\n",
              " Text(0.02271694684234439, 0.4318181818181818, 'x[9] <= 12.1\\nsquared_error = 0.902\\nsamples = 2\\nvalue = 400.45'),\n",
              " Text(0.020899591094956836, 0.38636363636363635, 'squared_error = 0.0\\nsamples = 1\\nvalue = 399.5'),\n",
              " Text(0.02453430258973194, 0.38636363636363635, 'squared_error = -0.0\\nsamples = 1\\nvalue = 401.4'),\n",
              " Text(0.02453430258973194, 0.4772727272727273, 'squared_error = -0.0\\nsamples = 1\\nvalue = 407.9'),\n",
              " Text(0.029986369831894594, 0.5227272727272727, 'x[3] <= 4.3\\nsquared_error = 22.576\\nsamples = 3\\nvalue = 420.833'),\n",
              " Text(0.028169014084507043, 0.4772727272727273, 'squared_error = 0.0\\nsamples = 1\\nvalue = 427.1'),\n",
              " Text(0.03180372557928214, 0.4772727272727273, 'x[7] <= 113.3\\nsquared_error = 4.41\\nsamples = 2\\nvalue = 417.7'),\n",
              " Text(0.029986369831894594, 0.4318181818181818, 'squared_error = 0.0\\nsamples = 1\\nvalue = 415.6'),\n",
              " Text(0.033621081326669695, 0.4318181818181818, 'squared_error = -0.0\\nsamples = 1\\nvalue = 419.8'),\n",
              " Text(0.04770558836892322, 0.7045454545454546, 'x[14] <= 436.3\\nsquared_error = 1136.293\\nsamples = 11\\nvalue = 498.773'),\n",
              " Text(0.04179918218991367, 0.6590909090909091, 'x[5] <= 41.45\\nsquared_error = 231.702\\nsamples = 8\\nvalue = 480.0'),\n",
              " Text(0.0372557928214448, 0.6136363636363636, 'x[5] <= 37.55\\nsquared_error = 77.762\\nsamples = 3\\nvalue = 496.767'),\n",
              " Text(0.03543843707405725, 0.5681818181818182, 'x[2] <= 7.45\\nsquared_error = 2.56\\nsamples = 2\\nvalue = 490.6'),\n",
              " Text(0.033621081326669695, 0.5227272727272727, 'squared_error = 0.0\\nsamples = 1\\nvalue = 492.2'),\n",
              " Text(0.0372557928214448, 0.5227272727272727, 'squared_error = -0.0\\nsamples = 1\\nvalue = 489.0'),\n",
              " Text(0.03907314856883235, 0.5681818181818182, 'squared_error = 0.0\\nsamples = 1\\nvalue = 509.1'),\n",
              " Text(0.046342571558382555, 0.6136363636363636, 'x[13] <= 30.0\\nsquared_error = 54.19\\nsamples = 5\\nvalue = 469.94'),\n",
              " Text(0.04270786006360745, 0.5681818181818182, 'x[4] <= 8.7\\nsquared_error = 3.149\\nsamples = 3\\nvalue = 464.167'),\n",
              " Text(0.0408905043162199, 0.5227272727272727, 'squared_error = 0.0\\nsamples = 1\\nvalue = 466.5'),\n",
              " Text(0.044525215810995, 0.5227272727272727, 'x[11] <= 2.4\\nsquared_error = 0.64\\nsamples = 2\\nvalue = 463.0'),\n",
              " Text(0.04270786006360745, 0.4772727272727273, 'squared_error = 0.0\\nsamples = 1\\nvalue = 462.2'),\n",
              " Text(0.046342571558382555, 0.4772727272727273, 'squared_error = 0.0\\nsamples = 1\\nvalue = 463.8'),\n",
              " Text(0.049977283053157656, 0.5681818181818182, 'x[8] <= 56.6\\nsquared_error = 5.76\\nsamples = 2\\nvalue = 478.6'),\n",
              " Text(0.0481599273057701, 0.5227272727272727, 'squared_error = 0.0\\nsamples = 1\\nvalue = 476.2'),\n",
              " Text(0.051794638800545204, 0.5227272727272727, 'squared_error = -0.0\\nsamples = 1\\nvalue = 481.0'),\n",
              " Text(0.05361199454793276, 0.6590909090909091, 'x[8] <= 83.35\\nsquared_error = 102.696\\nsamples = 3\\nvalue = 548.833'),\n",
              " Text(0.051794638800545204, 0.6136363636363636, 'squared_error = 0.0\\nsamples = 1\\nvalue = 534.6'),\n",
              " Text(0.05542935029532031, 0.6136363636363636, 'x[0] <= 11.15\\nsquared_error = 2.102\\nsamples = 2\\nvalue = 555.95'),\n",
              " Text(0.05361199454793276, 0.5681818181818182, 'squared_error = 0.0\\nsamples = 1\\nvalue = 554.5'),\n",
              " Text(0.05724670604270786, 0.5681818181818182, 'squared_error = -0.0\\nsamples = 1\\nvalue = 557.4'),\n",
              " Text(0.10205588368923217, 0.7954545454545454, 'x[14] <= 722.05\\nsquared_error = 13094.331\\nsamples = 39\\nvalue = 715.6'),\n",
              " Text(0.08780099954566106, 0.75, 'x[14] <= 613.65\\nsquared_error = 4438.555\\nsamples = 33\\nvalue = 679.227'),\n",
              " Text(0.07746478873239436, 0.7045454545454546, 'x[3] <= 9.7\\nsquared_error = 2072.287\\nsamples = 19\\nvalue = 633.821'),\n",
              " Text(0.06951385733757383, 0.6590909090909091, 'x[7] <= 186.15\\nsquared_error = 1194.884\\nsamples = 15\\nvalue = 616.76'),\n",
              " Text(0.06269877328487052, 0.6136363636363636, 'x[9] <= 13.45\\nsquared_error = 455.783\\nsamples = 4\\nvalue = 573.85'),\n",
              " Text(0.06088141753748296, 0.5681818181818182, 'squared_error = 0.0\\nsamples = 1\\nvalue = 539.6'),\n",
              " Text(0.06451612903225806, 0.5681818181818182, 'x[5] <= 80.0\\nsquared_error = 86.349\\nsamples = 3\\nvalue = 585.267'),\n",
              " Text(0.06269877328487052, 0.5227272727272727, 'squared_error = 0.0\\nsamples = 1\\nvalue = 598.4'),\n",
              " Text(0.06633348477964561, 0.5227272727272727, 'x[6] <= 197.6\\nsquared_error = 0.16\\nsamples = 2\\nvalue = 578.7'),\n",
              " Text(0.06451612903225806, 0.4772727272727273, 'squared_error = 0.0\\nsamples = 1\\nvalue = 578.3'),\n",
              " Text(0.06815084052703317, 0.4772727272727273, 'squared_error = -0.0\\nsamples = 1\\nvalue = 579.1'),\n",
              " Text(0.07632894139027714, 0.6136363636363636, 'x[10] <= 3.05\\nsquared_error = 550.622\\nsamples = 11\\nvalue = 632.364'),\n",
              " Text(0.0745115856428896, 0.5681818181818182, 'squared_error = 0.0\\nsamples = 1\\nvalue = 577.2'),\n",
              " Text(0.0781462971376647, 0.5681818181818182, 'x[6] <= 226.2\\nsquared_error = 270.952\\nsamples = 10\\nvalue = 637.88'),\n",
              " Text(0.07632894139027714, 0.5227272727272727, 'x[6] <= 194.25\\nsquared_error = 132.775\\nsamples = 9\\nvalue = 633.778'),\n",
              " Text(0.07178555202180827, 0.4772727272727273, 'x[9] <= 15.55\\nsquared_error = 6.202\\nsamples = 3\\nvalue = 621.067'),\n",
              " Text(0.06996819627442072, 0.4318181818181818, 'squared_error = 0.0\\nsamples = 1\\nvalue = 618.0'),\n",
              " Text(0.07360290776919581, 0.4318181818181818, 'x[8] <= 94.6\\nsquared_error = 2.25\\nsamples = 2\\nvalue = 622.6'),\n",
              " Text(0.07178555202180827, 0.38636363636363635, 'squared_error = 0.0\\nsamples = 1\\nvalue = 624.1'),\n",
              " Text(0.07542026351658337, 0.38636363636363635, 'squared_error = -0.0\\nsamples = 1\\nvalue = 621.1'),\n",
              " Text(0.08087233075874603, 0.4772727272727273, 'x[5] <= 42.75\\nsquared_error = 74.882\\nsamples = 6\\nvalue = 640.133'),\n",
              " Text(0.07905497501135847, 0.4318181818181818, 'squared_error = 0.0\\nsamples = 1\\nvalue = 655.9'),\n",
              " Text(0.08268968650613358, 0.4318181818181818, 'x[7] <= 210.9\\nsquared_error = 30.198\\nsamples = 5\\nvalue = 636.98'),\n",
              " Text(0.07905497501135847, 0.38636363636363635, 'x[11] <= 5.25\\nsquared_error = 4.309\\nsamples = 3\\nvalue = 641.267'),\n",
              " Text(0.07723761926397092, 0.3409090909090909, 'x[15] <= 29.0\\nsquared_error = 0.01\\nsamples = 2\\nvalue = 639.8'),\n",
              " Text(0.07542026351658337, 0.29545454545454547, 'squared_error = 0.0\\nsamples = 1\\nvalue = 639.7'),\n",
              " Text(0.07905497501135847, 0.29545454545454547, 'squared_error = 0.0\\nsamples = 1\\nvalue = 639.9'),\n",
              " Text(0.08087233075874603, 0.3409090909090909, 'squared_error = 0.0\\nsamples = 1\\nvalue = 644.2'),\n",
              " Text(0.08632439800090867, 0.38636363636363635, 'x[15] <= 26.15\\nsquared_error = 0.123\\nsamples = 2\\nvalue = 630.55'),\n",
              " Text(0.08450704225352113, 0.3409090909090909, 'squared_error = 0.0\\nsamples = 1\\nvalue = 630.2'),\n",
              " Text(0.08814175374829623, 0.3409090909090909, 'squared_error = 0.0\\nsamples = 1\\nvalue = 630.9'),\n",
              " Text(0.07996365288505225, 0.5227272727272727, 'squared_error = -0.0\\nsamples = 1\\nvalue = 674.8'),\n",
              " Text(0.0854157201272149, 0.6590909090909091, 'x[15] <= 44.4\\nsquared_error = 177.695\\nsamples = 4\\nvalue = 697.8'),\n",
              " Text(0.08359836437982734, 0.6136363636363636, 'x[14] <= 555.05\\nsquared_error = 35.287\\nsamples = 3\\nvalue = 690.7'),\n",
              " Text(0.0817810086324398, 0.5681818181818182, 'squared_error = 0.0\\nsamples = 1\\nvalue = 683.1'),\n",
              " Text(0.0854157201272149, 0.5681818181818182, 'x[3] <= 10.25\\nsquared_error = 9.61\\nsamples = 2\\nvalue = 694.5'),\n",
              " Text(0.08359836437982734, 0.5227272727272727, 'squared_error = 0.0\\nsamples = 1\\nvalue = 691.4'),\n",
              " Text(0.08723307587460245, 0.5227272727272727, 'squared_error = 0.0\\nsamples = 1\\nvalue = 697.6'),\n",
              " Text(0.08723307587460245, 0.6136363636363636, 'squared_error = 0.0\\nsamples = 1\\nvalue = 719.1'),\n",
              " Text(0.09813721035892777, 0.7045454545454546, 'x[9] <= 17.55\\nsquared_error = 1054.504\\nsamples = 14\\nvalue = 740.85'),\n",
              " Text(0.09268514311676511, 0.6590909090909091, 'x[2] <= 2.55\\nsquared_error = 133.307\\nsamples = 3\\nvalue = 693.2'),\n",
              " Text(0.09086778736937756, 0.6136363636363636, 'squared_error = 0.0\\nsamples = 1\\nvalue = 677.8'),\n",
              " Text(0.09450249886415266, 0.6136363636363636, 'x[14] <= 646.65\\nsquared_error = 22.09\\nsamples = 2\\nvalue = 700.9'),\n",
              " Text(0.09268514311676511, 0.5681818181818182, 'squared_error = 0.0\\nsamples = 1\\nvalue = 696.2'),\n",
              " Text(0.0963198546115402, 0.5681818181818182, 'squared_error = -0.0\\nsamples = 1\\nvalue = 705.6'),\n",
              " Text(0.10358927760109041, 0.6590909090909091, 'x[3] <= 11.55\\nsquared_error = 517.624\\nsamples = 11\\nvalue = 753.845'),\n",
              " Text(0.10177192185370286, 0.6136363636363636, 'x[5] <= 54.4\\nsquared_error = 106.714\\nsamples = 10\\nvalue = 747.36'),\n",
              " Text(0.09995456610631531, 0.5681818181818182, 'squared_error = 0.0\\nsamples = 1\\nvalue = 721.0'),\n",
              " Text(0.10358927760109041, 0.5681818181818182, 'x[10] <= 9.9\\nsquared_error = 32.788\\nsamples = 9\\nvalue = 750.289'),\n",
              " Text(0.10177192185370286, 0.5227272727272727, 'x[7] <= 234.4\\nsquared_error = 5.199\\nsamples = 8\\nvalue = 748.413'),\n",
              " Text(0.09995456610631531, 0.4772727272727273, 'x[11] <= 8.55\\nsquared_error = 0.122\\nsamples = 2\\nvalue = 752.35'),\n",
              " Text(0.09813721035892777, 0.4318181818181818, 'squared_error = 0.0\\nsamples = 1\\nvalue = 752.7'),\n",
              " Text(0.10177192185370286, 0.4318181818181818, 'squared_error = 0.0\\nsamples = 1\\nvalue = 752.0'),\n",
              " Text(0.10358927760109041, 0.4772727272727273, 'squared_error = -0.0\\nsamples = 6\\nvalue = 747.1'),\n",
              " Text(0.10540663334847797, 0.5227272727272727, 'squared_error = -0.0\\nsamples = 1\\nvalue = 765.3'),\n",
              " Text(0.10540663334847797, 0.6136363636363636, 'squared_error = 0.0\\nsamples = 1\\nvalue = 818.7'),\n",
              " Text(0.11631076783280327, 0.75, 'x[14] <= 909.5\\nsquared_error = 13404.729\\nsamples = 6\\nvalue = 915.65'),\n",
              " Text(0.11449341208541572, 0.7045454545454546, 'x[1] <= 1.05\\nsquared_error = 3106.594\\nsamples = 5\\nvalue = 869.14'),\n",
              " Text(0.11085870059064062, 0.6590909090909091, 'x[6] <= 280.25\\nsquared_error = 55.882\\nsamples = 3\\nvalue = 825.267'),\n",
              " Text(0.10904134484325306, 0.6136363636363636, 'squared_error = 0.0\\nsamples = 1\\nvalue = 834.6'),\n",
              " Text(0.11267605633802817, 0.6136363636363636, 'x[9] <= 20.7\\nsquared_error = 18.49\\nsamples = 2\\nvalue = 820.6'),\n",
              " Text(0.11085870059064062, 0.5681818181818182, 'squared_error = 0.0\\nsamples = 1\\nvalue = 816.3'),\n",
              " Text(0.11449341208541572, 0.5681818181818182, 'squared_error = 0.0\\nsamples = 1\\nvalue = 824.9'),\n",
              " Text(0.11812812358019083, 0.6590909090909091, 'x[7] <= 282.95\\nsquared_error = 464.403\\nsamples = 2\\nvalue = 934.95'),\n",
              " Text(0.11631076783280327, 0.6136363636363636, 'squared_error = 0.0\\nsamples = 1\\nvalue = 956.5'),\n",
              " Text(0.11994547932757837, 0.6136363636363636, 'squared_error = -0.0\\nsamples = 1\\nvalue = 913.4'),\n",
              " Text(0.11812812358019083, 0.7045454545454546, 'squared_error = 0.0\\nsamples = 1\\nvalue = 1148.2'),\n",
              " Text(0.31969421747217175, 0.8409090909090909, 'x[0] <= 4.35\\nsquared_error = 34627.745\\nsamples = 217\\nvalue = 930.945'),\n",
              " Text(0.17787369377555656, 0.7954545454545454, 'x[14] <= 698.25\\nsquared_error = 13922.669\\nsamples = 45\\nvalue = 754.473'),\n",
              " Text(0.15174920490686053, 0.75, 'x[2] <= 6.15\\nsquared_error = 9123.949\\nsamples = 35\\nvalue = 712.54'),\n",
              " Text(0.13584734211721944, 0.7045454545454546, 'x[7] <= 99.5\\nsquared_error = 4996.987\\nsamples = 23\\nvalue = 669.743'),\n",
              " Text(0.12812358019082234, 0.6590909090909091, 'x[11] <= 8.4\\nsquared_error = 2153.84\\nsamples = 8\\nvalue = 605.4'),\n",
              " Text(0.12358019082235347, 0.6136363636363636, 'x[2] <= 3.45\\nsquared_error = 1348.797\\nsamples = 6\\nvalue = 623.8'),\n",
              " Text(0.11994547932757837, 0.5681818181818182, 'x[1] <= 0.85\\nsquared_error = 157.503\\nsamples = 2\\nvalue = 585.75'),\n",
              " Text(0.11812812358019083, 0.5227272727272727, 'squared_error = 0.0\\nsamples = 1\\nvalue = 598.3'),\n",
              " Text(0.12176283507496592, 0.5227272727272727, 'squared_error = 0.0\\nsamples = 1\\nvalue = 573.2'),\n",
              " Text(0.12721490231712856, 0.5681818181818182, 'x[14] <= 365.8\\nsquared_error = 858.592\\nsamples = 4\\nvalue = 642.825'),\n",
              " Text(0.12539754656974103, 0.5227272727272727, 'squared_error = 0.0\\nsamples = 1\\nvalue = 597.0'),\n",
              " Text(0.12903225806451613, 0.5227272727272727, 'x[15] <= 169.15\\nsquared_error = 211.487\\nsamples = 3\\nvalue = 658.1'),\n",
              " Text(0.12721490231712856, 0.4772727272727273, 'x[15] <= 152.55\\nsquared_error = 57.76\\nsamples = 2\\nvalue = 648.8'),\n",
              " Text(0.12539754656974103, 0.4318181818181818, 'squared_error = 0.0\\nsamples = 1\\nvalue = 656.4'),\n",
              " Text(0.12903225806451613, 0.4318181818181818, 'squared_error = 0.0\\nsamples = 1\\nvalue = 641.2'),\n",
              " Text(0.1308496138119037, 0.4772727272727273, 'squared_error = -0.0\\nsamples = 1\\nvalue = 676.7'),\n",
              " Text(0.13266696955929122, 0.6136363636363636, 'x[5] <= 52.85\\nsquared_error = 506.25\\nsamples = 2\\nvalue = 550.2'),\n",
              " Text(0.1308496138119037, 0.5681818181818182, 'squared_error = 0.0\\nsamples = 1\\nvalue = 527.7'),\n",
              " Text(0.13448432530667878, 0.5681818181818182, 'squared_error = 0.0\\nsamples = 1\\nvalue = 572.7'),\n",
              " Text(0.14357110404361653, 0.6590909090909091, 'x[1] <= 0.35\\nsquared_error = 3127.664\\nsamples = 15\\nvalue = 704.06'),\n",
              " Text(0.141753748296229, 0.6136363636363636, 'squared_error = 0.0\\nsamples = 1\\nvalue = 567.3'),\n",
              " Text(0.1453884597910041, 0.6136363636363636, 'x[12] <= 1.1\\nsquared_error = 1919.693\\nsamples = 14\\nvalue = 713.829'),\n",
              " Text(0.14357110404361653, 0.5681818181818182, 'squared_error = 0.0\\nsamples = 1\\nvalue = 791.9'),\n",
              " Text(0.14720581553839163, 0.5681818181818182, 'x[12] <= 3.9\\nsquared_error = 1562.439\\nsamples = 13\\nvalue = 707.823'),\n",
              " Text(0.13811903680145388, 0.5227272727272727, 'x[1] <= 0.95\\nsquared_error = 1424.099\\nsamples = 7\\nvalue = 685.371'),\n",
              " Text(0.13448432530667878, 0.4772727272727273, 'x[7] <= 120.25\\nsquared_error = 174.632\\nsamples = 4\\nvalue = 711.425'),\n",
              " Text(0.13266696955929122, 0.4318181818181818, 'squared_error = 0.0\\nsamples = 1\\nvalue = 730.6'),\n",
              " Text(0.13630168105406634, 0.4318181818181818, 'x[1] <= 0.85\\nsquared_error = 69.429\\nsamples = 3\\nvalue = 705.033'),\n",
              " Text(0.13448432530667878, 0.38636363636363635, 'x[4] <= 4.05\\nsquared_error = 3.802\\nsamples = 2\\nvalue = 699.25'),\n",
              " Text(0.13266696955929122, 0.3409090909090909, 'squared_error = 0.0\\nsamples = 1\\nvalue = 697.3'),\n",
              " Text(0.13630168105406634, 0.3409090909090909, 'squared_error = 0.0\\nsamples = 1\\nvalue = 701.2'),\n",
              " Text(0.13811903680145388, 0.38636363636363635, 'squared_error = 0.0\\nsamples = 1\\nvalue = 716.6'),\n",
              " Text(0.141753748296229, 0.4772727272727273, 'x[1] <= 1.45\\nsquared_error = 978.269\\nsamples = 3\\nvalue = 650.633'),\n",
              " Text(0.13993639254884144, 0.4318181818181818, 'squared_error = 0.0\\nsamples = 1\\nvalue = 607.2'),\n",
              " Text(0.14357110404361653, 0.4318181818181818, 'x[9] <= 108.05\\nsquared_error = 52.563\\nsamples = 2\\nvalue = 672.35'),\n",
              " Text(0.141753748296229, 0.38636363636363635, 'squared_error = 0.0\\nsamples = 1\\nvalue = 679.6'),\n",
              " Text(0.1453884597910041, 0.38636363636363635, 'squared_error = 0.0\\nsamples = 1\\nvalue = 665.1'),\n",
              " Text(0.1562925942753294, 0.5227272727272727, 'x[0] <= 3.35\\nsquared_error = 449.641\\nsamples = 6\\nvalue = 734.017'),\n",
              " Text(0.15447523852794184, 0.4772727272727273, 'x[12] <= 4.5\\nsquared_error = 47.43\\nsamples = 5\\nvalue = 724.96'),\n",
              " Text(0.15084052703316675, 0.4318181818181818, 'x[7] <= 133.25\\nsquared_error = 0.123\\nsamples = 2\\nvalue = 716.55'),\n",
              " Text(0.1490231712857792, 0.38636363636363635, 'squared_error = 0.0\\nsamples = 1\\nvalue = 716.9'),\n",
              " Text(0.15265788278055428, 0.38636363636363635, 'squared_error = 0.0\\nsamples = 1\\nvalue = 716.2'),\n",
              " Text(0.15810995002271694, 0.4318181818181818, 'x[1] <= 2.2\\nsquared_error = 0.382\\nsamples = 3\\nvalue = 730.567'),\n",
              " Text(0.1562925942753294, 0.38636363636363635, 'squared_error = 0.0\\nsamples = 1\\nvalue = 729.7'),\n",
              " Text(0.1599273057701045, 0.38636363636363635, 'x[13] <= 34.75\\nsquared_error = 0.01\\nsamples = 2\\nvalue = 731.0'),\n",
              " Text(0.15810995002271694, 0.3409090909090909, 'squared_error = 0.0\\nsamples = 1\\nvalue = 730.9'),\n",
              " Text(0.16174466151749206, 0.3409090909090909, 'squared_error = 0.0\\nsamples = 1\\nvalue = 731.1'),\n",
              " Text(0.15810995002271694, 0.4772727272727273, 'squared_error = -0.0\\nsamples = 1\\nvalue = 779.3'),\n",
              " Text(0.1676510676965016, 0.7045454545454546, 'x[14] <= 432.9\\nsquared_error = 6795.129\\nsamples = 12\\nvalue = 794.567'),\n",
              " Text(0.1562925942753294, 0.6590909090909091, 'x[2] <= 7.9\\nsquared_error = 1234.178\\nsamples = 5\\nvalue = 719.88'),\n",
              " Text(0.15265788278055428, 0.6136363636363636, 'x[11] <= 12.05\\nsquared_error = 320.41\\nsamples = 2\\nvalue = 680.6'),\n",
              " Text(0.15084052703316675, 0.5681818181818182, 'squared_error = 0.0\\nsamples = 1\\nvalue = 698.5'),\n",
              " Text(0.15447523852794184, 0.5681818181818182, 'squared_error = 0.0\\nsamples = 1\\nvalue = 662.7'),\n",
              " Text(0.1599273057701045, 0.6136363636363636, 'x[6] <= 82.8\\nsquared_error = 129.002\\nsamples = 3\\nvalue = 746.067'),\n",
              " Text(0.15810995002271694, 0.5681818181818182, 'squared_error = 0.0\\nsamples = 1\\nvalue = 731.1'),\n",
              " Text(0.16174466151749206, 0.5681818181818182, 'x[15] <= 219.75\\nsquared_error = 25.503\\nsamples = 2\\nvalue = 753.55'),\n",
              " Text(0.1599273057701045, 0.5227272727272727, 'squared_error = 0.0\\nsamples = 1\\nvalue = 758.6'),\n",
              " Text(0.1635620172648796, 0.5227272727272727, 'squared_error = 0.0\\nsamples = 1\\nvalue = 748.5'),\n",
              " Text(0.17900954111767378, 0.6590909090909091, 'x[9] <= 138.2\\nsquared_error = 3936.913\\nsamples = 7\\nvalue = 847.914'),\n",
              " Text(0.17264879600181735, 0.6136363636363636, 'x[6] <= 155.4\\nsquared_error = 936.863\\nsamples = 4\\nvalue = 803.65'),\n",
              " Text(0.16901408450704225, 0.5681818181818182, 'x[13] <= 94.5\\nsquared_error = 243.36\\nsamples = 2\\nvalue = 776.1'),\n",
              " Text(0.1671967287596547, 0.5227272727272727, 'squared_error = 0.0\\nsamples = 1\\nvalue = 760.5'),\n",
              " Text(0.1708314402544298, 0.5227272727272727, 'squared_error = 0.0\\nsamples = 1\\nvalue = 791.7'),\n",
              " Text(0.17628350749659247, 0.5681818181818182, 'x[4] <= 35.5\\nsquared_error = 112.36\\nsamples = 2\\nvalue = 831.2'),\n",
              " Text(0.1744661517492049, 0.5227272727272727, 'squared_error = 0.0\\nsamples = 1\\nvalue = 841.8'),\n",
              " Text(0.17810086324398, 0.5227272727272727, 'squared_error = -0.0\\nsamples = 1\\nvalue = 820.6'),\n",
              " Text(0.18537028623353022, 0.6136363636363636, 'x[2] <= 10.45\\nsquared_error = 1841.296\\nsamples = 3\\nvalue = 906.933'),\n",
              " Text(0.18355293048614266, 0.5681818181818182, 'x[5] <= 73.5\\nsquared_error = 46.922\\nsamples = 2\\nvalue = 876.85'),\n",
              " Text(0.18173557473875512, 0.5227272727272727, 'squared_error = 0.0\\nsamples = 1\\nvalue = 883.7'),\n",
              " Text(0.18537028623353022, 0.5227272727272727, 'squared_error = -0.0\\nsamples = 1\\nvalue = 870.0'),\n",
              " Text(0.18718764198091775, 0.5681818181818182, 'squared_error = 0.0\\nsamples = 1\\nvalue = 967.1'),\n",
              " Text(0.20399818264425262, 0.75, 'x[14] <= 857.15\\nsquared_error = 3023.32\\nsamples = 10\\nvalue = 901.24'),\n",
              " Text(0.19900045433893684, 0.7045454545454546, 'x[3] <= 0.95\\nsquared_error = 1255.094\\nsamples = 8\\nvalue = 879.675'),\n",
              " Text(0.19445706497046797, 0.6590909090909091, 'x[2] <= 1.25\\nsquared_error = 889.396\\nsamples = 3\\nvalue = 842.067'),\n",
              " Text(0.1926397092230804, 0.6136363636363636, 'x[1] <= 0.35\\nsquared_error = 77.44\\nsamples = 2\\nvalue = 821.6'),\n",
              " Text(0.19082235347569287, 0.5681818181818182, 'squared_error = 0.0\\nsamples = 1\\nvalue = 812.8'),\n",
              " Text(0.19445706497046797, 0.5681818181818182, 'squared_error = 0.0\\nsamples = 1\\nvalue = 830.4'),\n",
              " Text(0.19627442071785553, 0.6136363636363636, 'squared_error = 0.0\\nsamples = 1\\nvalue = 883.0'),\n",
              " Text(0.20354384370740572, 0.6590909090909091, 'x[3] <= 2.7\\nsquared_error = 116.702\\nsamples = 5\\nvalue = 902.24'),\n",
              " Text(0.19990913221263062, 0.6136363636363636, 'x[3] <= 1.25\\nsquared_error = 42.136\\nsamples = 3\\nvalue = 894.467'),\n",
              " Text(0.19809177646524306, 0.5681818181818182, 'squared_error = 0.0\\nsamples = 1\\nvalue = 903.6'),\n",
              " Text(0.20172648796001819, 0.5681818181818182, 'x[10] <= 13.4\\nsquared_error = 0.64\\nsamples = 2\\nvalue = 889.9'),\n",
              " Text(0.19990913221263062, 0.5227272727272727, 'squared_error = 0.0\\nsamples = 1\\nvalue = 890.7'),\n",
              " Text(0.20354384370740572, 0.5227272727272727, 'squared_error = -0.0\\nsamples = 1\\nvalue = 889.1'),\n",
              " Text(0.20717855520218081, 0.6136363636363636, 'x[13] <= 33.0\\nsquared_error = 1.96\\nsamples = 2\\nvalue = 913.9'),\n",
              " Text(0.20536119945479328, 0.5681818181818182, 'squared_error = 0.0\\nsamples = 1\\nvalue = 915.3'),\n",
              " Text(0.20899591094956838, 0.5681818181818182, 'squared_error = -0.0\\nsamples = 1\\nvalue = 912.5'),\n",
              " Text(0.20899591094956838, 0.7045454545454546, 'x[13] <= 21.8\\nsquared_error = 795.24\\nsamples = 2\\nvalue = 987.5'),\n",
              " Text(0.20717855520218081, 0.6590909090909091, 'squared_error = 0.0\\nsamples = 1\\nvalue = 959.3'),\n",
              " Text(0.21081326669695594, 0.6590909090909091, 'squared_error = 0.0\\nsamples = 1\\nvalue = 1015.7'),\n",
              " Text(0.46151474116878693, 0.7954545454545454, 'x[4] <= 84.0\\nsquared_error = 29765.409\\nsamples = 172\\nvalue = 977.115'),\n",
              " Text(0.3987223492162653, 0.75, 'x[14] <= 856.75\\nsquared_error = 21972.609\\nsamples = 151\\nvalue = 946.936'),\n",
              " Text(0.33594992333030443, 0.7045454545454546, 'x[9] <= 192.2\\nsquared_error = 20848.831\\nsamples = 106\\nvalue = 897.315'),\n",
              " Text(0.27299026010904137, 0.6590909090909091, 'x[5] <= 37.65\\nsquared_error = 10562.27\\nsamples = 94\\nvalue = 862.229'),\n",
              " Text(0.22080872330758747, 0.6136363636363636, 'x[11] <= 48.05\\nsquared_error = 7365.297\\nsamples = 12\\nvalue = 703.442'),\n",
              " Text(0.21263062244434347, 0.5681818181818182, 'x[9] <= 31.55\\nsquared_error = 1685.124\\nsamples = 8\\nvalue = 658.325'),\n",
              " Text(0.21081326669695594, 0.5227272727272727, 'squared_error = 0.0\\nsamples = 1\\nvalue = 568.0'),\n",
              " Text(0.21444797819173103, 0.5227272727272727, 'x[12] <= 15.05\\nsquared_error = 593.839\\nsamples = 7\\nvalue = 671.229'),\n",
              " Text(0.21263062244434347, 0.4772727272727273, 'squared_error = 0.0\\nsamples = 1\\nvalue = 618.2'),\n",
              " Text(0.2162653339391186, 0.4772727272727273, 'x[15] <= 209.8\\nsquared_error = 146.029\\nsamples = 6\\nvalue = 680.067'),\n",
              " Text(0.21263062244434347, 0.4318181818181818, 'x[13] <= 141.1\\nsquared_error = 3.122\\nsamples = 4\\nvalue = 672.05'),\n",
              " Text(0.21081326669695594, 0.38636363636363635, 'squared_error = 0.0\\nsamples = 1\\nvalue = 669.3'),\n",
              " Text(0.21444797819173103, 0.38636363636363635, 'x[11] <= 36.2\\nsquared_error = 0.802\\nsamples = 3\\nvalue = 672.967'),\n",
              " Text(0.21263062244434347, 0.3409090909090909, 'squared_error = 0.0\\nsamples = 1\\nvalue = 671.7'),\n",
              " Text(0.2162653339391186, 0.3409090909090909, 'squared_error = -0.0\\nsamples = 2\\nvalue = 673.6'),\n",
              " Text(0.2199000454338937, 0.4318181818181818, 'x[0] <= 7.35\\nsquared_error = 46.24\\nsamples = 2\\nvalue = 696.1'),\n",
              " Text(0.21808268968650613, 0.38636363636363635, 'squared_error = 0.0\\nsamples = 1\\nvalue = 702.9'),\n",
              " Text(0.22171740118128125, 0.38636363636363635, 'squared_error = 0.0\\nsamples = 1\\nvalue = 689.3'),\n",
              " Text(0.22898682417083144, 0.5681818181818182, 'x[10] <= 179.05\\nsquared_error = 6512.562\\nsamples = 4\\nvalue = 793.675'),\n",
              " Text(0.22716946842344388, 0.5227272727272727, 'x[14] <= 277.45\\nsquared_error = 295.909\\nsamples = 3\\nvalue = 839.467'),\n",
              " Text(0.22535211267605634, 0.4772727272727273, 'x[4] <= 67.3\\nsquared_error = 66.422\\nsamples = 2\\nvalue = 828.25'),\n",
              " Text(0.22353475692866878, 0.4318181818181818, 'squared_error = 0.0\\nsamples = 1\\nvalue = 820.1'),\n",
              " Text(0.22716946842344388, 0.4318181818181818, 'squared_error = 0.0\\nsamples = 1\\nvalue = 836.4'),\n",
              " Text(0.22898682417083144, 0.4772727272727273, 'squared_error = 0.0\\nsamples = 1\\nvalue = 861.9'),\n",
              " Text(0.230804179918219, 0.5227272727272727, 'squared_error = -0.0\\nsamples = 1\\nvalue = 656.3'),\n",
              " Text(0.32517179691049525, 0.6136363636363636, 'x[14] <= 794.4\\nsquared_error = 6800.4\\nsamples = 82\\nvalue = 885.466'),\n",
              " Text(0.28596376646978644, 0.5681818181818182, 'x[15] <= 51.55\\nsquared_error = 6422.042\\nsamples = 58\\nvalue = 858.853'),\n",
              " Text(0.2514766015447524, 0.5227272727272727, 'x[14] <= 736.85\\nsquared_error = 2640.303\\nsamples = 20\\nvalue = 788.95'),\n",
              " Text(0.2385279418446161, 0.4772727272727273, 'x[14] <= 655.5\\nsquared_error = 720.297\\nsamples = 12\\nvalue = 752.425'),\n",
              " Text(0.230804179918219, 0.4318181818181818, 'x[8] <= 123.6\\nsquared_error = 399.545\\nsamples = 6\\nvalue = 730.617'),\n",
              " Text(0.22626079054975012, 0.38636363636363635, 'x[9] <= 30.1\\nsquared_error = 23.262\\nsamples = 4\\nvalue = 717.25'),\n",
              " Text(0.222626079054975, 0.3409090909090909, 'x[11] <= 10.15\\nsquared_error = 0.04\\nsamples = 2\\nvalue = 721.9'),\n",
              " Text(0.22080872330758747, 0.29545454545454547, 'squared_error = 0.0\\nsamples = 1\\nvalue = 722.1'),\n",
              " Text(0.22444343480236256, 0.29545454545454547, 'squared_error = -0.0\\nsamples = 1\\nvalue = 721.7'),\n",
              " Text(0.22989550204452522, 0.3409090909090909, 'x[9] <= 36.55\\nsquared_error = 3.24\\nsamples = 2\\nvalue = 712.6'),\n",
              " Text(0.22807814629713766, 0.29545454545454547, 'squared_error = 0.0\\nsamples = 1\\nvalue = 710.8'),\n",
              " Text(0.23171285779191278, 0.29545454545454547, 'squared_error = 0.0\\nsamples = 1\\nvalue = 714.4'),\n",
              " Text(0.23534756928668787, 0.38636363636363635, 'x[9] <= 38.55\\nsquared_error = 80.103\\nsamples = 2\\nvalue = 757.35'),\n",
              " Text(0.2335302135393003, 0.3409090909090909, 'squared_error = 0.0\\nsamples = 1\\nvalue = 766.3'),\n",
              " Text(0.2371649250340754, 0.3409090909090909, 'squared_error = 0.0\\nsamples = 1\\nvalue = 748.4'),\n",
              " Text(0.2462517037710132, 0.4318181818181818, 'x[5] <= 64.3\\nsquared_error = 89.842\\nsamples = 6\\nvalue = 774.233'),\n",
              " Text(0.24443434802362562, 0.38636363636363635, 'x[13] <= 21.9\\nsquared_error = 32.904\\nsamples = 5\\nvalue = 770.7'),\n",
              " Text(0.24079963652885053, 0.3409090909090909, 'x[8] <= 144.4\\nsquared_error = 1.102\\nsamples = 2\\nvalue = 764.45'),\n",
              " Text(0.23898228078146297, 0.29545454545454547, 'squared_error = 0.0\\nsamples = 1\\nvalue = 765.5'),\n",
              " Text(0.24261699227623806, 0.29545454545454547, 'squared_error = -0.0\\nsamples = 1\\nvalue = 763.4'),\n",
              " Text(0.24806905951840072, 0.3409090909090909, 'x[8] <= 135.85\\nsquared_error = 10.702\\nsamples = 3\\nvalue = 774.867'),\n",
              " Text(0.2462517037710132, 0.29545454545454547, 'x[5] <= 50.6\\nsquared_error = 3.24\\nsamples = 2\\nvalue = 772.8'),\n",
              " Text(0.24443434802362562, 0.25, 'squared_error = 0.0\\nsamples = 1\\nvalue = 771.0'),\n",
              " Text(0.24806905951840072, 0.25, 'squared_error = 0.0\\nsamples = 1\\nvalue = 774.6'),\n",
              " Text(0.24988641526578828, 0.29545454545454547, 'squared_error = 0.0\\nsamples = 1\\nvalue = 779.0'),\n",
              " Text(0.24806905951840072, 0.38636363636363635, 'squared_error = -0.0\\nsamples = 1\\nvalue = 791.9'),\n",
              " Text(0.2644252612448887, 0.4772727272727273, 'x[10] <= 10.15\\nsquared_error = 517.527\\nsamples = 8\\nvalue = 843.738'),\n",
              " Text(0.26079054975011356, 0.4318181818181818, 'x[13] <= 19.25\\nsquared_error = 62.234\\nsamples = 5\\nvalue = 860.26'),\n",
              " Text(0.25897319400272606, 0.38636363636363635, 'x[9] <= 28.5\\nsquared_error = 15.312\\nsamples = 4\\nvalue = 856.725'),\n",
              " Text(0.25533848250795094, 0.3409090909090909, 'x[15] <= 37.25\\nsquared_error = 0.04\\nsamples = 2\\nvalue = 852.9'),\n",
              " Text(0.2535211267605634, 0.29545454545454547, 'squared_error = 0.0\\nsamples = 1\\nvalue = 853.1'),\n",
              " Text(0.2571558382553385, 0.29545454545454547, 'squared_error = -0.0\\nsamples = 1\\nvalue = 852.7'),\n",
              " Text(0.2626079054975011, 0.3409090909090909, 'x[2] <= 5.85\\nsquared_error = 1.323\\nsamples = 2\\nvalue = 860.55'),\n",
              " Text(0.26079054975011356, 0.29545454545454547, 'squared_error = 0.0\\nsamples = 1\\nvalue = 859.4'),\n",
              " Text(0.2644252612448887, 0.29545454545454547, 'squared_error = 0.0\\nsamples = 1\\nvalue = 861.7'),\n",
              " Text(0.2626079054975011, 0.38636363636363635, 'squared_error = -0.0\\nsamples = 1\\nvalue = 874.4'),\n",
              " Text(0.2680599727396638, 0.4318181818181818, 'x[2] <= 2.65\\nsquared_error = 63.047\\nsamples = 3\\nvalue = 816.2'),\n",
              " Text(0.26624261699227625, 0.38636363636363635, 'squared_error = 0.0\\nsamples = 1\\nvalue = 826.9'),\n",
              " Text(0.2698773284870513, 0.38636363636363635, 'x[3] <= 2.4\\nsquared_error = 8.703\\nsamples = 2\\nvalue = 810.85'),\n",
              " Text(0.2680599727396638, 0.3409090909090909, 'squared_error = 0.0\\nsamples = 1\\nvalue = 813.8'),\n",
              " Text(0.2716946842344389, 0.3409090909090909, 'squared_error = 0.0\\nsamples = 1\\nvalue = 807.9'),\n",
              " Text(0.32045093139482056, 0.5227272727272727, 'x[13] <= 180.65\\nsquared_error = 4486.995\\nsamples = 38\\nvalue = 895.645'),\n",
              " Text(0.31218764198091775, 0.4772727272727273, 'x[11] <= 109.3\\nsquared_error = 3029.021\\nsamples = 36\\nvalue = 886.25'),\n",
              " Text(0.3011131303952749, 0.4318181818181818, 'x[4] <= 13.55\\nsquared_error = 2216.779\\nsamples = 34\\nvalue = 878.832'),\n",
              " Text(0.28441617446615175, 0.38636363636363635, 'x[14] <= 735.7\\nsquared_error = 886.224\\nsamples = 14\\nvalue = 850.386'),\n",
              " Text(0.275329395729214, 0.3409090909090909, 'x[9] <= 47.85\\nsquared_error = 59.894\\nsamples = 5\\nvalue = 816.34'),\n",
              " Text(0.27351203998182644, 0.29545454545454547, 'squared_error = 0.0\\nsamples = 1\\nvalue = 829.6'),\n",
              " Text(0.27714675147660156, 0.29545454545454547, 'x[14] <= 700.75\\nsquared_error = 19.922\\nsamples = 4\\nvalue = 813.025'),\n",
              " Text(0.27351203998182644, 0.25, 'x[0] <= 15.15\\nsquared_error = 7.562\\nsamples = 2\\nvalue = 809.15'),\n",
              " Text(0.2716946842344389, 0.20454545454545456, 'squared_error = 0.0\\nsamples = 1\\nvalue = 811.9'),\n",
              " Text(0.275329395729214, 0.20454545454545456, 'squared_error = -0.0\\nsamples = 1\\nvalue = 806.4'),\n",
              " Text(0.2807814629713766, 0.25, 'x[4] <= 11.45\\nsquared_error = 2.25\\nsamples = 2\\nvalue = 816.9'),\n",
              " Text(0.2789641072239891, 0.20454545454545456, 'squared_error = 0.0\\nsamples = 1\\nvalue = 815.4'),\n",
              " Text(0.2825988187187642, 0.20454545454545456, 'squared_error = -0.0\\nsamples = 1\\nvalue = 818.4'),\n",
              " Text(0.2935029532030895, 0.3409090909090909, 'x[14] <= 785.15\\nsquared_error = 343.596\\nsamples = 9\\nvalue = 869.3'),\n",
              " Text(0.2898682417083144, 0.29545454545454547, 'x[1] <= 11.85\\nsquared_error = 136.581\\nsamples = 7\\nvalue = 861.514'),\n",
              " Text(0.2880508859609269, 0.25, 'x[3] <= 2.35\\nsquared_error = 49.336\\nsamples = 6\\nvalue = 857.55'),\n",
              " Text(0.2862335302135393, 0.20454545454545456, 'squared_error = 0.0\\nsamples = 1\\nvalue = 871.5'),\n",
              " Text(0.2898682417083144, 0.20454545454545456, 'x[7] <= 285.95\\nsquared_error = 12.498\\nsamples = 5\\nvalue = 854.76'),\n",
              " Text(0.2862335302135393, 0.1590909090909091, 'x[6] <= 267.2\\nsquared_error = 2.082\\nsamples = 3\\nvalue = 852.133'),\n",
              " Text(0.28441617446615175, 0.11363636363636363, 'x[9] <= 52.8\\nsquared_error = 0.023\\nsamples = 2\\nvalue = 853.15'),\n",
              " Text(0.2825988187187642, 0.06818181818181818, 'squared_error = 0.0\\nsamples = 1\\nvalue = 853.3'),\n",
              " Text(0.2862335302135393, 0.06818181818181818, 'squared_error = 0.0\\nsamples = 1\\nvalue = 853.0'),\n",
              " Text(0.2880508859609269, 0.11363636363636363, 'squared_error = 0.0\\nsamples = 1\\nvalue = 850.1'),\n",
              " Text(0.2935029532030895, 0.1590909090909091, 'x[15] <= 52.3\\nsquared_error = 2.25\\nsamples = 2\\nvalue = 858.7'),\n",
              " Text(0.29168559745570194, 0.11363636363636363, 'squared_error = 0.0\\nsamples = 1\\nvalue = 860.2'),\n",
              " Text(0.29532030895047706, 0.11363636363636363, 'squared_error = 0.0\\nsamples = 1\\nvalue = 857.2'),\n",
              " Text(0.29168559745570194, 0.25, 'squared_error = -0.0\\nsamples = 1\\nvalue = 885.3'),\n",
              " Text(0.2971376646978646, 0.29545454545454547, 'x[6] <= 253.65\\nsquared_error = 113.422\\nsamples = 2\\nvalue = 896.55'),\n",
              " Text(0.29532030895047706, 0.25, 'squared_error = 0.0\\nsamples = 1\\nvalue = 907.2'),\n",
              " Text(0.2989550204452522, 0.25, 'squared_error = 0.0\\nsamples = 1\\nvalue = 885.9'),\n",
              " Text(0.317810086324398, 0.38636363636363635, 'x[6] <= 203.0\\nsquared_error = 2185.206\\nsamples = 20\\nvalue = 898.745'),\n",
              " Text(0.30804179918218993, 0.3409090909090909, 'x[3] <= 21.1\\nsquared_error = 1318.252\\nsamples = 8\\nvalue = 864.8'),\n",
              " Text(0.3044070876874148, 0.29545454545454547, 'x[15] <= 241.1\\nsquared_error = 351.262\\nsamples = 3\\nvalue = 830.567'),\n",
              " Text(0.30258973194002725, 0.25, 'x[4] <= 35.3\\nsquared_error = 70.56\\nsamples = 2\\nvalue = 842.9'),\n",
              " Text(0.3007723761926397, 0.20454545454545456, 'squared_error = 0.0\\nsamples = 1\\nvalue = 851.3'),\n",
              " Text(0.3044070876874148, 0.20454545454545456, 'squared_error = 0.0\\nsamples = 1\\nvalue = 834.5'),\n",
              " Text(0.3062244434348024, 0.25, 'squared_error = -0.0\\nsamples = 1\\nvalue = 805.9'),\n",
              " Text(0.311676510676965, 0.29545454545454547, 'x[9] <= 187.6\\nsquared_error = 773.402\\nsamples = 5\\nvalue = 885.34'),\n",
              " Text(0.30985915492957744, 0.25, 'x[1] <= 23.1\\nsquared_error = 323.775\\nsamples = 4\\nvalue = 874.0'),\n",
              " Text(0.30804179918218993, 0.20454545454545456, 'x[15] <= 414.45\\nsquared_error = 60.496\\nsamples = 3\\nvalue = 883.633'),\n",
              " Text(0.3062244434348024, 0.1590909090909091, 'x[12] <= 22.55\\nsquared_error = 2.723\\nsamples = 2\\nvalue = 889.05'),\n",
              " Text(0.3044070876874148, 0.11363636363636363, 'squared_error = 0.0\\nsamples = 1\\nvalue = 890.7'),\n",
              " Text(0.30804179918218993, 0.11363636363636363, 'squared_error = 0.0\\nsamples = 1\\nvalue = 887.4'),\n",
              " Text(0.30985915492957744, 0.1590909090909091, 'squared_error = -0.0\\nsamples = 1\\nvalue = 872.8'),\n",
              " Text(0.311676510676965, 0.20454545454545456, 'squared_error = 0.0\\nsamples = 1\\nvalue = 845.1'),\n",
              " Text(0.31349386642435256, 0.25, 'squared_error = -0.0\\nsamples = 1\\nvalue = 930.7'),\n",
              " Text(0.32757837346660607, 0.3409090909090909, 'x[15] <= 176.55\\nsquared_error = 1482.884\\nsamples = 12\\nvalue = 921.375'),\n",
              " Text(0.32576101771921856, 0.29545454545454547, 'x[13] <= 48.35\\nsquared_error = 509.151\\nsamples = 11\\nvalue = 911.764'),\n",
              " Text(0.319854611540209, 0.25, 'x[8] <= 144.5\\nsquared_error = 277.858\\nsamples = 8\\nvalue = 902.1'),\n",
              " Text(0.3153112221717401, 0.20454545454545456, 'x[7] <= 281.2\\nsquared_error = 61.622\\nsamples = 2\\nvalue = 876.95'),\n",
              " Text(0.31349386642435256, 0.1590909090909091, 'squared_error = 0.0\\nsamples = 1\\nvalue = 869.1'),\n",
              " Text(0.3171285779191277, 0.1590909090909091, 'squared_error = -0.0\\nsamples = 1\\nvalue = 884.8'),\n",
              " Text(0.3243980009086779, 0.20454545454545456, 'x[13] <= 31.0\\nsquared_error = 68.815\\nsamples = 6\\nvalue = 910.483'),\n",
              " Text(0.32076328941390275, 0.1590909090909091, 'x[8] <= 164.65\\nsquared_error = 7.023\\nsamples = 2\\nvalue = 899.65'),\n",
              " Text(0.31894593366651525, 0.11363636363636363, 'squared_error = 0.0\\nsamples = 1\\nvalue = 902.3'),\n",
              " Text(0.3225806451612903, 0.11363636363636363, 'squared_error = 0.0\\nsamples = 1\\nvalue = 897.0'),\n",
              " Text(0.328032712403453, 0.1590909090909091, 'x[14] <= 765.5\\nsquared_error = 11.69\\nsamples = 4\\nvalue = 915.9'),\n",
              " Text(0.32621535665606544, 0.11363636363636363, 'squared_error = 0.0\\nsamples = 1\\nvalue = 910.0'),\n",
              " Text(0.3298500681508405, 0.11363636363636363, 'x[6] <= 273.15\\nsquared_error = 0.116\\nsamples = 3\\nvalue = 917.867'),\n",
              " Text(0.328032712403453, 0.06818181818181818, 'x[2] <= 12.75\\nsquared_error = 0.01\\nsamples = 2\\nvalue = 918.1'),\n",
              " Text(0.32621535665606544, 0.022727272727272728, 'squared_error = 0.0\\nsamples = 1\\nvalue = 918.2'),\n",
              " Text(0.3298500681508405, 0.022727272727272728, 'squared_error = 0.0\\nsamples = 1\\nvalue = 918.0'),\n",
              " Text(0.33166742389822806, 0.06818181818181818, 'squared_error = -0.0\\nsamples = 1\\nvalue = 917.4'),\n",
              " Text(0.33166742389822806, 0.25, 'x[14] <= 683.7\\nsquared_error = 212.829\\nsamples = 3\\nvalue = 937.533'),\n",
              " Text(0.3298500681508405, 0.20454545454545456, 'squared_error = 0.0\\nsamples = 1\\nvalue = 957.2'),\n",
              " Text(0.3334847796456156, 0.20454545454545456, 'x[6] <= 252.55\\nsquared_error = 29.16\\nsamples = 2\\nvalue = 927.7'),\n",
              " Text(0.33166742389822806, 0.1590909090909091, 'squared_error = 0.0\\nsamples = 1\\nvalue = 922.3'),\n",
              " Text(0.3353021353930032, 0.1590909090909091, 'squared_error = -0.0\\nsamples = 1\\nvalue = 933.1'),\n",
              " Text(0.3293957292139936, 0.29545454545454547, 'squared_error = 0.0\\nsamples = 1\\nvalue = 1027.1'),\n",
              " Text(0.32326215356656063, 0.4318181818181818, 'x[13] <= 89.05\\nsquared_error = 0.563\\nsamples = 2\\nvalue = 1012.35'),\n",
              " Text(0.3214447978191731, 0.38636363636363635, 'squared_error = 0.0\\nsamples = 1\\nvalue = 1011.6'),\n",
              " Text(0.3250795093139482, 0.38636363636363635, 'squared_error = 0.0\\nsamples = 1\\nvalue = 1013.1'),\n",
              " Text(0.3287142208087233, 0.4772727272727273, 'x[1] <= 83.65\\nsquared_error = 545.223\\nsamples = 2\\nvalue = 1064.75'),\n",
              " Text(0.32689686506133575, 0.4318181818181818, 'squared_error = 0.0\\nsamples = 1\\nvalue = 1041.4'),\n",
              " Text(0.3305315765561109, 0.4318181818181818, 'squared_error = 0.0\\nsamples = 1\\nvalue = 1088.1'),\n",
              " Text(0.364379827351204, 0.5681818181818182, 'x[1] <= 34.4\\nsquared_error = 1867.03\\nsamples = 24\\nvalue = 949.779'),\n",
              " Text(0.36256247160381644, 0.5227272727272727, 'x[9] <= 51.65\\nsquared_error = 746.932\\nsamples = 23\\nvalue = 942.704'),\n",
              " Text(0.34984098137210357, 0.4772727272727273, 'x[4] <= 8.65\\nsquared_error = 317.026\\nsamples = 17\\nvalue = 930.341'),\n",
              " Text(0.3407542026351658, 0.4318181818181818, 'x[10] <= 4.15\\nsquared_error = 258.296\\nsamples = 7\\nvalue = 914.271'),\n",
              " Text(0.3389368468877783, 0.38636363636363635, 'squared_error = 0.0\\nsamples = 1\\nvalue = 881.8'),\n",
              " Text(0.3425715583825534, 0.38636363636363635, 'x[11] <= 9.0\\nsquared_error = 96.325\\nsamples = 6\\nvalue = 919.683'),\n",
              " Text(0.3407542026351658, 0.3409090909090909, 'x[3] <= 1.0\\nsquared_error = 30.614\\nsamples = 5\\nvalue = 915.92'),\n",
              " Text(0.3389368468877783, 0.29545454545454547, 'squared_error = 0.0\\nsamples = 1\\nvalue = 905.7'),\n",
              " Text(0.3425715583825534, 0.29545454545454547, 'x[4] <= 7.65\\nsquared_error = 5.627\\nsamples = 4\\nvalue = 918.475'),\n",
              " Text(0.3389368468877783, 0.25, 'x[1] <= 7.45\\nsquared_error = 0.25\\nsamples = 2\\nvalue = 920.7'),\n",
              " Text(0.33711949114039075, 0.20454545454545456, 'squared_error = 0.0\\nsamples = 1\\nvalue = 920.2'),\n",
              " Text(0.3407542026351658, 0.20454545454545456, 'squared_error = -0.0\\nsamples = 1\\nvalue = 921.2'),\n",
              " Text(0.3462062698773285, 0.25, 'x[0] <= 12.1\\nsquared_error = 1.102\\nsamples = 2\\nvalue = 916.25'),\n",
              " Text(0.34438891412994094, 0.20454545454545456, 'squared_error = 0.0\\nsamples = 1\\nvalue = 917.3'),\n",
              " Text(0.34802362562471606, 0.20454545454545456, 'squared_error = 0.0\\nsamples = 1\\nvalue = 915.2'),\n",
              " Text(0.34438891412994094, 0.3409090909090909, 'squared_error = 0.0\\nsamples = 1\\nvalue = 938.5'),\n",
              " Text(0.35892776010904137, 0.4318181818181818, 'x[12] <= 24.85\\nsquared_error = 50.835\\nsamples = 10\\nvalue = 941.59'),\n",
              " Text(0.3516583371194911, 0.38636363636363635, 'x[15] <= 51.45\\nsquared_error = 33.914\\nsamples = 5\\nvalue = 936.16'),\n",
              " Text(0.34802362562471606, 0.3409090909090909, 'x[1] <= 9.5\\nsquared_error = 2.723\\nsamples = 2\\nvalue = 929.85'),\n",
              " Text(0.3462062698773285, 0.29545454545454547, 'squared_error = 0.0\\nsamples = 1\\nvalue = 928.2'),\n",
              " Text(0.34984098137210357, 0.29545454545454547, 'squared_error = 0.0\\nsamples = 1\\nvalue = 931.5'),\n",
              " Text(0.35529304861426625, 0.3409090909090909, 'x[6] <= 285.65\\nsquared_error = 10.469\\nsamples = 3\\nvalue = 940.367'),\n",
              " Text(0.3534756928668787, 0.29545454545454547, 'x[3] <= 7.55\\nsquared_error = 2.89\\nsamples = 2\\nvalue = 938.3'),\n",
              " Text(0.3516583371194911, 0.25, 'squared_error = 0.0\\nsamples = 1\\nvalue = 940.0'),\n",
              " Text(0.35529304861426625, 0.25, 'squared_error = 0.0\\nsamples = 1\\nvalue = 936.6'),\n",
              " Text(0.3571104043616538, 0.29545454545454547, 'squared_error = 0.0\\nsamples = 1\\nvalue = 944.5'),\n",
              " Text(0.36619718309859156, 0.38636363636363635, 'x[2] <= 8.6\\nsquared_error = 8.786\\nsamples = 5\\nvalue = 947.02'),\n",
              " Text(0.36256247160381644, 0.3409090909090909, 'x[14] <= 846.1\\nsquared_error = 0.04\\nsamples = 2\\nvalue = 943.4'),\n",
              " Text(0.3607451158564289, 0.29545454545454547, 'squared_error = 0.0\\nsamples = 1\\nvalue = 943.2'),\n",
              " Text(0.364379827351204, 0.29545454545454547, 'squared_error = -0.0\\nsamples = 1\\nvalue = 943.6'),\n",
              " Text(0.36983189459336663, 0.3409090909090909, 'x[7] <= 281.1\\nsquared_error = 0.056\\nsamples = 3\\nvalue = 949.433'),\n",
              " Text(0.3680145388459791, 0.29545454545454547, 'squared_error = 0.0\\nsamples = 1\\nvalue = 949.1'),\n",
              " Text(0.3716492503407542, 0.29545454545454547, 'squared_error = -0.0\\nsamples = 2\\nvalue = 949.6'),\n",
              " Text(0.3752839618355293, 0.4772727272727273, 'x[3] <= 5.25\\nsquared_error = 304.899\\nsamples = 6\\nvalue = 977.733'),\n",
              " Text(0.37346660608814175, 0.4318181818181818, 'squared_error = 0.0\\nsamples = 1\\nvalue = 940.9'),\n",
              " Text(0.3771013175829169, 0.4318181818181818, 'x[9] <= 59.9\\nsquared_error = 40.272\\nsamples = 5\\nvalue = 985.1'),\n",
              " Text(0.3752839618355293, 0.38636363636363635, 'squared_error = 0.0\\nsamples = 1\\nvalue = 996.6'),\n",
              " Text(0.37891867333030443, 0.38636363636363635, 'x[1] <= 6.7\\nsquared_error = 9.012\\nsamples = 4\\nvalue = 982.225'),\n",
              " Text(0.3771013175829169, 0.3409090909090909, 'x[8] <= 157.3\\nsquared_error = 2.302\\nsamples = 3\\nvalue = 980.667'),\n",
              " Text(0.3752839618355293, 0.29545454545454547, 'squared_error = 0.0\\nsamples = 1\\nvalue = 982.8'),\n",
              " Text(0.37891867333030443, 0.29545454545454547, 'x[15] <= 103.2\\nsquared_error = 0.04\\nsamples = 2\\nvalue = 979.6'),\n",
              " Text(0.3771013175829169, 0.25, 'squared_error = 0.0\\nsamples = 1\\nvalue = 979.4'),\n",
              " Text(0.38073602907769194, 0.25, 'squared_error = 0.0\\nsamples = 1\\nvalue = 979.8'),\n",
              " Text(0.38073602907769194, 0.3409090909090909, 'squared_error = -0.0\\nsamples = 1\\nvalue = 986.9'),\n",
              " Text(0.36619718309859156, 0.5227272727272727, 'squared_error = -0.0\\nsamples = 1\\nvalue = 1112.5'),\n",
              " Text(0.3989095865515675, 0.6590909090909091, 'x[9] <= 218.6\\nsquared_error = 16244.839\\nsamples = 12\\nvalue = 1172.158'),\n",
              " Text(0.39164016356201725, 0.6136363636363636, 'x[2] <= 18.9\\nsquared_error = 6107.337\\nsamples = 8\\nvalue = 1098.025'),\n",
              " Text(0.3898228078146297, 0.5681818181818182, 'x[4] <= 65.35\\nsquared_error = 2254.505\\nsamples = 7\\nvalue = 1122.329'),\n",
              " Text(0.38437074057246706, 0.5227272727272727, 'x[2] <= 6.9\\nsquared_error = 154.922\\nsamples = 4\\nvalue = 1159.625'),\n",
              " Text(0.3825533848250795, 0.4772727272727273, 'squared_error = 0.0\\nsamples = 1\\nvalue = 1139.6'),\n",
              " Text(0.3861880963198546, 0.4772727272727273, 'x[0] <= 24.4\\nsquared_error = 28.34\\nsamples = 3\\nvalue = 1166.3'),\n",
              " Text(0.38437074057246706, 0.4318181818181818, 'x[15] <= 281.15\\nsquared_error = 5.76\\nsamples = 2\\nvalue = 1162.8'),\n",
              " Text(0.3825533848250795, 0.38636363636363635, 'squared_error = 0.0\\nsamples = 1\\nvalue = 1160.4'),\n",
              " Text(0.3861880963198546, 0.38636363636363635, 'squared_error = -0.0\\nsamples = 1\\nvalue = 1165.2'),\n",
              " Text(0.3880054520672422, 0.4318181818181818, 'squared_error = 0.0\\nsamples = 1\\nvalue = 1173.3'),\n",
              " Text(0.3952748750567924, 0.5227272727272727, 'x[8] <= 172.3\\nsquared_error = 726.32\\nsamples = 3\\nvalue = 1072.6'),\n",
              " Text(0.3934575193094048, 0.4772727272727273, 'x[4] <= 67.5\\nsquared_error = 252.81\\nsamples = 2\\nvalue = 1055.9'),\n",
              " Text(0.39164016356201725, 0.4318181818181818, 'squared_error = 0.0\\nsamples = 1\\nvalue = 1071.8'),\n",
              " Text(0.3952748750567924, 0.4318181818181818, 'squared_error = -0.0\\nsamples = 1\\nvalue = 1040.0'),\n",
              " Text(0.39709223080417994, 0.4772727272727273, 'squared_error = 0.0\\nsamples = 1\\nvalue = 1106.0'),\n",
              " Text(0.3934575193094048, 0.5681818181818182, 'squared_error = 0.0\\nsamples = 1\\nvalue = 927.9'),\n",
              " Text(0.4061790095411177, 0.6136363636363636, 'x[5] <= 66.25\\nsquared_error = 3545.337\\nsamples = 4\\nvalue = 1320.425'),\n",
              " Text(0.4043616537937301, 0.5681818181818182, 'x[3] <= 18.0\\nsquared_error = 905.816\\nsamples = 3\\nvalue = 1351.333'),\n",
              " Text(0.40254429804634256, 0.5227272727272727, 'x[7] <= 137.85\\nsquared_error = 37.823\\nsamples = 2\\nvalue = 1330.35'),\n",
              " Text(0.400726942298955, 0.4772727272727273, 'squared_error = 0.0\\nsamples = 1\\nvalue = 1336.5'),\n",
              " Text(0.4043616537937301, 0.4772727272727273, 'squared_error = 0.0\\nsamples = 1\\nvalue = 1324.2'),\n",
              " Text(0.4061790095411177, 0.5227272727272727, 'squared_error = -0.0\\nsamples = 1\\nvalue = 1393.3'),\n",
              " Text(0.40799636528850525, 0.5681818181818182, 'squared_error = 0.0\\nsamples = 1\\nvalue = 1227.7'),\n",
              " Text(0.46149477510222625, 0.7045454545454546, 'x[13] <= 51.45\\nsquared_error = 5157.412\\nsamples = 45\\nvalue = 1063.822'),\n",
              " Text(0.4291231258518855, 0.6590909090909091, 'x[14] <= 875.45\\nsquared_error = 1729.717\\nsamples = 31\\nvalue = 1027.255'),\n",
              " Text(0.41526578827805544, 0.6136363636363636, 'x[4] <= 9.35\\nsquared_error = 292.062\\nsamples = 5\\nvalue = 953.48'),\n",
              " Text(0.4116310767832803, 0.5681818181818182, 'x[14] <= 868.2\\nsquared_error = 107.007\\nsamples = 3\\nvalue = 941.3'),\n",
              " Text(0.40981372103589275, 0.5227272727272727, 'squared_error = 0.0\\nsamples = 1\\nvalue = 926.7'),\n",
              " Text(0.4134484325306679, 0.5227272727272727, 'x[1] <= 2.6\\nsquared_error = 0.64\\nsamples = 2\\nvalue = 948.6'),\n",
              " Text(0.4116310767832803, 0.4772727272727273, 'squared_error = 0.0\\nsamples = 1\\nvalue = 947.8'),\n",
              " Text(0.41526578827805544, 0.4772727272727273, 'squared_error = 0.0\\nsamples = 1\\nvalue = 949.4'),\n",
              " Text(0.41890049977283056, 0.5681818181818182, 'x[10] <= 7.1\\nsquared_error = 13.323\\nsamples = 2\\nvalue = 971.75'),\n",
              " Text(0.417083144025443, 0.5227272727272727, 'squared_error = 0.0\\nsamples = 1\\nvalue = 975.4'),\n",
              " Text(0.42071785552021806, 0.5227272727272727, 'squared_error = 0.0\\nsamples = 1\\nvalue = 968.1'),\n",
              " Text(0.44298046342571556, 0.6136363636363636, 'x[14] <= 909.5\\nsquared_error = 758.227\\nsamples = 26\\nvalue = 1041.442'),\n",
              " Text(0.4279872785097683, 0.5681818181818182, 'x[15] <= 69.7\\nsquared_error = 211.894\\nsamples = 9\\nvalue = 1015.344'),\n",
              " Text(0.4243525670149932, 0.5227272727272727, 'x[14] <= 902.95\\nsquared_error = 31.422\\nsamples = 5\\nvalue = 1003.68'),\n",
              " Text(0.4225352112676056, 0.4772727272727273, 'x[6] <= 275.15\\nsquared_error = 10.357\\nsamples = 4\\nvalue = 1001.275'),\n",
              " Text(0.42071785552021806, 0.4318181818181818, 'squared_error = 0.0\\nsamples = 1\\nvalue = 995.8'),\n",
              " Text(0.4243525670149932, 0.4318181818181818, 'x[13] <= 37.95\\nsquared_error = 0.487\\nsamples = 3\\nvalue = 1003.1'),\n",
              " Text(0.4225352112676056, 0.38636363636363635, 'x[2] <= 9.35\\nsquared_error = 0.122\\nsamples = 2\\nvalue = 1003.55'),\n",
              " Text(0.42071785552021806, 0.3409090909090909, 'squared_error = 0.0\\nsamples = 1\\nvalue = 1003.9'),\n",
              " Text(0.4243525670149932, 0.3409090909090909, 'squared_error = 0.0\\nsamples = 1\\nvalue = 1003.2'),\n",
              " Text(0.42616992276238075, 0.38636363636363635, 'squared_error = -0.0\\nsamples = 1\\nvalue = 1002.2'),\n",
              " Text(0.42616992276238075, 0.4772727272727273, 'squared_error = -0.0\\nsamples = 1\\nvalue = 1013.3'),\n",
              " Text(0.4316219900045434, 0.5227272727272727, 'x[5] <= 138.55\\nsquared_error = 54.817\\nsamples = 4\\nvalue = 1029.925'),\n",
              " Text(0.4298046342571558, 0.4772727272727273, 'squared_error = 0.0\\nsamples = 1\\nvalue = 1041.8'),\n",
              " Text(0.43343934575193094, 0.4772727272727273, 'x[2] <= 15.65\\nsquared_error = 10.416\\nsamples = 3\\nvalue = 1025.967'),\n",
              " Text(0.4316219900045434, 0.4318181818181818, 'x[8] <= 168.75\\nsquared_error = 1.323\\nsamples = 2\\nvalue = 1028.15'),\n",
              " Text(0.4298046342571558, 0.38636363636363635, 'squared_error = 0.0\\nsamples = 1\\nvalue = 1027.0'),\n",
              " Text(0.43343934575193094, 0.38636363636363635, 'squared_error = -0.0\\nsamples = 1\\nvalue = 1029.3'),\n",
              " Text(0.4352567014993185, 0.4318181818181818, 'squared_error = 0.0\\nsamples = 1\\nvalue = 1021.6'),\n",
              " Text(0.4579736483416629, 0.5681818181818182, 'x[13] <= 29.45\\nsquared_error = 495.985\\nsamples = 17\\nvalue = 1055.259'),\n",
              " Text(0.44525215810995, 0.5227272727272727, 'x[0] <= 22.05\\nsquared_error = 86.37\\nsamples = 8\\nvalue = 1035.463'),\n",
              " Text(0.4434348023625625, 0.4772727272727273, 'x[11] <= 6.25\\nsquared_error = 29.173\\nsamples = 7\\nvalue = 1032.514'),\n",
              " Text(0.4388914129940936, 0.4318181818181818, 'x[2] <= 10.05\\nsquared_error = 4.41\\nsamples = 2\\nvalue = 1039.7'),\n",
              " Text(0.43707405724670606, 0.38636363636363635, 'squared_error = 0.0\\nsamples = 1\\nvalue = 1037.6'),\n",
              " Text(0.4407087687414811, 0.38636363636363635, 'squared_error = 0.0\\nsamples = 1\\nvalue = 1041.8'),\n",
              " Text(0.44797819173103137, 0.4318181818181818, 'x[13] <= 17.15\\nsquared_error = 10.162\\nsamples = 5\\nvalue = 1029.64'),\n",
              " Text(0.44434348023625625, 0.38636363636363635, 'x[10] <= 10.1\\nsquared_error = 2.56\\nsamples = 2\\nvalue = 1033.0'),\n",
              " Text(0.4425261244888687, 0.3409090909090909, 'squared_error = 0.0\\nsamples = 1\\nvalue = 1034.6'),\n",
              " Text(0.4461608359836438, 0.3409090909090909, 'squared_error = 0.0\\nsamples = 1\\nvalue = 1031.4'),\n",
              " Text(0.45161290322580644, 0.38636363636363635, 'x[13] <= 25.05\\nsquared_error = 2.687\\nsamples = 3\\nvalue = 1027.4'),\n",
              " Text(0.4497955474784189, 0.3409090909090909, 'x[14] <= 930.75\\nsquared_error = 0.063\\nsamples = 2\\nvalue = 1028.55'),\n",
              " Text(0.44797819173103137, 0.29545454545454547, 'squared_error = 0.0\\nsamples = 1\\nvalue = 1028.8'),\n",
              " Text(0.45161290322580644, 0.29545454545454547, 'squared_error = 0.0\\nsamples = 1\\nvalue = 1028.3'),\n",
              " Text(0.453430258973194, 0.3409090909090909, 'squared_error = 0.0\\nsamples = 1\\nvalue = 1025.1'),\n",
              " Text(0.44706951385733756, 0.4772727272727273, 'squared_error = 0.0\\nsamples = 1\\nvalue = 1056.1'),\n",
              " Text(0.47069513857337575, 0.5227272727272727, 'x[7] <= 293.95\\nsquared_error = 202.091\\nsamples = 9\\nvalue = 1072.856'),\n",
              " Text(0.4643343934575193, 0.4772727272727273, 'x[15] <= 64.45\\nsquared_error = 74.358\\nsamples = 5\\nvalue = 1061.68'),\n",
              " Text(0.4606996819627442, 0.4318181818181818, 'x[13] <= 36.9\\nsquared_error = 7.762\\nsamples = 3\\nvalue = 1055.067'),\n",
              " Text(0.45888232621535663, 0.38636363636363635, 'x[9] <= 45.9\\nsquared_error = 2.102\\nsamples = 2\\nvalue = 1056.85'),\n",
              " Text(0.4570649704679691, 0.3409090909090909, 'squared_error = 0.0\\nsamples = 1\\nvalue = 1058.3'),\n",
              " Text(0.4606996819627442, 0.3409090909090909, 'squared_error = 0.0\\nsamples = 1\\nvalue = 1055.4'),\n",
              " Text(0.46251703771013175, 0.38636363636363635, 'squared_error = 0.0\\nsamples = 1\\nvalue = 1051.5'),\n",
              " Text(0.46796910495229443, 0.4318181818181818, 'x[2] <= 12.75\\nsquared_error = 10.24\\nsamples = 2\\nvalue = 1071.6'),\n",
              " Text(0.4661517492049069, 0.38636363636363635, 'squared_error = 0.0\\nsamples = 1\\nvalue = 1074.8'),\n",
              " Text(0.46978646069968194, 0.38636363636363635, 'squared_error = 0.0\\nsamples = 1\\nvalue = 1068.4'),\n",
              " Text(0.4770558836892322, 0.4772727272727273, 'x[5] <= 147.3\\nsquared_error = 10.497\\nsamples = 4\\nvalue = 1086.825'),\n",
              " Text(0.4752385279418446, 0.4318181818181818, 'x[14] <= 920.15\\nsquared_error = 2.549\\nsamples = 3\\nvalue = 1085.133'),\n",
              " Text(0.47342117219445706, 0.38636363636363635, 'squared_error = 0.0\\nsamples = 1\\nvalue = 1083.1'),\n",
              " Text(0.4770558836892322, 0.38636363636363635, 'x[8] <= 197.65\\nsquared_error = 0.723\\nsamples = 2\\nvalue = 1086.15'),\n",
              " Text(0.4752385279418446, 0.3409090909090909, 'squared_error = 0.0\\nsamples = 1\\nvalue = 1085.3'),\n",
              " Text(0.4788732394366197, 0.3409090909090909, 'squared_error = -0.0\\nsamples = 1\\nvalue = 1087.0'),\n",
              " Text(0.4788732394366197, 0.4318181818181818, 'squared_error = 0.0\\nsamples = 1\\nvalue = 1091.9'),\n",
              " Text(0.493866424352567, 0.6590909090909091, 'x[13] <= 120.4\\nsquared_error = 3230.181\\nsamples = 14\\nvalue = 1144.793'),\n",
              " Text(0.4870513402998637, 0.6136363636363636, 'x[1] <= 9.6\\nsquared_error = 923.15\\nsamples = 10\\nvalue = 1114.03'),\n",
              " Text(0.48069059518400725, 0.5681818181818182, 'x[6] <= 276.95\\nsquared_error = 386.087\\nsamples = 4\\nvalue = 1086.85'),\n",
              " Text(0.4788732394366197, 0.5227272727272727, 'squared_error = 0.0\\nsamples = 1\\nvalue = 1054.5'),\n",
              " Text(0.4825079509313948, 0.5227272727272727, 'x[2] <= 9.8\\nsquared_error = 49.662\\nsamples = 3\\nvalue = 1097.633'),\n",
              " Text(0.48069059518400725, 0.4772727272727273, 'squared_error = 0.0\\nsamples = 1\\nvalue = 1107.3'),\n",
              " Text(0.4843253066787824, 0.4772727272727273, 'x[10] <= 14.65\\nsquared_error = 4.41\\nsamples = 2\\nvalue = 1092.8'),\n",
              " Text(0.4825079509313948, 0.4318181818181818, 'squared_error = 0.0\\nsamples = 1\\nvalue = 1090.7'),\n",
              " Text(0.48614266242616994, 0.4318181818181818, 'squared_error = -0.0\\nsamples = 1\\nvalue = 1094.9'),\n",
              " Text(0.4934120854157201, 0.5681818181818182, 'x[3] <= 18.95\\nsquared_error = 460.356\\nsamples = 6\\nvalue = 1132.15'),\n",
              " Text(0.489777373920945, 0.5227272727272727, 'x[1] <= 23.5\\nsquared_error = 14.287\\nsamples = 3\\nvalue = 1111.3'),\n",
              " Text(0.4879600181735575, 0.4772727272727273, 'squared_error = 0.0\\nsamples = 1\\nvalue = 1116.2'),\n",
              " Text(0.49159472966833256, 0.4772727272727273, 'x[2] <= 36.4\\nsquared_error = 3.423\\nsamples = 2\\nvalue = 1108.85'),\n",
              " Text(0.489777373920945, 0.4318181818181818, 'squared_error = 0.0\\nsamples = 1\\nvalue = 1107.0'),\n",
              " Text(0.4934120854157201, 0.4318181818181818, 'squared_error = 0.0\\nsamples = 1\\nvalue = 1110.7'),\n",
              " Text(0.49704679691049525, 0.5227272727272727, 'x[4] <= 50.55\\nsquared_error = 36.98\\nsamples = 3\\nvalue = 1153.0'),\n",
              " Text(0.4952294411631077, 0.4772727272727273, 'squared_error = 0.0\\nsamples = 2\\nvalue = 1157.3'),\n",
              " Text(0.49886415265788275, 0.4772727272727273, 'squared_error = -0.0\\nsamples = 1\\nvalue = 1144.4'),\n",
              " Text(0.5006815084052704, 0.6136363636363636, 'x[6] <= 300.7\\nsquared_error = 717.165\\nsamples = 4\\nvalue = 1221.7'),\n",
              " Text(0.49886415265788275, 0.5681818181818182, 'squared_error = 0.0\\nsamples = 1\\nvalue = 1267.0'),\n",
              " Text(0.5024988641526579, 0.5681818181818182, 'x[13] <= 133.6\\nsquared_error = 44.18\\nsamples = 3\\nvalue = 1206.6'),\n",
              " Text(0.5006815084052704, 0.5227272727272727, 'squared_error = 0.0\\nsamples = 1\\nvalue = 1197.2'),\n",
              " Text(0.5043162199000454, 0.5227272727272727, 'squared_error = 0.0\\nsamples = 2\\nvalue = 1211.3'),\n",
              " Text(0.5243071331213085, 0.75, 'x[6] <= 104.45\\nsquared_error = 32161.957\\nsamples = 21\\nvalue = 1194.114'),\n",
              " Text(0.5161290322580645, 0.7045454545454546, 'x[12] <= 198.65\\nsquared_error = 11407.971\\nsamples = 7\\nvalue = 980.557'),\n",
              " Text(0.5115856428895956, 0.6590909090909091, 'x[6] <= 83.65\\nsquared_error = 3068.11\\nsamples = 5\\nvalue = 919.84'),\n",
              " Text(0.5079509313948205, 0.6136363636363636, 'x[13] <= 156.0\\nsquared_error = 441.716\\nsamples = 3\\nvalue = 877.233'),\n",
              " Text(0.506133575647433, 0.5681818181818182, 'squared_error = 0.0\\nsamples = 1\\nvalue = 850.7'),\n",
              " Text(0.5097682871422081, 0.5681818181818182, 'x[10] <= 65.55\\nsquared_error = 134.56\\nsamples = 2\\nvalue = 890.5'),\n",
              " Text(0.5079509313948205, 0.5227272727272727, 'squared_error = 0.0\\nsamples = 1\\nvalue = 878.9'),\n",
              " Text(0.5115856428895956, 0.5227272727272727, 'squared_error = 0.0\\nsamples = 1\\nvalue = 902.1'),\n",
              " Text(0.5152203543843707, 0.6136363636363636, 'x[6] <= 91.9\\nsquared_error = 200.222\\nsamples = 2\\nvalue = 983.75'),\n",
              " Text(0.5134029986369832, 0.5681818181818182, 'squared_error = 0.0\\nsamples = 1\\nvalue = 969.6'),\n",
              " Text(0.5170377101317583, 0.5681818181818182, 'squared_error = -0.0\\nsamples = 1\\nvalue = 997.9'),\n",
              " Text(0.5206724216265334, 0.6590909090909091, 'x[2] <= 215.1\\nsquared_error = 0.123\\nsamples = 2\\nvalue = 1132.35'),\n",
              " Text(0.5188550658791459, 0.6136363636363636, 'squared_error = 0.0\\nsamples = 1\\nvalue = 1132.0'),\n",
              " Text(0.522489777373921, 0.6136363636363636, 'squared_error = 0.0\\nsamples = 1\\nvalue = 1132.7'),\n",
              " Text(0.5324852339845525, 0.7045454545454546, 'x[2] <= 24.0\\nsquared_error = 8333.961\\nsamples = 14\\nvalue = 1300.893'),\n",
              " Text(0.5279418446160836, 0.6590909090909091, 'x[9] <= 196.2\\nsquared_error = 97.022\\nsamples = 2\\nvalue = 1130.55'),\n",
              " Text(0.526124488868696, 0.6136363636363636, 'squared_error = 0.0\\nsamples = 1\\nvalue = 1140.4'),\n",
              " Text(0.5297592003634711, 0.6136363636363636, 'squared_error = -0.0\\nsamples = 1\\nvalue = 1120.7'),\n",
              " Text(0.5370286233530214, 0.6590909090909091, 'x[6] <= 249.75\\nsquared_error = 4064.65\\nsamples = 12\\nvalue = 1329.283'),\n",
              " Text(0.5333939118582463, 0.6136363636363636, 'x[5] <= 56.9\\nsquared_error = 709.012\\nsamples = 10\\nvalue = 1308.88'),\n",
              " Text(0.5315765561108587, 0.5681818181818182, 'squared_error = 0.0\\nsamples = 1\\nvalue = 1248.8'),\n",
              " Text(0.5352112676056338, 0.5681818181818182, 'x[3] <= 105.3\\nsquared_error = 342.16\\nsamples = 9\\nvalue = 1315.556'),\n",
              " Text(0.5306678782371649, 0.5227272727272727, 'x[14] <= 833.5\\nsquared_error = 49.826\\nsamples = 5\\nvalue = 1299.92'),\n",
              " Text(0.5288505224897774, 0.4772727272727273, 'x[14] <= 801.85\\nsquared_error = 4.312\\nsamples = 4\\nvalue = 1303.325'),\n",
              " Text(0.5252158109950023, 0.4318181818181818, 'x[7] <= 129.75\\nsquared_error = 1.103\\nsamples = 2\\nvalue = 1301.45'),\n",
              " Text(0.5233984552476147, 0.38636363636363635, 'squared_error = 0.0\\nsamples = 1\\nvalue = 1302.5'),\n",
              " Text(0.5270331667423899, 0.38636363636363635, 'squared_error = 0.0\\nsamples = 1\\nvalue = 1300.4'),\n",
              " Text(0.5324852339845525, 0.4318181818181818, 'x[11] <= 12.55\\nsquared_error = 0.49\\nsamples = 2\\nvalue = 1305.2'),\n",
              " Text(0.5306678782371649, 0.38636363636363635, 'squared_error = 0.0\\nsamples = 1\\nvalue = 1304.5'),\n",
              " Text(0.53430258973194, 0.38636363636363635, 'squared_error = 0.0\\nsamples = 1\\nvalue = 1305.9'),\n",
              " Text(0.5324852339845525, 0.4772727272727273, 'squared_error = -0.0\\nsamples = 1\\nvalue = 1286.3'),\n",
              " Text(0.5397546569741026, 0.5227272727272727, 'x[12] <= 308.25\\nsquared_error = 20.005\\nsamples = 4\\nvalue = 1335.1'),\n",
              " Text(0.5379373012267151, 0.4772727272727273, 'x[9] <= 70.5\\nsquared_error = 6.722\\nsamples = 3\\nvalue = 1337.333'),\n",
              " Text(0.5361199454793276, 0.4318181818181818, 'squared_error = 0.0\\nsamples = 2\\nvalue = 1335.5'),\n",
              " Text(0.5397546569741026, 0.4318181818181818, 'squared_error = 0.0\\nsamples = 1\\nvalue = 1341.0'),\n",
              " Text(0.5415720127214902, 0.4772727272727273, 'squared_error = 0.0\\nsamples = 1\\nvalue = 1328.4'),\n",
              " Text(0.5406633348477965, 0.6136363636363636, 'x[0] <= 18.1\\nsquared_error = 8353.96\\nsamples = 2\\nvalue = 1431.3'),\n",
              " Text(0.5388459791004089, 0.5681818181818182, 'squared_error = 0.0\\nsamples = 1\\nvalue = 1339.9'),\n",
              " Text(0.542480690595184, 0.5681818181818182, 'squared_error = -0.0\\nsamples = 1\\nvalue = 1522.7'),\n",
              " Text(0.7838482507950931, 0.8863636363636364, 'x[5] <= 247.3\\nsquared_error = 85456.568\\nsamples = 158\\nvalue = 1470.556'),\n",
              " Text(0.7174579736483416, 0.8409090909090909, 'x[14] <= 1258.2\\nsquared_error = 36518.269\\nsamples = 119\\nvalue = 1344.237'),\n",
              " Text(0.6407314856883235, 0.7954545454545454, 'x[2] <= 12.8\\nsquared_error = 17092.357\\nsamples = 102\\nvalue = 1292.76'),\n",
              " Text(0.5905270331667424, 0.75, 'x[6] <= 358.8\\nsquared_error = 4374.938\\nsamples = 42\\nvalue = 1178.274'),\n",
              " Text(0.5754202635165834, 0.7045454545454546, 'x[13] <= 61.6\\nsquared_error = 840.349\\nsamples = 30\\nvalue = 1146.307'),\n",
              " Text(0.5638346206269877, 0.6590909090909091, 'x[14] <= 1021.8\\nsquared_error = 622.536\\nsamples = 24\\nvalue = 1138.662'),\n",
              " Text(0.5533848250795094, 0.6136363636363636, 'x[4] <= 21.3\\nsquared_error = 303.126\\nsamples = 13\\nvalue = 1122.223'),\n",
              " Text(0.5488414357110404, 0.5681818181818182, 'x[7] <= 354.3\\nsquared_error = 197.886\\nsamples = 8\\nvalue = 1112.488'),\n",
              " Text(0.5470240799636529, 0.5227272727272727, 'x[6] <= 309.2\\nsquared_error = 100.997\\nsamples = 7\\nvalue = 1116.443'),\n",
              " Text(0.5452067242162654, 0.4772727272727273, 'squared_error = 0.0\\nsamples = 1\\nvalue = 1095.9'),\n",
              " Text(0.5488414357110404, 0.4772727272727273, 'x[10] <= 4.2\\nsquared_error = 35.772\\nsamples = 6\\nvalue = 1119.867'),\n",
              " Text(0.5442980463425715, 0.4318181818181818, 'x[12] <= 28.0\\nsquared_error = 2.89\\nsamples = 2\\nvalue = 1112.3'),\n",
              " Text(0.542480690595184, 0.38636363636363635, 'squared_error = 0.0\\nsamples = 1\\nvalue = 1110.6'),\n",
              " Text(0.5461154020899591, 0.38636363636363635, 'squared_error = 0.0\\nsamples = 1\\nvalue = 1114.0'),\n",
              " Text(0.5533848250795094, 0.4318181818181818, 'x[12] <= 30.1\\nsquared_error = 9.272\\nsamples = 4\\nvalue = 1123.65'),\n",
              " Text(0.5497501135847342, 0.38636363636363635, 'x[4] <= 18.7\\nsquared_error = 0.422\\nsamples = 2\\nvalue = 1120.65'),\n",
              " Text(0.5479327578373466, 0.3409090909090909, 'squared_error = 0.0\\nsamples = 1\\nvalue = 1120.0'),\n",
              " Text(0.5515674693321218, 0.3409090909090909, 'squared_error = -0.0\\nsamples = 1\\nvalue = 1121.3'),\n",
              " Text(0.5570195365742844, 0.38636363636363635, 'x[15] <= 52.55\\nsquared_error = 0.122\\nsamples = 2\\nvalue = 1126.65'),\n",
              " Text(0.5552021808268969, 0.3409090909090909, 'squared_error = 0.0\\nsamples = 1\\nvalue = 1127.0'),\n",
              " Text(0.558836892321672, 0.3409090909090909, 'squared_error = -0.0\\nsamples = 1\\nvalue = 1126.3'),\n",
              " Text(0.550658791458428, 0.5227272727272727, 'squared_error = 0.0\\nsamples = 1\\nvalue = 1084.8'),\n",
              " Text(0.5579282144479782, 0.5681818181818182, 'x[3] <= 9.15\\nsquared_error = 77.22\\nsamples = 5\\nvalue = 1137.8'),\n",
              " Text(0.5542935029532031, 0.5227272727272727, 'x[0] <= 18.15\\nsquared_error = 2.102\\nsamples = 2\\nvalue = 1147.15'),\n",
              " Text(0.5524761472058155, 0.4772727272727273, 'squared_error = 0.0\\nsamples = 1\\nvalue = 1145.7'),\n",
              " Text(0.5561108587005906, 0.4772727272727273, 'squared_error = -0.0\\nsamples = 1\\nvalue = 1148.6'),\n",
              " Text(0.5615629259427533, 0.5227272727272727, 'x[13] <= 52.25\\nsquared_error = 30.162\\nsamples = 3\\nvalue = 1131.567'),\n",
              " Text(0.5597455701953657, 0.4772727272727273, 'x[1] <= 11.55\\nsquared_error = 0.003\\nsamples = 2\\nvalue = 1135.45'),\n",
              " Text(0.5579282144479782, 0.4318181818181818, 'squared_error = 0.0\\nsamples = 1\\nvalue = 1135.5'),\n",
              " Text(0.5615629259427533, 0.4318181818181818, 'squared_error = 0.0\\nsamples = 1\\nvalue = 1135.4'),\n",
              " Text(0.5633802816901409, 0.4772727272727273, 'squared_error = -0.0\\nsamples = 1\\nvalue = 1123.8'),\n",
              " Text(0.5742844161744661, 0.6136363636363636, 'x[3] <= 2.35\\nsquared_error = 303.164\\nsamples = 11\\nvalue = 1158.091'),\n",
              " Text(0.570649704679691, 0.5681818181818182, 'x[9] <= 35.25\\nsquared_error = 80.045\\nsamples = 4\\nvalue = 1142.1'),\n",
              " Text(0.5688323489323035, 0.5227272727272727, 'x[10] <= 11.05\\nsquared_error = 22.087\\nsamples = 3\\nvalue = 1146.7'),\n",
              " Text(0.567014993184916, 0.4772727272727273, 'x[4] <= 4.65\\nsquared_error = 7.022\\nsamples = 2\\nvalue = 1143.75'),\n",
              " Text(0.5651976374375284, 0.4318181818181818, 'squared_error = 0.0\\nsamples = 1\\nvalue = 1141.1'),\n",
              " Text(0.5688323489323035, 0.4318181818181818, 'squared_error = 0.0\\nsamples = 1\\nvalue = 1146.4'),\n",
              " Text(0.570649704679691, 0.4772727272727273, 'squared_error = 0.0\\nsamples = 1\\nvalue = 1152.6'),\n",
              " Text(0.5724670604270786, 0.5227272727272727, 'squared_error = -0.0\\nsamples = 1\\nvalue = 1128.3'),\n",
              " Text(0.5779191276692413, 0.5681818181818182, 'x[12] <= 12.2\\nsquared_error = 201.045\\nsamples = 7\\nvalue = 1167.229'),\n",
              " Text(0.5761017719218537, 0.5227272727272727, 'squared_error = 0.0\\nsamples = 1\\nvalue = 1141.3'),\n",
              " Text(0.5797364834166288, 0.5227272727272727, 'x[7] <= 401.25\\nsquared_error = 103.829\\nsamples = 6\\nvalue = 1171.55'),\n",
              " Text(0.5779191276692413, 0.4772727272727273, 'x[15] <= 68.8\\nsquared_error = 20.262\\nsamples = 5\\nvalue = 1167.38'),\n",
              " Text(0.5761017719218537, 0.4318181818181818, 'x[8] <= 202.5\\nsquared_error = 8.765\\nsamples = 4\\nvalue = 1169.2'),\n",
              " Text(0.5742844161744661, 0.38636363636363635, 'squared_error = 0.0\\nsamples = 1\\nvalue = 1164.6'),\n",
              " Text(0.5779191276692413, 0.38636363636363635, 'x[5] <= 157.8\\nsquared_error = 2.282\\nsamples = 3\\nvalue = 1170.733'),\n",
              " Text(0.5761017719218537, 0.3409090909090909, 'x[11] <= 7.4\\nsquared_error = 0.01\\nsamples = 2\\nvalue = 1171.8'),\n",
              " Text(0.5742844161744661, 0.29545454545454547, 'squared_error = 0.0\\nsamples = 1\\nvalue = 1171.9'),\n",
              " Text(0.5779191276692413, 0.29545454545454547, 'squared_error = -0.0\\nsamples = 1\\nvalue = 1171.7'),\n",
              " Text(0.5797364834166288, 0.3409090909090909, 'squared_error = 0.0\\nsamples = 1\\nvalue = 1168.6'),\n",
              " Text(0.5797364834166288, 0.4318181818181818, 'squared_error = -0.0\\nsamples = 1\\nvalue = 1160.1'),\n",
              " Text(0.5815538391640164, 0.4772727272727273, 'squared_error = 0.0\\nsamples = 1\\nvalue = 1192.4'),\n",
              " Text(0.587005906406179, 0.6590909090909091, 'x[12] <= 22.35\\nsquared_error = 542.935\\nsamples = 6\\nvalue = 1176.883'),\n",
              " Text(0.5833711949114039, 0.6136363636363636, 'x[7] <= 281.4\\nsquared_error = 14.823\\nsamples = 2\\nvalue = 1150.65'),\n",
              " Text(0.5815538391640164, 0.5681818181818182, 'squared_error = 0.0\\nsamples = 1\\nvalue = 1146.8'),\n",
              " Text(0.5851885506587915, 0.5681818181818182, 'squared_error = -0.0\\nsamples = 1\\nvalue = 1154.5'),\n",
              " Text(0.5906406179009541, 0.6136363636363636, 'x[1] <= 11.3\\nsquared_error = 290.85\\nsamples = 4\\nvalue = 1190.0'),\n",
              " Text(0.5888232621535665, 0.5681818181818182, 'x[6] <= 303.05\\nsquared_error = 41.84\\nsamples = 3\\nvalue = 1199.3'),\n",
              " Text(0.587005906406179, 0.5227272727272727, 'squared_error = 0.0\\nsamples = 1\\nvalue = 1207.9'),\n",
              " Text(0.5906406179009541, 0.5227272727272727, 'x[7] <= 293.25\\nsquared_error = 7.29\\nsamples = 2\\nvalue = 1195.0'),\n",
              " Text(0.5888232621535665, 0.4772727272727273, 'squared_error = 0.0\\nsamples = 1\\nvalue = 1192.3'),\n",
              " Text(0.5924579736483416, 0.4772727272727273, 'squared_error = 0.0\\nsamples = 1\\nvalue = 1197.7'),\n",
              " Text(0.5924579736483416, 0.5681818181818182, 'squared_error = -0.0\\nsamples = 1\\nvalue = 1162.1'),\n",
              " Text(0.6056338028169014, 0.7045454545454546, 'x[5] <= 165.65\\nsquared_error = 4269.801\\nsamples = 12\\nvalue = 1258.192'),\n",
              " Text(0.5997273966378919, 0.6590909090909091, 'x[1] <= 16.7\\nsquared_error = 1175.366\\nsamples = 5\\nvalue = 1189.84'),\n",
              " Text(0.5979100408905044, 0.6136363636363636, 'x[15] <= 43.6\\nsquared_error = 415.782\\nsamples = 4\\nvalue = 1175.325'),\n",
              " Text(0.5960926851431168, 0.5681818181818182, 'squared_error = 0.0\\nsamples = 1\\nvalue = 1143.7'),\n",
              " Text(0.5997273966378919, 0.5681818181818182, 'x[3] <= 3.7\\nsquared_error = 109.869\\nsamples = 3\\nvalue = 1185.867'),\n",
              " Text(0.5979100408905044, 0.5227272727272727, 'squared_error = 0.0\\nsamples = 1\\nvalue = 1200.5'),\n",
              " Text(0.6015447523852794, 0.5227272727272727, 'x[7] <= 342.2\\nsquared_error = 4.202\\nsamples = 2\\nvalue = 1178.55'),\n",
              " Text(0.5997273966378919, 0.4772727272727273, 'squared_error = 0.0\\nsamples = 1\\nvalue = 1176.5'),\n",
              " Text(0.603362108132667, 0.4772727272727273, 'squared_error = 0.0\\nsamples = 1\\nvalue = 1180.6'),\n",
              " Text(0.6015447523852794, 0.6136363636363636, 'squared_error = 0.0\\nsamples = 1\\nvalue = 1247.9'),\n",
              " Text(0.611540208995911, 0.6590909090909091, 'x[6] <= 372.8\\nsquared_error = 759.356\\nsamples = 7\\nvalue = 1307.014'),\n",
              " Text(0.6051794638800545, 0.6136363636363636, 'x[10] <= 4.6\\nsquared_error = 46.162\\nsamples = 3\\nvalue = 1335.867'),\n",
              " Text(0.603362108132667, 0.5681818181818182, 'squared_error = 0.0\\nsamples = 1\\nvalue = 1326.6'),\n",
              " Text(0.6069968196274421, 0.5681818181818182, 'x[0] <= 15.6\\nsquared_error = 4.84\\nsamples = 2\\nvalue = 1340.5'),\n",
              " Text(0.6051794638800545, 0.5227272727272727, 'squared_error = 0.0\\nsamples = 1\\nvalue = 1342.7'),\n",
              " Text(0.6088141753748296, 0.5227272727272727, 'squared_error = -0.0\\nsamples = 1\\nvalue = 1338.3'),\n",
              " Text(0.6179009541117674, 0.6136363636363636, 'x[6] <= 385.85\\nsquared_error = 201.647\\nsamples = 4\\nvalue = 1285.375'),\n",
              " Text(0.6142662426169923, 0.5681818181818182, 'x[10] <= 5.55\\nsquared_error = 3.803\\nsamples = 2\\nvalue = 1271.85'),\n",
              " Text(0.6124488868696047, 0.5227272727272727, 'squared_error = 0.0\\nsamples = 1\\nvalue = 1273.8'),\n",
              " Text(0.6160835983643799, 0.5227272727272727, 'squared_error = 0.0\\nsamples = 1\\nvalue = 1269.9'),\n",
              " Text(0.6215356656065425, 0.5681818181818182, 'x[7] <= 317.05\\nsquared_error = 33.64\\nsamples = 2\\nvalue = 1298.9'),\n",
              " Text(0.6197183098591549, 0.5227272727272727, 'squared_error = 0.0\\nsamples = 1\\nvalue = 1293.1'),\n",
              " Text(0.62335302135393, 0.5227272727272727, 'squared_error = -0.0\\nsamples = 1\\nvalue = 1304.7'),\n",
              " Text(0.6909359382099046, 0.75, 'x[14] <= 1066.45\\nsquared_error = 10397.169\\nsamples = 60\\nvalue = 1372.9'),\n",
              " Text(0.6492503407542026, 0.7045454545454546, 'x[3] <= 27.85\\nsquared_error = 5618.571\\nsamples = 16\\nvalue = 1268.244'),\n",
              " Text(0.6360745115856429, 0.6590909090909091, 'x[3] <= 15.1\\nsquared_error = 1443.817\\nsamples = 9\\nvalue = 1215.878'),\n",
              " Text(0.6306224443434802, 0.6136363636363636, 'x[7] <= 345.55\\nsquared_error = 558.496\\nsamples = 3\\nvalue = 1177.233'),\n",
              " Text(0.6288050885960926, 0.5681818181818182, 'x[4] <= 22.65\\nsquared_error = 4.41\\nsamples = 2\\nvalue = 1193.9'),\n",
              " Text(0.6269877328487051, 0.5227272727272727, 'squared_error = 0.0\\nsamples = 1\\nvalue = 1191.8'),\n",
              " Text(0.6306224443434802, 0.5227272727272727, 'squared_error = -0.0\\nsamples = 1\\nvalue = 1196.0'),\n",
              " Text(0.6324398000908678, 0.5681818181818182, 'squared_error = -0.0\\nsamples = 1\\nvalue = 1143.9'),\n",
              " Text(0.6415265788278055, 0.6136363636363636, 'x[10] <= 11.15\\nsquared_error = 766.433\\nsamples = 6\\nvalue = 1235.2'),\n",
              " Text(0.6360745115856429, 0.5681818181818182, 'x[5] <= 134.5\\nsquared_error = 72.847\\nsamples = 3\\nvalue = 1256.4'),\n",
              " Text(0.6342571558382554, 0.5227272727272727, 'squared_error = 0.0\\nsamples = 1\\nvalue = 1268.2'),\n",
              " Text(0.6378918673330305, 0.5227272727272727, 'x[15] <= 89.85\\nsquared_error = 4.84\\nsamples = 2\\nvalue = 1250.5'),\n",
              " Text(0.6360745115856429, 0.4772727272727273, 'squared_error = 0.0\\nsamples = 1\\nvalue = 1248.3'),\n",
              " Text(0.639709223080418, 0.4772727272727273, 'squared_error = -0.0\\nsamples = 1\\nvalue = 1252.7'),\n",
              " Text(0.6469786460699682, 0.5681818181818182, 'x[5] <= 187.55\\nsquared_error = 561.14\\nsamples = 3\\nvalue = 1214.0'),\n",
              " Text(0.6451612903225806, 0.5227272727272727, 'x[8] <= 207.7\\nsquared_error = 0.022\\nsamples = 2\\nvalue = 1197.25'),\n",
              " Text(0.6433439345751931, 0.4772727272727273, 'squared_error = 0.0\\nsamples = 1\\nvalue = 1197.4'),\n",
              " Text(0.6469786460699682, 0.4772727272727273, 'squared_error = 0.0\\nsamples = 1\\nvalue = 1197.1'),\n",
              " Text(0.6487960018173557, 0.5227272727272727, 'squared_error = 0.0\\nsamples = 1\\nvalue = 1247.5'),\n",
              " Text(0.6624261699227624, 0.6590909090909091, 'x[1] <= 27.45\\nsquared_error = 2927.416\\nsamples = 7\\nvalue = 1335.571'),\n",
              " Text(0.6578827805542935, 0.6136363636363636, 'x[6] <= 293.9\\nsquared_error = 657.65\\nsamples = 5\\nvalue = 1305.46'),\n",
              " Text(0.6542480690595184, 0.5681818181818182, 'x[14] <= 1006.3\\nsquared_error = 241.802\\nsamples = 2\\nvalue = 1277.15'),\n",
              " Text(0.6524307133121309, 0.5227272727272727, 'squared_error = 0.0\\nsamples = 1\\nvalue = 1261.6'),\n",
              " Text(0.656065424806906, 0.5227272727272727, 'squared_error = -0.0\\nsamples = 1\\nvalue = 1292.7'),\n",
              " Text(0.6615174920490686, 0.5681818181818182, 'x[9] <= 102.5\\nsquared_error = 44.376\\nsamples = 3\\nvalue = 1324.333'),\n",
              " Text(0.659700136301681, 0.5227272727272727, 'squared_error = 0.0\\nsamples = 1\\nvalue = 1315.2'),\n",
              " Text(0.6633348477964561, 0.5227272727272727, 'x[1] <= 20.55\\nsquared_error = 4.0\\nsamples = 2\\nvalue = 1328.9'),\n",
              " Text(0.6615174920490686, 0.4772727272727273, 'squared_error = 0.0\\nsamples = 1\\nvalue = 1330.9'),\n",
              " Text(0.6651522035438437, 0.4772727272727273, 'squared_error = 0.0\\nsamples = 1\\nvalue = 1326.9'),\n",
              " Text(0.6669695592912313, 0.6136363636363636, 'x[0] <= 35.4\\nsquared_error = 668.222\\nsamples = 2\\nvalue = 1410.85'),\n",
              " Text(0.6651522035438437, 0.5681818181818182, 'squared_error = 0.0\\nsamples = 1\\nvalue = 1436.7'),\n",
              " Text(0.6687869150386188, 0.5681818181818182, 'squared_error = 0.0\\nsamples = 1\\nvalue = 1385.0'),\n",
              " Text(0.7326215356656065, 0.7045454545454546, 'x[2] <= 25.65\\nsquared_error = 6703.636\\nsamples = 44\\nvalue = 1410.957'),\n",
              " Text(0.7050204452521581, 0.6590909090909091, 'x[8] <= 228.55\\nsquared_error = 2548.362\\nsamples = 30\\nvalue = 1368.967'),\n",
              " Text(0.6849159472966834, 0.6136363636363636, 'x[14] <= 1145.7\\nsquared_error = 1594.407\\nsamples = 16\\nvalue = 1337.712'),\n",
              " Text(0.6742389822807815, 0.5681818181818182, 'x[10] <= 14.05\\nsquared_error = 1019.556\\nsamples = 6\\nvalue = 1301.85'),\n",
              " Text(0.6724216265333939, 0.5227272727272727, 'x[0] <= 12.15\\nsquared_error = 355.142\\nsamples = 5\\nvalue = 1289.82'),\n",
              " Text(0.6687869150386188, 0.4772727272727273, 'x[4] <= 15.55\\nsquared_error = 12.603\\nsamples = 2\\nvalue = 1268.45'),\n",
              " Text(0.6669695592912313, 0.4318181818181818, 'squared_error = 0.0\\nsamples = 1\\nvalue = 1272.0'),\n",
              " Text(0.6706042707860064, 0.4318181818181818, 'squared_error = 0.0\\nsamples = 1\\nvalue = 1264.9'),\n",
              " Text(0.676056338028169, 0.4772727272727273, 'x[14] <= 1128.55\\nsquared_error = 76.082\\nsamples = 3\\nvalue = 1304.067'),\n",
              " Text(0.6742389822807815, 0.4318181818181818, 'x[3] <= 16.45\\nsquared_error = 17.223\\nsamples = 2\\nvalue = 1309.75'),\n",
              " Text(0.6724216265333939, 0.38636363636363635, 'squared_error = 0.0\\nsamples = 1\\nvalue = 1313.9'),\n",
              " Text(0.676056338028169, 0.38636363636363635, 'squared_error = 0.0\\nsamples = 1\\nvalue = 1305.6'),\n",
              " Text(0.6778736937755566, 0.4318181818181818, 'squared_error = -0.0\\nsamples = 1\\nvalue = 1292.7'),\n",
              " Text(0.676056338028169, 0.5227272727272727, 'squared_error = 0.0\\nsamples = 1\\nvalue = 1362.0'),\n",
              " Text(0.6955929123125852, 0.5681818181818182, 'x[7] <= 425.0\\nsquared_error = 704.644\\nsamples = 10\\nvalue = 1359.23'),\n",
              " Text(0.6896865061335756, 0.5227272727272727, 'x[3] <= 8.8\\nsquared_error = 338.568\\nsamples = 8\\nvalue = 1348.85'),\n",
              " Text(0.6833257610177192, 0.4772727272727273, 'x[12] <= 29.5\\nsquared_error = 79.896\\nsamples = 3\\nvalue = 1328.133'),\n",
              " Text(0.6815084052703316, 0.4318181818181818, 'squared_error = 0.0\\nsamples = 1\\nvalue = 1315.8'),\n",
              " Text(0.6851431167651068, 0.4318181818181818, 'x[2] <= 13.7\\nsquared_error = 5.76\\nsamples = 2\\nvalue = 1334.3'),\n",
              " Text(0.6833257610177192, 0.38636363636363635, 'squared_error = 0.0\\nsamples = 1\\nvalue = 1331.9'),\n",
              " Text(0.6869604725124944, 0.38636363636363635, 'squared_error = -0.0\\nsamples = 1\\nvalue = 1336.7'),\n",
              " Text(0.6960472512494321, 0.4772727272727273, 'x[1] <= 16.1\\nsquared_error = 81.758\\nsamples = 5\\nvalue = 1361.28'),\n",
              " Text(0.692412539754657, 0.4318181818181818, 'x[3] <= 29.7\\nsquared_error = 14.762\\nsamples = 3\\nvalue = 1368.033'),\n",
              " Text(0.6905951840072694, 0.38636363636363635, 'x[9] <= 64.2\\nsquared_error = 0.003\\nsamples = 2\\nvalue = 1370.75'),\n",
              " Text(0.6887778282598819, 0.3409090909090909, 'squared_error = 0.0\\nsamples = 1\\nvalue = 1370.7'),\n",
              " Text(0.692412539754657, 0.3409090909090909, 'squared_error = -0.0\\nsamples = 1\\nvalue = 1370.8'),\n",
              " Text(0.6942298955020445, 0.38636363636363635, 'squared_error = 0.0\\nsamples = 1\\nvalue = 1362.6'),\n",
              " Text(0.6996819627442071, 0.4318181818181818, 'x[14] <= 1175.35\\nsquared_error = 11.223\\nsamples = 2\\nvalue = 1351.15'),\n",
              " Text(0.6978646069968196, 0.38636363636363635, 'squared_error = 0.0\\nsamples = 1\\nvalue = 1354.5'),\n",
              " Text(0.7014993184915947, 0.38636363636363635, 'squared_error = -0.0\\nsamples = 1\\nvalue = 1347.8'),\n",
              " Text(0.7014993184915947, 0.5227272727272727, 'x[10] <= 9.95\\nsquared_error = 14.062\\nsamples = 2\\nvalue = 1400.75'),\n",
              " Text(0.6996819627442071, 0.4772727272727273, 'squared_error = 0.0\\nsamples = 1\\nvalue = 1397.0'),\n",
              " Text(0.7033166742389823, 0.4772727272727273, 'squared_error = 0.0\\nsamples = 1\\nvalue = 1404.5'),\n",
              " Text(0.7251249432076329, 0.6136363636363636, 'x[10] <= 12.55\\nsquared_error = 1246.376\\nsamples = 14\\nvalue = 1404.686'),\n",
              " Text(0.7151294865970014, 0.5681818181818182, 'x[4] <= 48.95\\nsquared_error = 266.394\\nsamples = 8\\nvalue = 1383.788'),\n",
              " Text(0.7087687414811449, 0.5227272727272727, 'x[7] <= 358.0\\nsquared_error = 25.037\\nsamples = 4\\nvalue = 1395.725'),\n",
              " Text(0.7069513857337574, 0.4772727272727273, 'squared_error = 0.0\\nsamples = 1\\nvalue = 1403.2'),\n",
              " Text(0.7105860972285325, 0.4772727272727273, 'x[6] <= 406.9\\nsquared_error = 8.549\\nsamples = 3\\nvalue = 1393.233'),\n",
              " Text(0.7087687414811449, 0.4318181818181818, 'x[0] <= 6.95\\nsquared_error = 0.01\\nsamples = 2\\nvalue = 1395.3'),\n",
              " Text(0.7069513857337574, 0.38636363636363635, 'squared_error = 0.0\\nsamples = 1\\nvalue = 1395.4'),\n",
              " Text(0.7105860972285325, 0.38636363636363635, 'squared_error = -0.0\\nsamples = 1\\nvalue = 1395.2'),\n",
              " Text(0.71240345297592, 0.4318181818181818, 'squared_error = -0.0\\nsamples = 1\\nvalue = 1389.1'),\n",
              " Text(0.7214902317128578, 0.5227272727272727, 'x[9] <= 112.0\\nsquared_error = 222.743\\nsamples = 4\\nvalue = 1371.85'),\n",
              " Text(0.7178555202180827, 0.4772727272727273, 'x[1] <= 19.25\\nsquared_error = 4.84\\nsamples = 2\\nvalue = 1357.4'),\n",
              " Text(0.7160381644706951, 0.4318181818181818, 'squared_error = 0.0\\nsamples = 1\\nvalue = 1355.2'),\n",
              " Text(0.7196728759654702, 0.4318181818181818, 'squared_error = -0.0\\nsamples = 1\\nvalue = 1359.6'),\n",
              " Text(0.7251249432076329, 0.4772727272727273, 'x[2] <= 18.1\\nsquared_error = 23.04\\nsamples = 2\\nvalue = 1386.3'),\n",
              " Text(0.7233075874602454, 0.4318181818181818, 'squared_error = 0.0\\nsamples = 1\\nvalue = 1381.5'),\n",
              " Text(0.7269422989550205, 0.4318181818181818, 'squared_error = 0.0\\nsamples = 1\\nvalue = 1391.1'),\n",
              " Text(0.7351203998182644, 0.5681818181818182, 'x[3] <= 21.45\\nsquared_error = 1194.286\\nsamples = 6\\nvalue = 1432.55'),\n",
              " Text(0.7305770104497955, 0.5227272727272727, 'x[9] <= 99.5\\nsquared_error = 11.56\\nsamples = 2\\nvalue = 1479.4'),\n",
              " Text(0.728759654702408, 0.4772727272727273, 'squared_error = 0.0\\nsamples = 1\\nvalue = 1482.8'),\n",
              " Text(0.7323943661971831, 0.4772727272727273, 'squared_error = -0.0\\nsamples = 1\\nvalue = 1476.0'),\n",
              " Text(0.7396637891867333, 0.5227272727272727, 'x[10] <= 13.3\\nsquared_error = 139.457\\nsamples = 4\\nvalue = 1409.125'),\n",
              " Text(0.7360290776919582, 0.4772727272727273, 'x[0] <= 17.9\\nsquared_error = 0.903\\nsamples = 2\\nvalue = 1420.35'),\n",
              " Text(0.7342117219445706, 0.4318181818181818, 'squared_error = 0.0\\nsamples = 1\\nvalue = 1419.4'),\n",
              " Text(0.7378464334393458, 0.4318181818181818, 'squared_error = 0.0\\nsamples = 1\\nvalue = 1421.3'),\n",
              " Text(0.7432985006815084, 0.4772727272727273, 'x[9] <= 88.7\\nsquared_error = 26.01\\nsamples = 2\\nvalue = 1397.9'),\n",
              " Text(0.7414811449341209, 0.4318181818181818, 'squared_error = 0.0\\nsamples = 1\\nvalue = 1403.0'),\n",
              " Text(0.745115856428896, 0.4318181818181818, 'squared_error = -0.0\\nsamples = 1\\nvalue = 1392.8'),\n",
              " Text(0.760222626079055, 0.6590909090909091, 'x[13] <= 202.8\\nsquared_error = 3733.367\\nsamples = 14\\nvalue = 1500.936'),\n",
              " Text(0.7539754656974103, 0.6136363636363636, 'x[6] <= 299.05\\nsquared_error = 1892.695\\nsamples = 12\\nvalue = 1482.283'),\n",
              " Text(0.7469332121762835, 0.5681818181818182, 'x[15] <= 209.85\\nsquared_error = 557.262\\nsamples = 3\\nvalue = 1537.667'),\n",
              " Text(0.745115856428896, 0.5227272727272727, 'squared_error = 0.0\\nsamples = 1\\nvalue = 1507.4'),\n",
              " Text(0.748750567923671, 0.5227272727272727, 'x[13] <= 169.6\\nsquared_error = 148.84\\nsamples = 2\\nvalue = 1552.8'),\n",
              " Text(0.7469332121762835, 0.4772727272727273, 'squared_error = 0.0\\nsamples = 1\\nvalue = 1540.6'),\n",
              " Text(0.7505679236710586, 0.4772727272727273, 'squared_error = -0.0\\nsamples = 1\\nvalue = 1565.0'),\n",
              " Text(0.761017719218537, 0.5681818181818182, 'x[14] <= 1083.45\\nsquared_error = 974.588\\nsamples = 9\\nvalue = 1463.822'),\n",
              " Text(0.7560199909132213, 0.5227272727272727, 'x[5] <= 193.35\\nsquared_error = 22.563\\nsamples = 2\\nvalue = 1423.45'),\n",
              " Text(0.7542026351658337, 0.4772727272727273, 'squared_error = 0.0\\nsamples = 1\\nvalue = 1428.2'),\n",
              " Text(0.7578373466606089, 0.4772727272727273, 'squared_error = 0.0\\nsamples = 1\\nvalue = 1418.7'),\n",
              " Text(0.7660154475238528, 0.5227272727272727, 'x[13] <= 143.65\\nsquared_error = 647.851\\nsamples = 7\\nvalue = 1475.357'),\n",
              " Text(0.7614720581553839, 0.4772727272727273, 'x[11] <= 4.35\\nsquared_error = 84.398\\nsamples = 5\\nvalue = 1460.18'),\n",
              " Text(0.7578373466606089, 0.4318181818181818, 'x[5] <= 206.55\\nsquared_error = 0.81\\nsamples = 2\\nvalue = 1449.2'),\n",
              " Text(0.7560199909132213, 0.38636363636363635, 'squared_error = 0.0\\nsamples = 1\\nvalue = 1448.3'),\n",
              " Text(0.7596547024079964, 0.38636363636363635, 'squared_error = 0.0\\nsamples = 1\\nvalue = 1450.1'),\n",
              " Text(0.765106769650159, 0.4318181818181818, 'x[13] <= 109.5\\nsquared_error = 6.167\\nsamples = 3\\nvalue = 1467.5'),\n",
              " Text(0.7632894139027715, 0.38636363636363635, 'squared_error = 0.0\\nsamples = 1\\nvalue = 1464.0'),\n",
              " Text(0.7669241253975466, 0.38636363636363635, 'x[7] <= 354.2\\nsquared_error = 0.062\\nsamples = 2\\nvalue = 1469.25'),\n",
              " Text(0.765106769650159, 0.3409090909090909, 'squared_error = 0.0\\nsamples = 1\\nvalue = 1469.5'),\n",
              " Text(0.7687414811449341, 0.3409090909090909, 'squared_error = 0.0\\nsamples = 1\\nvalue = 1469.0'),\n",
              " Text(0.7705588368923216, 0.4772727272727273, 'x[12] <= 90.1\\nsquared_error = 40.96\\nsamples = 2\\nvalue = 1513.3'),\n",
              " Text(0.7687414811449341, 0.4318181818181818, 'squared_error = 0.0\\nsamples = 1\\nvalue = 1519.7'),\n",
              " Text(0.7723761926397092, 0.4318181818181818, 'squared_error = 0.0\\nsamples = 1\\nvalue = 1506.9'),\n",
              " Text(0.7664697864606996, 0.6136363636363636, 'x[0] <= 41.55\\nsquared_error = 165.123\\nsamples = 2\\nvalue = 1612.85'),\n",
              " Text(0.7646524307133121, 0.5681818181818182, 'squared_error = 0.0\\nsamples = 1\\nvalue = 1600.0'),\n",
              " Text(0.7682871422080872, 0.5681818181818182, 'squared_error = 0.0\\nsamples = 1\\nvalue = 1625.7'),\n",
              " Text(0.7941844616083599, 0.7954545454545454, 'x[11] <= 26.55\\nsquared_error = 41777.981\\nsamples = 17\\nvalue = 1653.1'),\n",
              " Text(0.785552021808269, 0.75, 'x[3] <= 19.6\\nsquared_error = 7521.179\\nsamples = 14\\nvalue = 1566.779'),\n",
              " Text(0.777373920945025, 0.7045454545454546, 'x[14] <= 1325.8\\nsquared_error = 3074.681\\nsamples = 6\\nvalue = 1487.983'),\n",
              " Text(0.7719218537028624, 0.6590909090909091, 'x[3] <= 7.7\\nsquared_error = 1130.96\\nsamples = 3\\nvalue = 1438.0'),\n",
              " Text(0.7701044979554748, 0.6136363636363636, 'squared_error = 0.0\\nsamples = 1\\nvalue = 1392.2'),\n",
              " Text(0.7737392094502499, 0.6136363636363636, 'x[9] <= 67.35\\nsquared_error = 123.21\\nsamples = 2\\nvalue = 1460.9'),\n",
              " Text(0.7719218537028624, 0.5681818181818182, 'squared_error = 0.0\\nsamples = 1\\nvalue = 1472.0'),\n",
              " Text(0.7755565651976375, 0.5681818181818182, 'squared_error = -0.0\\nsamples = 1\\nvalue = 1449.8'),\n",
              " Text(0.7828259881871876, 0.6590909090909091, 'x[0] <= 15.85\\nsquared_error = 21.736\\nsamples = 3\\nvalue = 1537.967'),\n",
              " Text(0.7810086324398001, 0.6136363636363636, 'x[5] <= 230.7\\nsquared_error = 1.563\\nsamples = 2\\nvalue = 1534.75'),\n",
              " Text(0.7791912766924125, 0.5681818181818182, 'squared_error = 0.0\\nsamples = 1\\nvalue = 1533.5'),\n",
              " Text(0.7828259881871876, 0.5681818181818182, 'squared_error = 0.0\\nsamples = 1\\nvalue = 1536.0'),\n",
              " Text(0.7846433439345752, 0.6136363636363636, 'squared_error = 0.0\\nsamples = 1\\nvalue = 1544.4'),\n",
              " Text(0.793730122671513, 0.7045454545454546, 'x[7] <= 453.75\\nsquared_error = 2707.147\\nsamples = 8\\nvalue = 1625.875'),\n",
              " Text(0.7919127669241254, 0.6590909090909091, 'x[13] <= 110.2\\nsquared_error = 827.314\\nsamples = 7\\nvalue = 1609.043'),\n",
              " Text(0.7882780554293503, 0.6136363636363636, 'x[1] <= 12.2\\nsquared_error = 0.04\\nsamples = 2\\nvalue = 1572.9'),\n",
              " Text(0.7864606996819627, 0.5681818181818182, 'squared_error = 0.0\\nsamples = 1\\nvalue = 1572.7'),\n",
              " Text(0.7900954111767379, 0.5681818181818182, 'squared_error = 0.0\\nsamples = 1\\nvalue = 1573.1'),\n",
              " Text(0.7955474784189005, 0.6136363636363636, 'x[7] <= 421.3\\nsquared_error = 426.692\\nsamples = 5\\nvalue = 1623.5'),\n",
              " Text(0.793730122671513, 0.5681818181818182, 'x[2] <= 14.05\\nsquared_error = 105.553\\nsamples = 4\\nvalue = 1614.25'),\n",
              " Text(0.7919127669241254, 0.5227272727272727, 'squared_error = 0.0\\nsamples = 1\\nvalue = 1598.2'),\n",
              " Text(0.7955474784189005, 0.5227272727272727, 'x[5] <= 220.8\\nsquared_error = 26.247\\nsamples = 3\\nvalue = 1619.6'),\n",
              " Text(0.793730122671513, 0.4772727272727273, 'x[3] <= 40.05\\nsquared_error = 0.49\\nsamples = 2\\nvalue = 1623.2'),\n",
              " Text(0.7919127669241254, 0.4318181818181818, 'squared_error = 0.0\\nsamples = 1\\nvalue = 1623.9'),\n",
              " Text(0.7955474784189005, 0.4318181818181818, 'squared_error = 0.0\\nsamples = 1\\nvalue = 1622.5'),\n",
              " Text(0.797364834166288, 0.4772727272727273, 'squared_error = -0.0\\nsamples = 1\\nvalue = 1612.4'),\n",
              " Text(0.797364834166288, 0.5681818181818182, 'squared_error = 0.0\\nsamples = 1\\nvalue = 1660.5'),\n",
              " Text(0.7955474784189005, 0.6590909090909091, 'squared_error = -0.0\\nsamples = 1\\nvalue = 1743.7'),\n",
              " Text(0.8028169014084507, 0.75, 'x[8] <= 234.95\\nsquared_error = 4595.216\\nsamples = 3\\nvalue = 2055.933'),\n",
              " Text(0.8009995456610631, 0.7045454545454546, 'x[5] <= 139.0\\nsquared_error = 128.823\\nsamples = 2\\nvalue = 2008.45'),\n",
              " Text(0.7991821899136756, 0.6590909090909091, 'squared_error = 0.0\\nsamples = 1\\nvalue = 1997.1'),\n",
              " Text(0.8028169014084507, 0.6590909090909091, 'squared_error = 0.0\\nsamples = 1\\nvalue = 2019.8'),\n",
              " Text(0.8046342571558383, 0.7045454545454546, 'squared_error = 0.0\\nsamples = 1\\nvalue = 2150.9'),\n",
              " Text(0.8502385279418446, 0.8409090909090909, 'x[2] <= 62.15\\nsquared_error = 37534.178\\nsamples = 39\\nvalue = 1855.99'),\n",
              " Text(0.8363243980009086, 0.7954545454545454, 'x[14] <= 1533.3\\nsquared_error = 28019.178\\nsamples = 28\\nvalue = 1783.261'),\n",
              " Text(0.8243980009086779, 0.75, 'x[3] <= 83.2\\nsquared_error = 14511.518\\nsamples = 22\\nvalue = 1718.582'),\n",
              " Text(0.8141753748296229, 0.7045454545454546, 'x[14] <= 1370.75\\nsquared_error = 6648.268\\nsamples = 13\\nvalue = 1646.377'),\n",
              " Text(0.8073602907769196, 0.6590909090909091, 'x[14] <= 1174.95\\nsquared_error = 3515.052\\nsamples = 10\\nvalue = 1615.45'),\n",
              " Text(0.8028169014084507, 0.6136363636363636, 'x[0] <= 18.2\\nsquared_error = 511.307\\nsamples = 4\\nvalue = 1562.525'),\n",
              " Text(0.8009995456610631, 0.5681818181818182, 'x[10] <= 27.7\\nsquared_error = 57.576\\nsamples = 3\\nvalue = 1550.033'),\n",
              " Text(0.7991821899136756, 0.5227272727272727, 'squared_error = 0.0\\nsamples = 1\\nvalue = 1559.8'),\n",
              " Text(0.8028169014084507, 0.5227272727272727, 'x[1] <= 32.25\\nsquared_error = 14.822\\nsamples = 2\\nvalue = 1545.15'),\n",
              " Text(0.8009995456610631, 0.4772727272727273, 'squared_error = 0.0\\nsamples = 1\\nvalue = 1541.3'),\n",
              " Text(0.8046342571558383, 0.4772727272727273, 'squared_error = -0.0\\nsamples = 1\\nvalue = 1549.0'),\n",
              " Text(0.8046342571558383, 0.5681818181818182, 'squared_error = 0.0\\nsamples = 1\\nvalue = 1600.0'),\n",
              " Text(0.8119036801453885, 0.6136363636363636, 'x[13] <= 143.25\\nsquared_error = 2405.266\\nsamples = 6\\nvalue = 1650.733'),\n",
              " Text(0.8100863243980009, 0.5681818181818182, 'squared_error = 0.0\\nsamples = 1\\nvalue = 1553.7'),\n",
              " Text(0.813721035892776, 0.5681818181818182, 'x[12] <= 37.85\\nsquared_error = 626.606\\nsamples = 5\\nvalue = 1670.14'),\n",
              " Text(0.8100863243980009, 0.5227272727272727, 'x[13] <= 170.65\\nsquared_error = 254.469\\nsamples = 3\\nvalue = 1654.167'),\n",
              " Text(0.8082689686506134, 0.4772727272727273, 'squared_error = 0.0\\nsamples = 1\\nvalue = 1632.2'),\n",
              " Text(0.8119036801453885, 0.4772727272727273, 'x[15] <= 194.45\\nsquared_error = 19.802\\nsamples = 2\\nvalue = 1665.15'),\n",
              " Text(0.8100863243980009, 0.4318181818181818, 'squared_error = 0.0\\nsamples = 1\\nvalue = 1660.7'),\n",
              " Text(0.813721035892776, 0.4318181818181818, 'squared_error = -0.0\\nsamples = 1\\nvalue = 1669.6'),\n",
              " Text(0.8173557473875511, 0.5227272727272727, 'x[8] <= 301.5\\nsquared_error = 228.01\\nsamples = 2\\nvalue = 1694.1'),\n",
              " Text(0.8155383916401635, 0.4772727272727273, 'squared_error = 0.0\\nsamples = 1\\nvalue = 1679.0'),\n",
              " Text(0.8191731031349386, 0.4772727272727273, 'squared_error = 0.0\\nsamples = 1\\nvalue = 1709.2'),\n",
              " Text(0.8209904588823262, 0.6590909090909091, 'x[15] <= 149.35\\nsquared_error = 3276.576\\nsamples = 3\\nvalue = 1749.467'),\n",
              " Text(0.8191731031349386, 0.6136363636363636, 'x[5] <= 282.7\\nsquared_error = 301.023\\nsamples = 2\\nvalue = 1710.25'),\n",
              " Text(0.8173557473875511, 0.5681818181818182, 'squared_error = 0.0\\nsamples = 1\\nvalue = 1692.9'),\n",
              " Text(0.8209904588823262, 0.5681818181818182, 'squared_error = 0.0\\nsamples = 1\\nvalue = 1727.6'),\n",
              " Text(0.8228078146297138, 0.6136363636363636, 'squared_error = 0.0\\nsamples = 1\\nvalue = 1827.9'),\n",
              " Text(0.8346206269877329, 0.7045454545454546, 'x[11] <= 11.7\\nsquared_error = 7461.22\\nsamples = 9\\nvalue = 1822.878'),\n",
              " Text(0.830077237619264, 0.6590909090909091, 'x[11] <= 7.85\\nsquared_error = 3381.969\\nsamples = 7\\nvalue = 1786.4'),\n",
              " Text(0.8264425261244889, 0.6136363636363636, 'x[12] <= 36.95\\nsquared_error = 31.19\\nsamples = 5\\nvalue = 1820.24'),\n",
              " Text(0.8246251703771014, 0.5681818181818182, 'squared_error = 0.0\\nsamples = 2\\nvalue = 1813.4'),\n",
              " Text(0.8282598818718764, 0.5681818181818182, 'squared_error = -0.0\\nsamples = 3\\nvalue = 1824.8'),\n",
              " Text(0.8337119491140391, 0.6136363636363636, 'x[15] <= 149.9\\nsquared_error = 1738.89\\nsamples = 2\\nvalue = 1701.8'),\n",
              " Text(0.8318945933666515, 0.5681818181818182, 'squared_error = 0.0\\nsamples = 1\\nvalue = 1743.5'),\n",
              " Text(0.8355293048614266, 0.5681818181818182, 'squared_error = 0.0\\nsamples = 1\\nvalue = 1660.1'),\n",
              " Text(0.8391640163562017, 0.6590909090909091, 'x[5] <= 365.65\\nsquared_error = 781.203\\nsamples = 2\\nvalue = 1950.55'),\n",
              " Text(0.8373466606088141, 0.6136363636363636, 'squared_error = 0.0\\nsamples = 1\\nvalue = 1978.5'),\n",
              " Text(0.8409813721035893, 0.6136363636363636, 'squared_error = 0.0\\nsamples = 1\\nvalue = 1922.6'),\n",
              " Text(0.8482507950931395, 0.75, 'x[0] <= 0.65\\nsquared_error = 5965.335\\nsamples = 6\\nvalue = 2020.417'),\n",
              " Text(0.8464334393457519, 0.7045454545454546, 'squared_error = 0.0\\nsamples = 1\\nvalue = 1866.4'),\n",
              " Text(0.850068150840527, 0.7045454545454546, 'x[8] <= 325.85\\nsquared_error = 1465.33\\nsamples = 5\\nvalue = 2051.22'),\n",
              " Text(0.8464334393457519, 0.6590909090909091, 'x[11] <= 4.15\\nsquared_error = 208.803\\nsamples = 2\\nvalue = 2007.25'),\n",
              " Text(0.8446160835983644, 0.6136363636363636, 'squared_error = 0.0\\nsamples = 1\\nvalue = 2021.7'),\n",
              " Text(0.8482507950931395, 0.6136363636363636, 'squared_error = 0.0\\nsamples = 1\\nvalue = 1992.8'),\n",
              " Text(0.8537028623353021, 0.6590909090909091, 'x[4] <= 68.8\\nsquared_error = 154.836\\nsamples = 3\\nvalue = 2080.533'),\n",
              " Text(0.8518855065879146, 0.6136363636363636, 'squared_error = 0.0\\nsamples = 1\\nvalue = 2063.0'),\n",
              " Text(0.8555202180826896, 0.6136363636363636, 'x[14] <= 1654.05\\nsquared_error = 1.69\\nsamples = 2\\nvalue = 2089.3'),\n",
              " Text(0.8537028623353021, 0.5681818181818182, 'squared_error = 0.0\\nsamples = 1\\nvalue = 2088.0'),\n",
              " Text(0.8573375738300772, 0.5681818181818182, 'squared_error = -0.0\\nsamples = 1\\nvalue = 2090.6'),\n",
              " Text(0.8641526578827805, 0.7954545454545454, 'x[11] <= 10.5\\nsquared_error = 14017.429\\nsamples = 11\\nvalue = 2041.118'),\n",
              " Text(0.8591549295774648, 0.75, 'x[5] <= 313.1\\nsquared_error = 190.44\\nsamples = 2\\nvalue = 1825.4'),\n",
              " Text(0.8573375738300772, 0.7045454545454546, 'squared_error = 0.0\\nsamples = 1\\nvalue = 1811.6'),\n",
              " Text(0.8609722853248524, 0.7045454545454546, 'squared_error = -0.0\\nsamples = 1\\nvalue = 1839.2'),\n",
              " Text(0.8691503861880964, 0.75, 'x[8] <= 279.7\\nsquared_error = 4451.138\\nsamples = 9\\nvalue = 2089.056'),\n",
              " Text(0.8646069968196275, 0.7045454545454546, 'x[14] <= 1272.7\\nsquared_error = 1395.928\\nsamples = 7\\nvalue = 2058.771'),\n",
              " Text(0.8609722853248524, 0.6590909090909091, 'x[11] <= 19.2\\nsquared_error = 712.89\\nsamples = 2\\nvalue = 2004.2'),\n",
              " Text(0.8591549295774648, 0.6136363636363636, 'squared_error = 0.0\\nsamples = 1\\nvalue = 1977.5'),\n",
              " Text(0.8627896410722399, 0.6136363636363636, 'squared_error = 0.0\\nsamples = 1\\nvalue = 2030.9'),\n",
              " Text(0.8682417083144025, 0.6590909090909091, 'x[7] <= 349.55\\nsquared_error = 1.44\\nsamples = 5\\nvalue = 2080.6'),\n",
              " Text(0.866424352567015, 0.6136363636363636, 'squared_error = 0.0\\nsamples = 1\\nvalue = 2083.0'),\n",
              " Text(0.8700590640617901, 0.6136363636363636, 'squared_error = 0.0\\nsamples = 4\\nvalue = 2080.0'),\n",
              " Text(0.8736937755565652, 0.7045454545454546, 'x[13] <= 556.25\\nsquared_error = 699.603\\nsamples = 2\\nvalue = 2195.05'),\n",
              " Text(0.8718764198091776, 0.6590909090909091, 'squared_error = 0.0\\nsamples = 1\\nvalue = 2168.6'),\n",
              " Text(0.8755111313039527, 0.6590909090909091, 'squared_error = -0.0\\nsamples = 1\\nvalue = 2221.5'),\n",
              " Text(0.9519252612448886, 0.9318181818181818, 'x[7] <= 960.8\\nsquared_error = 676943.311\\nsamples = 71\\nvalue = 3034.03'),\n",
              " Text(0.933836892321672, 0.8863636363636364, 'x[5] <= 612.3\\nsquared_error = 288039.147\\nsamples = 69\\nvalue = 2927.836'),\n",
              " Text(0.9031122217174011, 0.8409090909090909, 'x[0] <= 27.15\\nsquared_error = 102197.164\\nsamples = 42\\nvalue = 2598.174'),\n",
              " Text(0.8907314856883235, 0.7954545454545454, 'x[6] <= 370.85\\nsquared_error = 55819.434\\nsamples = 30\\nvalue = 2473.983'),\n",
              " Text(0.888914129940936, 0.75, 'squared_error = 0.0\\nsamples = 2\\nvalue = 1957.8'),\n",
              " Text(0.892548841435711, 0.75, 'x[9] <= 178.75\\nsquared_error = 39415.32\\nsamples = 28\\nvalue = 2510.854'),\n",
              " Text(0.8841435711040436, 0.7045454545454546, 'x[4] <= 386.15\\nsquared_error = 21501.903\\nsamples = 19\\nvalue = 2434.784'),\n",
              " Text(0.8791458427987279, 0.6590909090909091, 'x[8] <= 197.7\\nsquared_error = 15541.495\\nsamples = 16\\nvalue = 2396.088'),\n",
              " Text(0.8773284870513403, 0.6136363636363636, 'squared_error = 0.0\\nsamples = 1\\nvalue = 2077.5'),\n",
              " Text(0.8809631985461154, 0.6136363636363636, 'x[5] <= 535.05\\nsquared_error = 9359.959\\nsamples = 15\\nvalue = 2417.327'),\n",
              " Text(0.8764198091776465, 0.5681818181818182, 'x[6] <= 436.7\\nsquared_error = 6130.427\\nsamples = 12\\nvalue = 2449.025'),\n",
              " Text(0.8727850976828714, 0.5227272727272727, 'x[6] <= 401.75\\nsquared_error = 642.622\\nsamples = 2\\nvalue = 2312.05'),\n",
              " Text(0.8709677419354839, 0.4772727272727273, 'squared_error = 0.0\\nsamples = 1\\nvalue = 2286.7'),\n",
              " Text(0.874602453430259, 0.4772727272727273, 'squared_error = -0.0\\nsamples = 1\\nvalue = 2337.4'),\n",
              " Text(0.8800545206724216, 0.5227272727272727, 'x[10] <= 11.45\\nsquared_error = 2725.072\\nsamples = 10\\nvalue = 2476.42'),\n",
              " Text(0.8782371649250341, 0.4772727272727273, 'squared_error = 0.0\\nsamples = 1\\nvalue = 2374.1'),\n",
              " Text(0.8818718764198091, 0.4772727272727273, 'x[0] <= 6.2\\nsquared_error = 1735.341\\nsamples = 9\\nvalue = 2487.789'),\n",
              " Text(0.8782371649250341, 0.4318181818181818, 'x[7] <= 518.35\\nsquared_error = 37.822\\nsamples = 2\\nvalue = 2548.25'),\n",
              " Text(0.8764198091776465, 0.38636363636363635, 'squared_error = 0.0\\nsamples = 1\\nvalue = 2554.4'),\n",
              " Text(0.8800545206724216, 0.38636363636363635, 'squared_error = 0.0\\nsamples = 1\\nvalue = 2542.1'),\n",
              " Text(0.8855065879145843, 0.4318181818181818, 'x[8] <= 243.2\\nsquared_error = 877.493\\nsamples = 7\\nvalue = 2470.514'),\n",
              " Text(0.8836892321671967, 0.38636363636363635, 'squared_error = 0.0\\nsamples = 1\\nvalue = 2409.8'),\n",
              " Text(0.8873239436619719, 0.38636363636363635, 'x[4] <= 330.3\\nsquared_error = 306.976\\nsamples = 6\\nvalue = 2480.633'),\n",
              " Text(0.8836892321671967, 0.3409090909090909, 'x[10] <= 40.4\\nsquared_error = 71.069\\nsamples = 3\\nvalue = 2496.267'),\n",
              " Text(0.8818718764198091, 0.29545454545454547, 'squared_error = 0.0\\nsamples = 1\\nvalue = 2485.3'),\n",
              " Text(0.8855065879145843, 0.29545454545454547, 'x[2] <= 100.15\\nsquared_error = 16.402\\nsamples = 2\\nvalue = 2501.75'),\n",
              " Text(0.8836892321671967, 0.25, 'squared_error = 0.0\\nsamples = 1\\nvalue = 2497.7'),\n",
              " Text(0.8873239436619719, 0.25, 'squared_error = 0.0\\nsamples = 1\\nvalue = 2505.8'),\n",
              " Text(0.8909586551567469, 0.3409090909090909, 'x[2] <= 63.6\\nsquared_error = 54.08\\nsamples = 3\\nvalue = 2465.0'),\n",
              " Text(0.8891412994093594, 0.29545454545454547, 'squared_error = 0.0\\nsamples = 2\\nvalue = 2459.8'),\n",
              " Text(0.8927760109041345, 0.29545454545454547, 'squared_error = -0.0\\nsamples = 1\\nvalue = 2475.4'),\n",
              " Text(0.8855065879145843, 0.5681818181818182, 'x[0] <= 7.95\\nsquared_error = 2182.402\\nsamples = 3\\nvalue = 2290.533'),\n",
              " Text(0.8836892321671967, 0.5227272727272727, 'squared_error = 0.0\\nsamples = 2\\nvalue = 2257.5'),\n",
              " Text(0.8873239436619719, 0.5227272727272727, 'squared_error = -0.0\\nsamples = 1\\nvalue = 2356.6'),\n",
              " Text(0.8891412994093594, 0.6590909090909091, 'x[7] <= 370.75\\nsquared_error = 2710.709\\nsamples = 3\\nvalue = 2641.167'),\n",
              " Text(0.8873239436619719, 0.6136363636363636, 'squared_error = 0.0\\nsamples = 1\\nvalue = 2575.3'),\n",
              " Text(0.8909586551567469, 0.6136363636363636, 'x[12] <= 35.65\\nsquared_error = 812.25\\nsamples = 2\\nvalue = 2674.1'),\n",
              " Text(0.8891412994093594, 0.5681818181818182, 'squared_error = 0.0\\nsamples = 1\\nvalue = 2702.6'),\n",
              " Text(0.8927760109041345, 0.5681818181818182, 'squared_error = 0.0\\nsamples = 1\\nvalue = 2645.6'),\n",
              " Text(0.9009541117673785, 0.7045454545454546, 'x[14] <= 1725.8\\nsquared_error = 39227.058\\nsamples = 9\\nvalue = 2671.444'),\n",
              " Text(0.8964107223989096, 0.6590909090909091, 'x[13] <= 374.75\\nsquared_error = 18271.632\\nsamples = 4\\nvalue = 2499.825'),\n",
              " Text(0.894593366651522, 0.6136363636363636, 'squared_error = 0.0\\nsamples = 1\\nvalue = 2290.0'),\n",
              " Text(0.8982280781462971, 0.6136363636363636, 'x[12] <= 52.3\\nsquared_error = 4794.829\\nsamples = 3\\nvalue = 2569.767'),\n",
              " Text(0.8964107223989096, 0.5681818181818182, 'x[9] <= 297.1\\nsquared_error = 1085.702\\nsamples = 2\\nvalue = 2524.65'),\n",
              " Text(0.894593366651522, 0.5227272727272727, 'squared_error = 0.0\\nsamples = 1\\nvalue = 2557.6'),\n",
              " Text(0.8982280781462971, 0.5227272727272727, 'squared_error = 0.0\\nsamples = 1\\nvalue = 2491.7'),\n",
              " Text(0.9000454338936847, 0.5681818181818182, 'squared_error = 0.0\\nsamples = 1\\nvalue = 2660.0'),\n",
              " Text(0.9054975011358474, 0.6590909090909091, 'x[10] <= 41.55\\nsquared_error = 13578.742\\nsamples = 5\\nvalue = 2808.74'),\n",
              " Text(0.9036801453884598, 0.6136363636363636, 'squared_error = 0.0\\nsamples = 1\\nvalue = 2999.2'),\n",
              " Text(0.9073148568832349, 0.6136363636363636, 'x[14] <= 1897.55\\nsquared_error = 5637.487\\nsamples = 4\\nvalue = 2761.125'),\n",
              " Text(0.9036801453884598, 0.5681818181818182, 'x[10] <= 126.45\\nsquared_error = 179.56\\nsamples = 2\\nvalue = 2827.8'),\n",
              " Text(0.9018627896410722, 0.5227272727272727, 'squared_error = 0.0\\nsamples = 1\\nvalue = 2814.4'),\n",
              " Text(0.9054975011358474, 0.5227272727272727, 'squared_error = -0.0\\nsamples = 1\\nvalue = 2841.2'),\n",
              " Text(0.91094956837801, 0.5681818181818182, 'x[10] <= 59.95\\nsquared_error = 2204.303\\nsamples = 2\\nvalue = 2694.45'),\n",
              " Text(0.9091322126306225, 0.5227272727272727, 'squared_error = 0.0\\nsamples = 1\\nvalue = 2647.5'),\n",
              " Text(0.9127669241253975, 0.5227272727272727, 'squared_error = 0.0\\nsamples = 1\\nvalue = 2741.4'),\n",
              " Text(0.9154929577464789, 0.7954545454545454, 'x[4] <= 299.05\\nsquared_error = 83187.837\\nsamples = 12\\nvalue = 2908.65'),\n",
              " Text(0.9091322126306225, 0.75, 'x[9] <= 136.8\\nsquared_error = 48699.132\\nsamples = 5\\nvalue = 2677.9'),\n",
              " Text(0.9073148568832349, 0.7045454545454546, 'squared_error = 0.0\\nsamples = 1\\nvalue = 3118.5'),\n",
              " Text(0.91094956837801, 0.7045454545454546, 'x[14] <= 1422.3\\nsquared_error = 208.803\\nsamples = 4\\nvalue = 2567.75'),\n",
              " Text(0.9091322126306225, 0.6590909090909091, 'squared_error = 0.0\\nsamples = 2\\nvalue = 2553.3'),\n",
              " Text(0.9127669241253975, 0.6590909090909091, 'squared_error = 0.0\\nsamples = 2\\nvalue = 2582.2'),\n",
              " Text(0.9218537028623353, 0.75, 'x[12] <= 200.65\\nsquared_error = 42623.979\\nsamples = 7\\nvalue = 3073.471'),\n",
              " Text(0.9200363471149478, 0.7045454545454546, 'x[0] <= 37.45\\nsquared_error = 6696.829\\nsamples = 6\\nvalue = 2995.067'),\n",
              " Text(0.9164016356201726, 0.6590909090909091, 'x[3] <= 109.45\\nsquared_error = 729.0\\nsamples = 2\\nvalue = 2886.3'),\n",
              " Text(0.9145842798727851, 0.6136363636363636, 'squared_error = 0.0\\nsamples = 1\\nvalue = 2913.3'),\n",
              " Text(0.9182189913675602, 0.6136363636363636, 'squared_error = 0.0\\nsamples = 1\\nvalue = 2859.3'),\n",
              " Text(0.9236710586097229, 0.6590909090909091, 'x[2] <= 187.95\\nsquared_error = 808.102\\nsamples = 4\\nvalue = 3049.45'),\n",
              " Text(0.9218537028623353, 0.6136363636363636, 'x[9] <= 234.15\\nsquared_error = 175.469\\nsamples = 3\\nvalue = 3034.433'),\n",
              " Text(0.9200363471149478, 0.5681818181818182, 'squared_error = 0.0\\nsamples = 2\\nvalue = 3043.8'),\n",
              " Text(0.9236710586097229, 0.5681818181818182, 'squared_error = 0.0\\nsamples = 1\\nvalue = 3015.7'),\n",
              " Text(0.9254884143571104, 0.6136363636363636, 'squared_error = 0.0\\nsamples = 1\\nvalue = 3094.5'),\n",
              " Text(0.9236710586097229, 0.7045454545454546, 'squared_error = -0.0\\nsamples = 1\\nvalue = 3543.9'),\n",
              " Text(0.9645615629259428, 0.8409090909090909, 'x[8] <= 309.5\\nsquared_error = 145100.817\\nsamples = 27\\nvalue = 3440.644'),\n",
              " Text(0.9468423443889141, 0.7954545454545454, 'x[5] <= 881.1\\nsquared_error = 49169.502\\nsamples = 12\\nvalue = 3194.433'),\n",
              " Text(0.939118582462517, 0.75, 'x[6] <= 1054.4\\nsquared_error = 21502.932\\nsamples = 8\\nvalue = 3073.362'),\n",
              " Text(0.9345751930940481, 0.7045454545454546, 'x[14] <= 2062.7\\nsquared_error = 8193.246\\nsamples = 6\\nvalue = 3002.45'),\n",
              " Text(0.930940481599273, 0.6590909090909091, 'x[6] <= 692.15\\nsquared_error = 2275.29\\nsamples = 2\\nvalue = 2882.8'),\n",
              " Text(0.9291231258518855, 0.6136363636363636, 'squared_error = 0.0\\nsamples = 1\\nvalue = 2930.5'),\n",
              " Text(0.9327578373466606, 0.6136363636363636, 'squared_error = -0.0\\nsamples = 1\\nvalue = 2835.1'),\n",
              " Text(0.9382099045888233, 0.6590909090909091, 'x[4] <= 294.75\\nsquared_error = 415.132\\nsamples = 4\\nvalue = 3062.275'),\n",
              " Text(0.9363925488414357, 0.6136363636363636, 'x[14] <= 2763.9\\nsquared_error = 87.669\\nsamples = 3\\nvalue = 3073.067'),\n",
              " Text(0.9345751930940481, 0.5681818181818182, 'x[11] <= 23.1\\nsquared_error = 13.69\\nsamples = 2\\nvalue = 3066.8'),\n",
              " Text(0.9327578373466606, 0.5227272727272727, 'squared_error = 0.0\\nsamples = 1\\nvalue = 3070.5'),\n",
              " Text(0.9363925488414357, 0.5227272727272727, 'squared_error = -0.0\\nsamples = 1\\nvalue = 3063.1'),\n",
              " Text(0.9382099045888233, 0.5681818181818182, 'squared_error = -0.0\\nsamples = 1\\nvalue = 3085.6'),\n",
              " Text(0.9400272603362109, 0.6136363636363636, 'squared_error = 0.0\\nsamples = 1\\nvalue = 3029.9'),\n",
              " Text(0.9436619718309859, 0.7045454545454546, 'x[7] <= 566.9\\nsquared_error = 1089.0\\nsamples = 2\\nvalue = 3286.1'),\n",
              " Text(0.9418446160835984, 0.6590909090909091, 'squared_error = 0.0\\nsamples = 1\\nvalue = 3319.1'),\n",
              " Text(0.9454793275783735, 0.6590909090909091, 'squared_error = 0.0\\nsamples = 1\\nvalue = 3253.1'),\n",
              " Text(0.9545661063153112, 0.75, 'x[6] <= 1104.25\\nsquared_error = 16553.762\\nsamples = 4\\nvalue = 3436.575'),\n",
              " Text(0.9509313948205361, 0.7045454545454546, 'x[1] <= 2.0\\nsquared_error = 3300.502\\nsamples = 2\\nvalue = 3326.65'),\n",
              " Text(0.9491140390731486, 0.6590909090909091, 'squared_error = 0.0\\nsamples = 1\\nvalue = 3269.2'),\n",
              " Text(0.9527487505679236, 0.6590909090909091, 'squared_error = 0.0\\nsamples = 1\\nvalue = 3384.1'),\n",
              " Text(0.9582008178100864, 0.7045454545454546, 'x[6] <= 1145.55\\nsquared_error = 5640.01\\nsamples = 2\\nvalue = 3546.5'),\n",
              " Text(0.9563834620626988, 0.6590909090909091, 'squared_error = 0.0\\nsamples = 1\\nvalue = 3621.6'),\n",
              " Text(0.9600181735574739, 0.6590909090909091, 'squared_error = 0.0\\nsamples = 1\\nvalue = 3471.4'),\n",
              " Text(0.9822807814629714, 0.7954545454545454, 'x[5] <= 716.3\\nsquared_error = 134553.196\\nsamples = 15\\nvalue = 3637.613'),\n",
              " Text(0.9736483416628805, 0.75, 'x[11] <= 12.95\\nsquared_error = 23095.284\\nsamples = 10\\nvalue = 3413.34'),\n",
              " Text(0.9672875965470241, 0.7045454545454546, 'x[8] <= 466.5\\nsquared_error = 5720.589\\nsamples = 6\\nvalue = 3311.45'),\n",
              " Text(0.963652885052249, 0.6590909090909091, 'x[3] <= 179.55\\nsquared_error = 619.415\\nsamples = 4\\nvalue = 3261.7'),\n",
              " Text(0.9618355293048614, 0.6136363636363636, 'x[8] <= 430.2\\nsquared_error = 4.109\\nsamples = 3\\nvalue = 3276.033'),\n",
              " Text(0.9600181735574739, 0.5681818181818182, 'squared_error = 0.0\\nsamples = 1\\nvalue = 3278.9'),\n",
              " Text(0.963652885052249, 0.5681818181818182, 'squared_error = -0.0\\nsamples = 2\\nvalue = 3274.6'),\n",
              " Text(0.9654702407996365, 0.6136363636363636, 'squared_error = -0.0\\nsamples = 1\\nvalue = 3218.7'),\n",
              " Text(0.9709223080417991, 0.6590909090909091, 'x[1] <= 41.9\\nsquared_error = 1072.562\\nsamples = 2\\nvalue = 3410.95'),\n",
              " Text(0.9691049522944116, 0.6136363636363636, 'squared_error = 0.0\\nsamples = 1\\nvalue = 3443.7'),\n",
              " Text(0.9727396637891867, 0.6136363636363636, 'squared_error = 0.0\\nsamples = 1\\nvalue = 3378.2'),\n",
              " Text(0.980009086778737, 0.7045454545454546, 'x[8] <= 478.1\\nsquared_error = 10226.432\\nsamples = 4\\nvalue = 3566.175'),\n",
              " Text(0.9781917310313494, 0.6590909090909091, 'x[0] <= 30.95\\nsquared_error = 1273.509\\nsamples = 3\\nvalue = 3621.767'),\n",
              " Text(0.9763743752839619, 0.6136363636363636, 'x[7] <= 522.95\\nsquared_error = 15.21\\nsamples = 2\\nvalue = 3646.9'),\n",
              " Text(0.9745570195365743, 0.5681818181818182, 'squared_error = 0.0\\nsamples = 1\\nvalue = 3650.8'),\n",
              " Text(0.9781917310313494, 0.5681818181818182, 'squared_error = 0.0\\nsamples = 1\\nvalue = 3643.0'),\n",
              " Text(0.980009086778737, 0.6136363636363636, 'squared_error = 0.0\\nsamples = 1\\nvalue = 3571.5'),\n",
              " Text(0.9818264425261245, 0.6590909090909091, 'squared_error = 0.0\\nsamples = 1\\nvalue = 3399.4'),\n",
              " Text(0.9909132212630622, 0.75, 'x[11] <= 17.2\\nsquared_error = 55677.85\\nsamples = 5\\nvalue = 4086.16'),\n",
              " Text(0.9872785097682871, 0.7045454545454546, 'x[12] <= 20.7\\nsquared_error = 5155.24\\nsamples = 2\\nvalue = 3844.0'),\n",
              " Text(0.9854611540208996, 0.6590909090909091, 'squared_error = 0.0\\nsamples = 1\\nvalue = 3915.8'),\n",
              " Text(0.9890958655156747, 0.6590909090909091, 'squared_error = -0.0\\nsamples = 1\\nvalue = 3772.2'),\n",
              " Text(0.9945479327578374, 0.7045454545454546, 'x[9] <= 215.35\\nsquared_error = 24202.407\\nsamples = 3\\nvalue = 4247.6'),\n",
              " Text(0.9927305770104498, 0.6590909090909091, 'squared_error = 0.0\\nsamples = 1\\nvalue = 4034.7'),\n",
              " Text(0.9963652885052249, 0.6590909090909091, 'x[4] <= 301.25\\nsquared_error = 2308.803\\nsamples = 2\\nvalue = 4354.05'),\n",
              " Text(0.9945479327578374, 0.6136363636363636, 'squared_error = 0.0\\nsamples = 1\\nvalue = 4306.0'),\n",
              " Text(0.9981826442526125, 0.6136363636363636, 'squared_error = 0.0\\nsamples = 1\\nvalue = 4402.1'),\n",
              " Text(0.9700136301681054, 0.8863636363636364, 'x[11] <= 8.95\\nsquared_error = 282598.56\\nsamples = 2\\nvalue = 6697.7'),\n",
              " Text(0.9681962744207179, 0.8409090909090909, 'squared_error = 0.0\\nsamples = 1\\nvalue = 7229.3'),\n",
              " Text(0.971830985915493, 0.8409090909090909, 'squared_error = -0.0\\nsamples = 1\\nvalue = 6166.1')]"
            ]
          },
          "metadata": {},
          "execution_count": 25
        }
      ]
    },
    {
      "cell_type": "code",
      "source": [
        "print(yp)"
      ],
      "metadata": {
        "id": "W7vQBlYrspp3",
        "outputId": "c542fc37-9fa2-444f-ec33-9ba35c39af5f",
        "colab": {
          "base_uri": "https://localhost:8080/"
        }
      },
      "execution_count": 26,
      "outputs": [
        {
          "output_type": "stream",
          "name": "stdout",
          "text": [
            "[1154.5 1143.7 1304.7 1083.1 2575.3  716.9  979.4 1112.5  534.6 1120.\n",
            "  959.3 3915.8 1160.1  268.6 2660.   401.4 2814.4 2150.9 1095.9  624.1\n",
            " 2485.3 1997.1 1084.8 2859.3 1293.1 3443.7  890.7  949.6 1313.9 1600.\n",
            " 3094.5 1003.9  850.7  415.6  747.1  534.6 1341.   861.9  554.5 3218.7\n",
            "  811.9 2557.6  820.6 1336.5  489.  1533.5 3772.2  975.4  883.7 1084.8\n",
            " 2553.3  572.7 1090.7  721.7 1385.  1977.5 1544.4  731.1  765.5 1957.8\n",
            "  959.3  747.1 1336.5  401.4  890.7 2168.6 1197.1  716.2 1269.9  921.2\n",
            "  968.1  747.1 1472.   639.7  419.8  671.7 2814.4 2030.9  656.3 1743.7\n",
            " 1533.5  820.1 1336.5 2019.8 3063.1  554.5 1146.8 1404.5 1148.6 1143.9\n",
            " 2374.1  883.  1660.1  969.6  885.9 2168.6  933.1  401.4  721.7 1392.8\n",
            " 1448.3  890.7 1196.  1051.5  834.5  820.1  975.4  419.8 1152.6 1196.\n",
            " 2814.4 1003.9  949.6  274.   816.3 1313.9 1107.   274.  1088.1 3399.4\n",
            "  975.4 1336.5 2030.9 1269.9 1660.7 1286.3  752.7 2582.2 1336.5]\n"
          ]
        }
      ]
    },
    {
      "cell_type": "code",
      "source": [
        "print(mean_squared_error(y_test,yp))"
      ],
      "metadata": {
        "id": "8hnV7aeLsvXP",
        "outputId": "4614df56-94ff-423c-d599-14bed5111704",
        "colab": {
          "base_uri": "https://localhost:8080/"
        }
      },
      "execution_count": 27,
      "outputs": [
        {
          "output_type": "stream",
          "name": "stdout",
          "text": [
            "76197.65255813953\n"
          ]
        }
      ]
    },
    {
      "cell_type": "code",
      "source": [
        "import pandas as pd\n",
        "from sklearn.svm import SVR\n",
        "from sklearn.model_selection import train_test_split\n",
        "from sklearn.metrics import accuracy_score"
      ],
      "metadata": {
        "id": "ukHB9Peos0PC"
      },
      "execution_count": 28,
      "outputs": []
    },
    {
      "cell_type": "code",
      "source": [
        "model = SVR(kernel='linear')"
      ],
      "metadata": {
        "id": "-dLU7qyis6jt"
      },
      "execution_count": 29,
      "outputs": []
    },
    {
      "cell_type": "code",
      "source": [
        "model.fit(x_train,y_train)"
      ],
      "metadata": {
        "id": "Ci59KAektAD8",
        "outputId": "284a7067-2c40-4a6a-eb68-752f9533b72e",
        "colab": {
          "base_uri": "https://localhost:8080/",
          "height": 74
        }
      },
      "execution_count": 30,
      "outputs": [
        {
          "output_type": "execute_result",
          "data": {
            "text/plain": [
              "SVR(kernel='linear')"
            ],
            "text/html": [
              "<style>#sk-container-id-2 {color: black;background-color: white;}#sk-container-id-2 pre{padding: 0;}#sk-container-id-2 div.sk-toggleable {background-color: white;}#sk-container-id-2 label.sk-toggleable__label {cursor: pointer;display: block;width: 100%;margin-bottom: 0;padding: 0.3em;box-sizing: border-box;text-align: center;}#sk-container-id-2 label.sk-toggleable__label-arrow:before {content: \"▸\";float: left;margin-right: 0.25em;color: #696969;}#sk-container-id-2 label.sk-toggleable__label-arrow:hover:before {color: black;}#sk-container-id-2 div.sk-estimator:hover label.sk-toggleable__label-arrow:before {color: black;}#sk-container-id-2 div.sk-toggleable__content {max-height: 0;max-width: 0;overflow: hidden;text-align: left;background-color: #f0f8ff;}#sk-container-id-2 div.sk-toggleable__content pre {margin: 0.2em;color: black;border-radius: 0.25em;background-color: #f0f8ff;}#sk-container-id-2 input.sk-toggleable__control:checked~div.sk-toggleable__content {max-height: 200px;max-width: 100%;overflow: auto;}#sk-container-id-2 input.sk-toggleable__control:checked~label.sk-toggleable__label-arrow:before {content: \"▾\";}#sk-container-id-2 div.sk-estimator input.sk-toggleable__control:checked~label.sk-toggleable__label {background-color: #d4ebff;}#sk-container-id-2 div.sk-label input.sk-toggleable__control:checked~label.sk-toggleable__label {background-color: #d4ebff;}#sk-container-id-2 input.sk-hidden--visually {border: 0;clip: rect(1px 1px 1px 1px);clip: rect(1px, 1px, 1px, 1px);height: 1px;margin: -1px;overflow: hidden;padding: 0;position: absolute;width: 1px;}#sk-container-id-2 div.sk-estimator {font-family: monospace;background-color: #f0f8ff;border: 1px dotted black;border-radius: 0.25em;box-sizing: border-box;margin-bottom: 0.5em;}#sk-container-id-2 div.sk-estimator:hover {background-color: #d4ebff;}#sk-container-id-2 div.sk-parallel-item::after {content: \"\";width: 100%;border-bottom: 1px solid gray;flex-grow: 1;}#sk-container-id-2 div.sk-label:hover label.sk-toggleable__label {background-color: #d4ebff;}#sk-container-id-2 div.sk-serial::before {content: \"\";position: absolute;border-left: 1px solid gray;box-sizing: border-box;top: 0;bottom: 0;left: 50%;z-index: 0;}#sk-container-id-2 div.sk-serial {display: flex;flex-direction: column;align-items: center;background-color: white;padding-right: 0.2em;padding-left: 0.2em;position: relative;}#sk-container-id-2 div.sk-item {position: relative;z-index: 1;}#sk-container-id-2 div.sk-parallel {display: flex;align-items: stretch;justify-content: center;background-color: white;position: relative;}#sk-container-id-2 div.sk-item::before, #sk-container-id-2 div.sk-parallel-item::before {content: \"\";position: absolute;border-left: 1px solid gray;box-sizing: border-box;top: 0;bottom: 0;left: 50%;z-index: -1;}#sk-container-id-2 div.sk-parallel-item {display: flex;flex-direction: column;z-index: 1;position: relative;background-color: white;}#sk-container-id-2 div.sk-parallel-item:first-child::after {align-self: flex-end;width: 50%;}#sk-container-id-2 div.sk-parallel-item:last-child::after {align-self: flex-start;width: 50%;}#sk-container-id-2 div.sk-parallel-item:only-child::after {width: 0;}#sk-container-id-2 div.sk-dashed-wrapped {border: 1px dashed gray;margin: 0 0.4em 0.5em 0.4em;box-sizing: border-box;padding-bottom: 0.4em;background-color: white;}#sk-container-id-2 div.sk-label label {font-family: monospace;font-weight: bold;display: inline-block;line-height: 1.2em;}#sk-container-id-2 div.sk-label-container {text-align: center;}#sk-container-id-2 div.sk-container {/* jupyter's `normalize.less` sets `[hidden] { display: none; }` but bootstrap.min.css set `[hidden] { display: none !important; }` so we also need the `!important` here to be able to override the default hidden behavior on the sphinx rendered scikit-learn.org. See: https://github.com/scikit-learn/scikit-learn/issues/21755 */display: inline-block !important;position: relative;}#sk-container-id-2 div.sk-text-repr-fallback {display: none;}</style><div id=\"sk-container-id-2\" class=\"sk-top-container\"><div class=\"sk-text-repr-fallback\"><pre>SVR(kernel=&#x27;linear&#x27;)</pre><b>In a Jupyter environment, please rerun this cell to show the HTML representation or trust the notebook. <br />On GitHub, the HTML representation is unable to render, please try loading this page with nbviewer.org.</b></div><div class=\"sk-container\" hidden><div class=\"sk-item\"><div class=\"sk-estimator sk-toggleable\"><input class=\"sk-toggleable__control sk-hidden--visually\" id=\"sk-estimator-id-2\" type=\"checkbox\" checked><label for=\"sk-estimator-id-2\" class=\"sk-toggleable__label sk-toggleable__label-arrow\">SVR</label><div class=\"sk-toggleable__content\"><pre>SVR(kernel=&#x27;linear&#x27;)</pre></div></div></div></div></div>"
            ]
          },
          "metadata": {},
          "execution_count": 30
        }
      ]
    },
    {
      "cell_type": "code",
      "source": [
        "y_pred=model.predict(x_test)"
      ],
      "metadata": {
        "id": "WvOlRe5stFtt"
      },
      "execution_count": 31,
      "outputs": []
    },
    {
      "cell_type": "code",
      "source": [
        "mae = mean_absolute_error(y_test, y_pred)\n",
        "print(\"Mean Absolute Error:\", mae)"
      ],
      "metadata": {
        "id": "-fg1wpJxtMe5",
        "outputId": "1b6b9ffa-1854-409a-ae26-a951bb279c69",
        "colab": {
          "base_uri": "https://localhost:8080/"
        }
      },
      "execution_count": 32,
      "outputs": [
        {
          "output_type": "stream",
          "name": "stdout",
          "text": [
            "Mean Absolute Error: 0.04753588620007877\n"
          ]
        }
      ]
    },
    {
      "cell_type": "code",
      "source": [
        "mse = mean_squared_error(y_test, y_pred)\n",
        "print(\"Mean Squared Error:\", mse)"
      ],
      "metadata": {
        "id": "LY2nMDAWtVCL",
        "outputId": "65b13b7a-be0f-4239-91a5-aae79b697b01",
        "colab": {
          "base_uri": "https://localhost:8080/"
        }
      },
      "execution_count": 33,
      "outputs": [
        {
          "output_type": "stream",
          "name": "stdout",
          "text": [
            "Mean Squared Error: 0.003450724484773055\n"
          ]
        }
      ]
    },
    {
      "cell_type": "code",
      "source": [
        "from sklearn.metrics import mean_squared_error\n",
        "print(mean_squared_error(yp,y_test))"
      ],
      "metadata": {
        "id": "TwgZBA38tZzH",
        "outputId": "ee15127e-8659-4a01-c1af-8814106760b8",
        "colab": {
          "base_uri": "https://localhost:8080/"
        }
      },
      "execution_count": 34,
      "outputs": [
        {
          "output_type": "stream",
          "name": "stdout",
          "text": [
            "76197.65255813953\n"
          ]
        }
      ]
    },
    {
      "cell_type": "code",
      "source": [
        "from sklearn.metrics import mean_absolute_error\n",
        "print(mean_absolute_error(yp,y_test))"
      ],
      "metadata": {
        "id": "SrEdmEMdtfy_",
        "outputId": "9970ef57-90d1-4d55-f988-8e62da112a97",
        "colab": {
          "base_uri": "https://localhost:8080/"
        }
      },
      "execution_count": 35,
      "outputs": [
        {
          "output_type": "stream",
          "name": "stdout",
          "text": [
            "102.56744186046514\n"
          ]
        }
      ]
    },
    {
      "cell_type": "code",
      "source": [
        "import pandas as pd\n",
        "from sklearn.neighbors import KNeighborsRegressor\n",
        "from sklearn.model_selection import train_test_split\n",
        "from sklearn.metrics import mean_absolute_error"
      ],
      "metadata": {
        "id": "OCw8aXdItko9"
      },
      "execution_count": 36,
      "outputs": []
    },
    {
      "cell_type": "code",
      "source": [
        "knn = KNeighborsRegressor(n_neighbors=3)"
      ],
      "metadata": {
        "id": "dmOLU2eRtpFG"
      },
      "execution_count": 37,
      "outputs": []
    },
    {
      "cell_type": "code",
      "source": [
        "knn.fit(x_train, y_train)"
      ],
      "metadata": {
        "id": "XGSjR8DFuOez",
        "outputId": "376e4746-c169-4e2c-8d4e-94bd8050baee",
        "colab": {
          "base_uri": "https://localhost:8080/",
          "height": 74
        }
      },
      "execution_count": 38,
      "outputs": [
        {
          "output_type": "execute_result",
          "data": {
            "text/plain": [
              "KNeighborsRegressor(n_neighbors=3)"
            ],
            "text/html": [
              "<style>#sk-container-id-3 {color: black;background-color: white;}#sk-container-id-3 pre{padding: 0;}#sk-container-id-3 div.sk-toggleable {background-color: white;}#sk-container-id-3 label.sk-toggleable__label {cursor: pointer;display: block;width: 100%;margin-bottom: 0;padding: 0.3em;box-sizing: border-box;text-align: center;}#sk-container-id-3 label.sk-toggleable__label-arrow:before {content: \"▸\";float: left;margin-right: 0.25em;color: #696969;}#sk-container-id-3 label.sk-toggleable__label-arrow:hover:before {color: black;}#sk-container-id-3 div.sk-estimator:hover label.sk-toggleable__label-arrow:before {color: black;}#sk-container-id-3 div.sk-toggleable__content {max-height: 0;max-width: 0;overflow: hidden;text-align: left;background-color: #f0f8ff;}#sk-container-id-3 div.sk-toggleable__content pre {margin: 0.2em;color: black;border-radius: 0.25em;background-color: #f0f8ff;}#sk-container-id-3 input.sk-toggleable__control:checked~div.sk-toggleable__content {max-height: 200px;max-width: 100%;overflow: auto;}#sk-container-id-3 input.sk-toggleable__control:checked~label.sk-toggleable__label-arrow:before {content: \"▾\";}#sk-container-id-3 div.sk-estimator input.sk-toggleable__control:checked~label.sk-toggleable__label {background-color: #d4ebff;}#sk-container-id-3 div.sk-label input.sk-toggleable__control:checked~label.sk-toggleable__label {background-color: #d4ebff;}#sk-container-id-3 input.sk-hidden--visually {border: 0;clip: rect(1px 1px 1px 1px);clip: rect(1px, 1px, 1px, 1px);height: 1px;margin: -1px;overflow: hidden;padding: 0;position: absolute;width: 1px;}#sk-container-id-3 div.sk-estimator {font-family: monospace;background-color: #f0f8ff;border: 1px dotted black;border-radius: 0.25em;box-sizing: border-box;margin-bottom: 0.5em;}#sk-container-id-3 div.sk-estimator:hover {background-color: #d4ebff;}#sk-container-id-3 div.sk-parallel-item::after {content: \"\";width: 100%;border-bottom: 1px solid gray;flex-grow: 1;}#sk-container-id-3 div.sk-label:hover label.sk-toggleable__label {background-color: #d4ebff;}#sk-container-id-3 div.sk-serial::before {content: \"\";position: absolute;border-left: 1px solid gray;box-sizing: border-box;top: 0;bottom: 0;left: 50%;z-index: 0;}#sk-container-id-3 div.sk-serial {display: flex;flex-direction: column;align-items: center;background-color: white;padding-right: 0.2em;padding-left: 0.2em;position: relative;}#sk-container-id-3 div.sk-item {position: relative;z-index: 1;}#sk-container-id-3 div.sk-parallel {display: flex;align-items: stretch;justify-content: center;background-color: white;position: relative;}#sk-container-id-3 div.sk-item::before, #sk-container-id-3 div.sk-parallel-item::before {content: \"\";position: absolute;border-left: 1px solid gray;box-sizing: border-box;top: 0;bottom: 0;left: 50%;z-index: -1;}#sk-container-id-3 div.sk-parallel-item {display: flex;flex-direction: column;z-index: 1;position: relative;background-color: white;}#sk-container-id-3 div.sk-parallel-item:first-child::after {align-self: flex-end;width: 50%;}#sk-container-id-3 div.sk-parallel-item:last-child::after {align-self: flex-start;width: 50%;}#sk-container-id-3 div.sk-parallel-item:only-child::after {width: 0;}#sk-container-id-3 div.sk-dashed-wrapped {border: 1px dashed gray;margin: 0 0.4em 0.5em 0.4em;box-sizing: border-box;padding-bottom: 0.4em;background-color: white;}#sk-container-id-3 div.sk-label label {font-family: monospace;font-weight: bold;display: inline-block;line-height: 1.2em;}#sk-container-id-3 div.sk-label-container {text-align: center;}#sk-container-id-3 div.sk-container {/* jupyter's `normalize.less` sets `[hidden] { display: none; }` but bootstrap.min.css set `[hidden] { display: none !important; }` so we also need the `!important` here to be able to override the default hidden behavior on the sphinx rendered scikit-learn.org. See: https://github.com/scikit-learn/scikit-learn/issues/21755 */display: inline-block !important;position: relative;}#sk-container-id-3 div.sk-text-repr-fallback {display: none;}</style><div id=\"sk-container-id-3\" class=\"sk-top-container\"><div class=\"sk-text-repr-fallback\"><pre>KNeighborsRegressor(n_neighbors=3)</pre><b>In a Jupyter environment, please rerun this cell to show the HTML representation or trust the notebook. <br />On GitHub, the HTML representation is unable to render, please try loading this page with nbviewer.org.</b></div><div class=\"sk-container\" hidden><div class=\"sk-item\"><div class=\"sk-estimator sk-toggleable\"><input class=\"sk-toggleable__control sk-hidden--visually\" id=\"sk-estimator-id-3\" type=\"checkbox\" checked><label for=\"sk-estimator-id-3\" class=\"sk-toggleable__label sk-toggleable__label-arrow\">KNeighborsRegressor</label><div class=\"sk-toggleable__content\"><pre>KNeighborsRegressor(n_neighbors=3)</pre></div></div></div></div></div>"
            ]
          },
          "metadata": {},
          "execution_count": 38
        }
      ]
    },
    {
      "cell_type": "code",
      "source": [
        "y_pred = knn.predict(x_test)"
      ],
      "metadata": {
        "id": "4Vfewaa6uSsW"
      },
      "execution_count": 39,
      "outputs": []
    },
    {
      "cell_type": "code",
      "source": [
        "mae = mean_absolute_error(y_test, y_pred)\n",
        "print(\"Mean Absolute Error:\", mae)"
      ],
      "metadata": {
        "id": "iv_1zrE_uWkI",
        "outputId": "658b5d2b-0235-4dd6-9823-f27e9f434bc3",
        "colab": {
          "base_uri": "https://localhost:8080/"
        }
      },
      "execution_count": 40,
      "outputs": [
        {
          "output_type": "stream",
          "name": "stdout",
          "text": [
            "Mean Absolute Error: 50.94470284237724\n"
          ]
        }
      ]
    },
    {
      "cell_type": "code",
      "source": [
        "mse = mean_squared_error(y_test, y_pred)\n",
        "print(\"Mean Squared Error:\", mse)"
      ],
      "metadata": {
        "id": "TReNMcx1uZYM",
        "outputId": "95bcb5db-6c52-4446-a7f6-0ba394906aa6",
        "colab": {
          "base_uri": "https://localhost:8080/"
        }
      },
      "execution_count": 41,
      "outputs": [
        {
          "output_type": "stream",
          "name": "stdout",
          "text": [
            "Mean Squared Error: 7804.861584840647\n"
          ]
        }
      ]
    },
    {
      "cell_type": "code",
      "source": [
        "from sklearn.metrics import mean_squared_error\n",
        "print(mean_squared_error(yp,y_test))"
      ],
      "metadata": {
        "id": "ztlbm7Pnucte",
        "outputId": "dd15b1c6-3c6b-4e49-b597-1cba0ed81935",
        "colab": {
          "base_uri": "https://localhost:8080/"
        }
      },
      "execution_count": 42,
      "outputs": [
        {
          "output_type": "stream",
          "name": "stdout",
          "text": [
            "76197.65255813953\n"
          ]
        }
      ]
    },
    {
      "cell_type": "code",
      "source": [
        "from sklearn.metrics import mean_absolute_error\n",
        "print(mean_absolute_error(yp,y_test))"
      ],
      "metadata": {
        "id": "FwmtGIKCuhSF",
        "outputId": "bf7464a0-9e62-41ca-eb9d-1f6fbda444cf",
        "colab": {
          "base_uri": "https://localhost:8080/"
        }
      },
      "execution_count": 43,
      "outputs": [
        {
          "output_type": "stream",
          "name": "stdout",
          "text": [
            "102.56744186046514\n"
          ]
        }
      ]
    },
    {
      "cell_type": "code",
      "source": [
        "# Import necessary libraries\n",
        "import pandas as pd\n",
        "from sklearn.model_selection import train_test_split\n",
        "from sklearn.ensemble import RandomForestRegressor\n",
        "from sklearn.metrics import mean_squared_error, r2_score\n",
        "\n",
        "# Load your rainfall dataset (replace with your actual data)\n",
        "# For example, you can use the Austin, Texas weather dataset from Kaggle\n",
        "# Read the data into a Pandas DataFrame\n",
        "data = pd.read_csv('district.csv')\n",
        "\n",
        "print(f\"Random Forest Model Performance:\")\n",
        "print(f\"MSE: {mse:.2f}\")\n",
        "print(f\"MAE: {mae:.2f}\")"
      ],
      "metadata": {
        "id": "nZkXbTTKukTc",
        "outputId": "144defbc-5964-4097-99c7-a5e7c3005f20",
        "colab": {
          "base_uri": "https://localhost:8080/"
        }
      },
      "execution_count": 44,
      "outputs": [
        {
          "output_type": "stream",
          "name": "stdout",
          "text": [
            "Random Forest Model Performance:\n",
            "MSE: 7804.86\n",
            "MAE: 50.94\n"
          ]
        }
      ]
    },
    {
      "cell_type": "code",
      "source": [],
      "metadata": {
        "id": "NE6CuaCDumGJ"
      },
      "execution_count": null,
      "outputs": []
    }
  ]
}